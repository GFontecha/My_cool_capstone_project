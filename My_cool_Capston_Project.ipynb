{
 "cells": [
  {
   "cell_type": "markdown",
   "metadata": {
    "collapsed": true
   },
   "source": [
    "# My cool Capston Project\n",
    "\n",
    "## this notebook is to be used for the capston project. By GF"
   ]
  },
  {
   "cell_type": "markdown",
   "metadata": {},
   "source": [
    "#### import numpy and pandas and set display options"
   ]
  },
  {
   "cell_type": "code",
   "execution_count": 1,
   "metadata": {},
   "outputs": [],
   "source": [
    "import numpy as np\n",
    "np.set_printoptions(precision=8, suppress=True)\n",
    "import pandas as pd\n",
    "pd.set_option('display.max_rows',100)\n",
    "pd.set_option('display.max_columns',100)\n",
    "import time\n",
    "import multiprocessing as mp"
   ]
  },
  {
   "cell_type": "code",
   "execution_count": 2,
   "metadata": {},
   "outputs": [
    {
     "name": "stdout",
     "output_type": "stream",
     "text": [
      "Hello Capstone Project Course\n"
     ]
    }
   ],
   "source": [
    "print ('Hello Capstone Project Course')"
   ]
  },
  {
   "cell_type": "markdown",
   "metadata": {},
   "source": [
    "#### loading the dataframe"
   ]
  },
  {
   "cell_type": "code",
   "execution_count": 3,
   "metadata": {},
   "outputs": [
    {
     "data": {
      "text/html": [
       "<div>\n",
       "<style scoped>\n",
       "    .dataframe tbody tr th:only-of-type {\n",
       "        vertical-align: middle;\n",
       "    }\n",
       "\n",
       "    .dataframe tbody tr th {\n",
       "        vertical-align: top;\n",
       "    }\n",
       "\n",
       "    .dataframe thead th {\n",
       "        text-align: right;\n",
       "    }\n",
       "</style>\n",
       "<table border=\"1\" class=\"dataframe\">\n",
       "  <thead>\n",
       "    <tr style=\"text-align: right;\">\n",
       "      <th></th>\n",
       "      <th>NO_SEQ_COLL</th>\n",
       "      <th>JR_SEMN_ACCDN</th>\n",
       "      <th>DT_ACCDN</th>\n",
       "      <th>CD_MUNCP</th>\n",
       "      <th>NO_CIVIQ_ACCDN</th>\n",
       "      <th>SFX_NO_CIVIQ_ACCDN</th>\n",
       "      <th>BORNE_KM_ACCDN</th>\n",
       "      <th>RUE_ACCDN</th>\n",
       "      <th>TP_REPRR_ACCDN</th>\n",
       "      <th>ACCDN_PRES_DE</th>\n",
       "      <th>NB_METRE_DIST_ACCD</th>\n",
       "      <th>CD_GENRE_ACCDN</th>\n",
       "      <th>CD_SIT_PRTCE_ACCDN</th>\n",
       "      <th>CD_ETAT_SURFC</th>\n",
       "      <th>CD_ECLRM</th>\n",
       "      <th>CD_ENVRN_ACCDN</th>\n",
       "      <th>NO_ROUTE</th>\n",
       "      <th>CD_CATEG_ROUTE</th>\n",
       "      <th>CD_ETAT_CHASS</th>\n",
       "      <th>CD_ASPCT_ROUTE</th>\n",
       "      <th>CD_LOCLN_ACCDN</th>\n",
       "      <th>CD_POSI_ACCDN</th>\n",
       "      <th>CD_CONFG_ROUTE</th>\n",
       "      <th>CD_ZON_TRAVX_ROUTR</th>\n",
       "      <th>CD_PNT_CDRNL_ROUTE</th>\n",
       "      <th>CD_PNT_CDRNL_REPRR</th>\n",
       "      <th>CD_COND_METEO</th>\n",
       "      <th>NB_VEH_IMPLIQUES_ACCDN</th>\n",
       "      <th>NB_MORTS</th>\n",
       "      <th>NB_BLESSES_GRAVES</th>\n",
       "      <th>NB_BLESSES_LEGERS</th>\n",
       "      <th>HEURE_ACCDN</th>\n",
       "      <th>AN</th>\n",
       "      <th>NB_VICTIMES_TOTAL</th>\n",
       "      <th>GRAVITE</th>\n",
       "      <th>REG_ADM</th>\n",
       "      <th>MRC</th>\n",
       "      <th>nb_automobile_camion_leger</th>\n",
       "      <th>nb_camionLourd_tractRoutier</th>\n",
       "      <th>nb_outil_equipement</th>\n",
       "      <th>nb_tous_autobus_minibus</th>\n",
       "      <th>nb_bicyclette</th>\n",
       "      <th>nb_cyclomoteur</th>\n",
       "      <th>nb_motocyclette</th>\n",
       "      <th>nb_taxi</th>\n",
       "      <th>nb_urgence</th>\n",
       "      <th>nb_motoneige</th>\n",
       "      <th>nb_VHR</th>\n",
       "      <th>nb_autres_types</th>\n",
       "      <th>nb_veh_non_precise</th>\n",
       "      <th>NB_DECES_PIETON</th>\n",
       "      <th>NB_BLESSES_PIETON</th>\n",
       "      <th>NB_VICTIMES_PIETON</th>\n",
       "      <th>NB_DECES_MOTO</th>\n",
       "      <th>NB_BLESSES_MOTO</th>\n",
       "      <th>NB_VICTIMES_MOTO</th>\n",
       "      <th>NB_DECES_VELO</th>\n",
       "      <th>NB_BLESSES_VELO</th>\n",
       "      <th>NB_VICTIMES_VELO</th>\n",
       "      <th>VITESSE_AUTOR</th>\n",
       "      <th>LOC_X</th>\n",
       "      <th>LOC_Y</th>\n",
       "      <th>LOC_COTE_QD</th>\n",
       "      <th>LOC_COTE_PD</th>\n",
       "      <th>LOC_DETACHEE</th>\n",
       "      <th>LOC_IMPRECISION</th>\n",
       "      <th>LOC_LAT</th>\n",
       "      <th>LOC_LONG</th>\n",
       "    </tr>\n",
       "  </thead>\n",
       "  <tbody>\n",
       "    <tr>\n",
       "      <th>0</th>\n",
       "      <td>SPVM _ 2012 _ 1</td>\n",
       "      <td>ME</td>\n",
       "      <td>2012/02/01</td>\n",
       "      <td>66102.0</td>\n",
       "      <td>3501.0</td>\n",
       "      <td>NaN</td>\n",
       "      <td>NaN</td>\n",
       "      <td>ST CHARLES</td>\n",
       "      <td>2.0</td>\n",
       "      <td>STAT</td>\n",
       "      <td>NaN</td>\n",
       "      <td>31.0</td>\n",
       "      <td>NaN</td>\n",
       "      <td>16.0</td>\n",
       "      <td>1.0</td>\n",
       "      <td>1.0</td>\n",
       "      <td>NaN</td>\n",
       "      <td>21.0</td>\n",
       "      <td>NaN</td>\n",
       "      <td>11.0</td>\n",
       "      <td>33.0</td>\n",
       "      <td>NaN</td>\n",
       "      <td>4.0</td>\n",
       "      <td>NaN</td>\n",
       "      <td>NaN</td>\n",
       "      <td>NaN</td>\n",
       "      <td>11.0</td>\n",
       "      <td>2</td>\n",
       "      <td>0</td>\n",
       "      <td>0</td>\n",
       "      <td>0</td>\n",
       "      <td>Non précisé</td>\n",
       "      <td>2012</td>\n",
       "      <td>0</td>\n",
       "      <td>Dommages matériels inférieurs au seuil de rapp...</td>\n",
       "      <td>Montréal(06)</td>\n",
       "      <td>Montréal (66 )</td>\n",
       "      <td>1</td>\n",
       "      <td>0</td>\n",
       "      <td>0</td>\n",
       "      <td>0</td>\n",
       "      <td>0</td>\n",
       "      <td>0</td>\n",
       "      <td>0</td>\n",
       "      <td>0</td>\n",
       "      <td>0</td>\n",
       "      <td>0</td>\n",
       "      <td>0</td>\n",
       "      <td>0</td>\n",
       "      <td>1</td>\n",
       "      <td>0</td>\n",
       "      <td>0</td>\n",
       "      <td>0</td>\n",
       "      <td>0</td>\n",
       "      <td>0</td>\n",
       "      <td>0</td>\n",
       "      <td>0</td>\n",
       "      <td>0</td>\n",
       "      <td>0</td>\n",
       "      <td>NaN</td>\n",
       "      <td>276517.37950</td>\n",
       "      <td>5.035127e+06</td>\n",
       "      <td>A</td>\n",
       "      <td>3</td>\n",
       "      <td>O</td>\n",
       "      <td>N</td>\n",
       "      <td>45.45550</td>\n",
       "      <td>-73.86162</td>\n",
       "    </tr>\n",
       "    <tr>\n",
       "      <th>1</th>\n",
       "      <td>SPVM _ 2012 _ 2</td>\n",
       "      <td>SA</td>\n",
       "      <td>2012/06/02</td>\n",
       "      <td>66023.0</td>\n",
       "      <td>NaN</td>\n",
       "      <td>NaN</td>\n",
       "      <td>NaN</td>\n",
       "      <td>NaN</td>\n",
       "      <td>NaN</td>\n",
       "      <td>COTE VERTU ET AUT 40</td>\n",
       "      <td>NaN</td>\n",
       "      <td>59.0</td>\n",
       "      <td>NaN</td>\n",
       "      <td>11.0</td>\n",
       "      <td>1.0</td>\n",
       "      <td>3.0</td>\n",
       "      <td>NaN</td>\n",
       "      <td>11.0</td>\n",
       "      <td>NaN</td>\n",
       "      <td>22.0</td>\n",
       "      <td>37.0</td>\n",
       "      <td>NaN</td>\n",
       "      <td>1.0</td>\n",
       "      <td>NaN</td>\n",
       "      <td>NaN</td>\n",
       "      <td>NaN</td>\n",
       "      <td>11.0</td>\n",
       "      <td>1</td>\n",
       "      <td>0</td>\n",
       "      <td>0</td>\n",
       "      <td>0</td>\n",
       "      <td>15:00:00-15:59:00</td>\n",
       "      <td>2012</td>\n",
       "      <td>0</td>\n",
       "      <td>Dommages matériels seulement</td>\n",
       "      <td>Montréal(06)</td>\n",
       "      <td>Montréal (66 )</td>\n",
       "      <td>1</td>\n",
       "      <td>0</td>\n",
       "      <td>0</td>\n",
       "      <td>0</td>\n",
       "      <td>0</td>\n",
       "      <td>0</td>\n",
       "      <td>0</td>\n",
       "      <td>0</td>\n",
       "      <td>0</td>\n",
       "      <td>0</td>\n",
       "      <td>0</td>\n",
       "      <td>0</td>\n",
       "      <td>0</td>\n",
       "      <td>0</td>\n",
       "      <td>0</td>\n",
       "      <td>0</td>\n",
       "      <td>0</td>\n",
       "      <td>0</td>\n",
       "      <td>0</td>\n",
       "      <td>0</td>\n",
       "      <td>0</td>\n",
       "      <td>0</td>\n",
       "      <td>NaN</td>\n",
       "      <td>287913.26000</td>\n",
       "      <td>5.038666e+06</td>\n",
       "      <td>A</td>\n",
       "      <td>3</td>\n",
       "      <td>N</td>\n",
       "      <td>O</td>\n",
       "      <td>45.48772</td>\n",
       "      <td>-73.71603</td>\n",
       "    </tr>\n",
       "    <tr>\n",
       "      <th>2</th>\n",
       "      <td>SPVM _ 2012 _ 3</td>\n",
       "      <td>JE</td>\n",
       "      <td>2012/06/28</td>\n",
       "      <td>66023.0</td>\n",
       "      <td>NaN</td>\n",
       "      <td>NaN</td>\n",
       "      <td>NaN</td>\n",
       "      <td>COTE VERTU</td>\n",
       "      <td>1.0</td>\n",
       "      <td>DECARIE</td>\n",
       "      <td>NaN</td>\n",
       "      <td>31.0</td>\n",
       "      <td>NaN</td>\n",
       "      <td>11.0</td>\n",
       "      <td>1.0</td>\n",
       "      <td>3.0</td>\n",
       "      <td>NaN</td>\n",
       "      <td>13.0</td>\n",
       "      <td>NaN</td>\n",
       "      <td>11.0</td>\n",
       "      <td>32.0</td>\n",
       "      <td>NaN</td>\n",
       "      <td>3.0</td>\n",
       "      <td>NaN</td>\n",
       "      <td>NaN</td>\n",
       "      <td>O</td>\n",
       "      <td>11.0</td>\n",
       "      <td>2</td>\n",
       "      <td>0</td>\n",
       "      <td>0</td>\n",
       "      <td>0</td>\n",
       "      <td>08:00:00-08:59:00</td>\n",
       "      <td>2012</td>\n",
       "      <td>0</td>\n",
       "      <td>Dommages matériels inférieurs au seuil de rapp...</td>\n",
       "      <td>Montréal(06)</td>\n",
       "      <td>Montréal (66 )</td>\n",
       "      <td>1</td>\n",
       "      <td>0</td>\n",
       "      <td>0</td>\n",
       "      <td>1</td>\n",
       "      <td>0</td>\n",
       "      <td>0</td>\n",
       "      <td>0</td>\n",
       "      <td>0</td>\n",
       "      <td>0</td>\n",
       "      <td>0</td>\n",
       "      <td>0</td>\n",
       "      <td>0</td>\n",
       "      <td>0</td>\n",
       "      <td>0</td>\n",
       "      <td>0</td>\n",
       "      <td>0</td>\n",
       "      <td>0</td>\n",
       "      <td>0</td>\n",
       "      <td>0</td>\n",
       "      <td>0</td>\n",
       "      <td>0</td>\n",
       "      <td>0</td>\n",
       "      <td>50.0</td>\n",
       "      <td>290518.82501</td>\n",
       "      <td>5.041617e+06</td>\n",
       "      <td>A</td>\n",
       "      <td>1</td>\n",
       "      <td>N</td>\n",
       "      <td>N</td>\n",
       "      <td>45.51432</td>\n",
       "      <td>-73.68279</td>\n",
       "    </tr>\n",
       "    <tr>\n",
       "      <th>3</th>\n",
       "      <td>SPVM _ 2012 _ 4</td>\n",
       "      <td>ME</td>\n",
       "      <td>2012/07/11</td>\n",
       "      <td>66023.0</td>\n",
       "      <td>NaN</td>\n",
       "      <td>NaN</td>\n",
       "      <td>NaN</td>\n",
       "      <td>ST MATHIEU</td>\n",
       "      <td>1.0</td>\n",
       "      <td>RENE LEVESQUE</td>\n",
       "      <td>50.0</td>\n",
       "      <td>31.0</td>\n",
       "      <td>NaN</td>\n",
       "      <td>11.0</td>\n",
       "      <td>3.0</td>\n",
       "      <td>3.0</td>\n",
       "      <td>NaN</td>\n",
       "      <td>13.0</td>\n",
       "      <td>NaN</td>\n",
       "      <td>11.0</td>\n",
       "      <td>33.0</td>\n",
       "      <td>NaN</td>\n",
       "      <td>2.0</td>\n",
       "      <td>NaN</td>\n",
       "      <td>NaN</td>\n",
       "      <td>NaN</td>\n",
       "      <td>11.0</td>\n",
       "      <td>2</td>\n",
       "      <td>0</td>\n",
       "      <td>0</td>\n",
       "      <td>0</td>\n",
       "      <td>09:00:00-09:59:00</td>\n",
       "      <td>2012</td>\n",
       "      <td>0</td>\n",
       "      <td>Dommages matériels inférieurs au seuil de rapp...</td>\n",
       "      <td>Montréal(06)</td>\n",
       "      <td>Montréal (66 )</td>\n",
       "      <td>1</td>\n",
       "      <td>0</td>\n",
       "      <td>0</td>\n",
       "      <td>0</td>\n",
       "      <td>0</td>\n",
       "      <td>0</td>\n",
       "      <td>0</td>\n",
       "      <td>0</td>\n",
       "      <td>0</td>\n",
       "      <td>0</td>\n",
       "      <td>0</td>\n",
       "      <td>1</td>\n",
       "      <td>0</td>\n",
       "      <td>0</td>\n",
       "      <td>0</td>\n",
       "      <td>0</td>\n",
       "      <td>0</td>\n",
       "      <td>0</td>\n",
       "      <td>0</td>\n",
       "      <td>0</td>\n",
       "      <td>0</td>\n",
       "      <td>0</td>\n",
       "      <td>50.0</td>\n",
       "      <td>298822.88600</td>\n",
       "      <td>5.039146e+06</td>\n",
       "      <td>A</td>\n",
       "      <td>3</td>\n",
       "      <td>N</td>\n",
       "      <td>N</td>\n",
       "      <td>45.49221</td>\n",
       "      <td>-73.57647</td>\n",
       "    </tr>\n",
       "    <tr>\n",
       "      <th>4</th>\n",
       "      <td>SPVM _ 2012 _ 5</td>\n",
       "      <td>LU</td>\n",
       "      <td>2012/01/02</td>\n",
       "      <td>66023.0</td>\n",
       "      <td>4849.0</td>\n",
       "      <td>NaN</td>\n",
       "      <td>NaN</td>\n",
       "      <td>ST JEAN</td>\n",
       "      <td>NaN</td>\n",
       "      <td>NaN</td>\n",
       "      <td>NaN</td>\n",
       "      <td>31.0</td>\n",
       "      <td>NaN</td>\n",
       "      <td>12.0</td>\n",
       "      <td>1.0</td>\n",
       "      <td>3.0</td>\n",
       "      <td>NaN</td>\n",
       "      <td>21.0</td>\n",
       "      <td>NaN</td>\n",
       "      <td>NaN</td>\n",
       "      <td>NaN</td>\n",
       "      <td>NaN</td>\n",
       "      <td>NaN</td>\n",
       "      <td>NaN</td>\n",
       "      <td>NaN</td>\n",
       "      <td>NaN</td>\n",
       "      <td>11.0</td>\n",
       "      <td>2</td>\n",
       "      <td>0</td>\n",
       "      <td>0</td>\n",
       "      <td>0</td>\n",
       "      <td>Non précisé</td>\n",
       "      <td>2012</td>\n",
       "      <td>0</td>\n",
       "      <td>Dommages matériels seulement</td>\n",
       "      <td>Montréal(06)</td>\n",
       "      <td>Montréal (66 )</td>\n",
       "      <td>1</td>\n",
       "      <td>0</td>\n",
       "      <td>0</td>\n",
       "      <td>0</td>\n",
       "      <td>0</td>\n",
       "      <td>0</td>\n",
       "      <td>0</td>\n",
       "      <td>0</td>\n",
       "      <td>0</td>\n",
       "      <td>0</td>\n",
       "      <td>0</td>\n",
       "      <td>0</td>\n",
       "      <td>1</td>\n",
       "      <td>0</td>\n",
       "      <td>0</td>\n",
       "      <td>0</td>\n",
       "      <td>0</td>\n",
       "      <td>0</td>\n",
       "      <td>0</td>\n",
       "      <td>0</td>\n",
       "      <td>0</td>\n",
       "      <td>0</td>\n",
       "      <td>NaN</td>\n",
       "      <td>277433.35738</td>\n",
       "      <td>5.038881e+06</td>\n",
       "      <td>A</td>\n",
       "      <td>1</td>\n",
       "      <td>O</td>\n",
       "      <td>N</td>\n",
       "      <td>45.48932</td>\n",
       "      <td>-73.85011</td>\n",
       "    </tr>\n",
       "  </tbody>\n",
       "</table>\n",
       "</div>"
      ],
      "text/plain": [
       "       NO_SEQ_COLL JR_SEMN_ACCDN    DT_ACCDN  CD_MUNCP  NO_CIVIQ_ACCDN  \\\n",
       "0  SPVM _ 2012 _ 1            ME  2012/02/01   66102.0          3501.0   \n",
       "1  SPVM _ 2012 _ 2            SA  2012/06/02   66023.0             NaN   \n",
       "2  SPVM _ 2012 _ 3            JE  2012/06/28   66023.0             NaN   \n",
       "3  SPVM _ 2012 _ 4            ME  2012/07/11   66023.0             NaN   \n",
       "4  SPVM _ 2012 _ 5            LU  2012/01/02   66023.0          4849.0   \n",
       "\n",
       "  SFX_NO_CIVIQ_ACCDN  BORNE_KM_ACCDN   RUE_ACCDN  TP_REPRR_ACCDN  \\\n",
       "0                NaN             NaN  ST CHARLES             2.0   \n",
       "1                NaN             NaN         NaN             NaN   \n",
       "2                NaN             NaN  COTE VERTU             1.0   \n",
       "3                NaN             NaN  ST MATHIEU             1.0   \n",
       "4                NaN             NaN     ST JEAN             NaN   \n",
       "\n",
       "          ACCDN_PRES_DE  NB_METRE_DIST_ACCD  CD_GENRE_ACCDN  \\\n",
       "0                  STAT                 NaN            31.0   \n",
       "1  COTE VERTU ET AUT 40                 NaN            59.0   \n",
       "2               DECARIE                 NaN            31.0   \n",
       "3         RENE LEVESQUE                50.0            31.0   \n",
       "4                   NaN                 NaN            31.0   \n",
       "\n",
       "   CD_SIT_PRTCE_ACCDN  CD_ETAT_SURFC  CD_ECLRM  CD_ENVRN_ACCDN  NO_ROUTE  \\\n",
       "0                 NaN           16.0       1.0             1.0       NaN   \n",
       "1                 NaN           11.0       1.0             3.0       NaN   \n",
       "2                 NaN           11.0       1.0             3.0       NaN   \n",
       "3                 NaN           11.0       3.0             3.0       NaN   \n",
       "4                 NaN           12.0       1.0             3.0       NaN   \n",
       "\n",
       "   CD_CATEG_ROUTE  CD_ETAT_CHASS  CD_ASPCT_ROUTE  CD_LOCLN_ACCDN  \\\n",
       "0            21.0            NaN            11.0            33.0   \n",
       "1            11.0            NaN            22.0            37.0   \n",
       "2            13.0            NaN            11.0            32.0   \n",
       "3            13.0            NaN            11.0            33.0   \n",
       "4            21.0            NaN             NaN             NaN   \n",
       "\n",
       "   CD_POSI_ACCDN  CD_CONFG_ROUTE  CD_ZON_TRAVX_ROUTR CD_PNT_CDRNL_ROUTE  \\\n",
       "0            NaN             4.0                 NaN                NaN   \n",
       "1            NaN             1.0                 NaN                NaN   \n",
       "2            NaN             3.0                 NaN                NaN   \n",
       "3            NaN             2.0                 NaN                NaN   \n",
       "4            NaN             NaN                 NaN                NaN   \n",
       "\n",
       "  CD_PNT_CDRNL_REPRR  CD_COND_METEO  NB_VEH_IMPLIQUES_ACCDN  NB_MORTS  \\\n",
       "0                NaN           11.0                       2         0   \n",
       "1                NaN           11.0                       1         0   \n",
       "2                  O           11.0                       2         0   \n",
       "3                NaN           11.0                       2         0   \n",
       "4                NaN           11.0                       2         0   \n",
       "\n",
       "   NB_BLESSES_GRAVES  NB_BLESSES_LEGERS        HEURE_ACCDN    AN  \\\n",
       "0                  0                  0        Non précisé  2012   \n",
       "1                  0                  0  15:00:00-15:59:00  2012   \n",
       "2                  0                  0  08:00:00-08:59:00  2012   \n",
       "3                  0                  0  09:00:00-09:59:00  2012   \n",
       "4                  0                  0        Non précisé  2012   \n",
       "\n",
       "   NB_VICTIMES_TOTAL                                            GRAVITE  \\\n",
       "0                  0  Dommages matériels inférieurs au seuil de rapp...   \n",
       "1                  0                       Dommages matériels seulement   \n",
       "2                  0  Dommages matériels inférieurs au seuil de rapp...   \n",
       "3                  0  Dommages matériels inférieurs au seuil de rapp...   \n",
       "4                  0                       Dommages matériels seulement   \n",
       "\n",
       "        REG_ADM             MRC  nb_automobile_camion_leger  \\\n",
       "0  Montréal(06)  Montréal (66 )                           1   \n",
       "1  Montréal(06)  Montréal (66 )                           1   \n",
       "2  Montréal(06)  Montréal (66 )                           1   \n",
       "3  Montréal(06)  Montréal (66 )                           1   \n",
       "4  Montréal(06)  Montréal (66 )                           1   \n",
       "\n",
       "   nb_camionLourd_tractRoutier  nb_outil_equipement  nb_tous_autobus_minibus  \\\n",
       "0                            0                    0                        0   \n",
       "1                            0                    0                        0   \n",
       "2                            0                    0                        1   \n",
       "3                            0                    0                        0   \n",
       "4                            0                    0                        0   \n",
       "\n",
       "   nb_bicyclette  nb_cyclomoteur  nb_motocyclette  nb_taxi  nb_urgence  \\\n",
       "0              0               0                0        0           0   \n",
       "1              0               0                0        0           0   \n",
       "2              0               0                0        0           0   \n",
       "3              0               0                0        0           0   \n",
       "4              0               0                0        0           0   \n",
       "\n",
       "   nb_motoneige  nb_VHR  nb_autres_types  nb_veh_non_precise  NB_DECES_PIETON  \\\n",
       "0             0       0                0                   1                0   \n",
       "1             0       0                0                   0                0   \n",
       "2             0       0                0                   0                0   \n",
       "3             0       0                1                   0                0   \n",
       "4             0       0                0                   1                0   \n",
       "\n",
       "   NB_BLESSES_PIETON  NB_VICTIMES_PIETON  NB_DECES_MOTO  NB_BLESSES_MOTO  \\\n",
       "0                  0                   0              0                0   \n",
       "1                  0                   0              0                0   \n",
       "2                  0                   0              0                0   \n",
       "3                  0                   0              0                0   \n",
       "4                  0                   0              0                0   \n",
       "\n",
       "   NB_VICTIMES_MOTO  NB_DECES_VELO  NB_BLESSES_VELO  NB_VICTIMES_VELO  \\\n",
       "0                 0              0                0                 0   \n",
       "1                 0              0                0                 0   \n",
       "2                 0              0                0                 0   \n",
       "3                 0              0                0                 0   \n",
       "4                 0              0                0                 0   \n",
       "\n",
       "   VITESSE_AUTOR         LOC_X         LOC_Y LOC_COTE_QD  LOC_COTE_PD  \\\n",
       "0            NaN  276517.37950  5.035127e+06           A            3   \n",
       "1            NaN  287913.26000  5.038666e+06           A            3   \n",
       "2           50.0  290518.82501  5.041617e+06           A            1   \n",
       "3           50.0  298822.88600  5.039146e+06           A            3   \n",
       "4            NaN  277433.35738  5.038881e+06           A            1   \n",
       "\n",
       "  LOC_DETACHEE LOC_IMPRECISION   LOC_LAT  LOC_LONG  \n",
       "0            O               N  45.45550 -73.86162  \n",
       "1            N               O  45.48772 -73.71603  \n",
       "2            N               N  45.51432 -73.68279  \n",
       "3            N               N  45.49221 -73.57647  \n",
       "4            O               N  45.48932 -73.85011  "
      ]
     },
     "execution_count": 3,
     "metadata": {},
     "output_type": "execute_result"
    }
   ],
   "source": [
    "\n",
    "df = pd.read_csv(r'D:\\Mi Dropbox\\Dropbox\\1 Materiales compuestos\\Modelos\\IBM courses\\Capstone project\\collisions_routieres.csv')\n",
    "df.head()\n"
   ]
  },
  {
   "cell_type": "code",
   "execution_count": 4,
   "metadata": {},
   "outputs": [
    {
     "data": {
      "text/plain": [
       "(190552, 68)"
      ]
     },
     "execution_count": 4,
     "metadata": {},
     "output_type": "execute_result"
    }
   ],
   "source": [
    "df.shape"
   ]
  },
  {
   "cell_type": "code",
   "execution_count": 5,
   "metadata": {},
   "outputs": [
    {
     "data": {
      "text/plain": [
       "Index(['NO_SEQ_COLL', 'JR_SEMN_ACCDN', 'DT_ACCDN', 'CD_MUNCP',\n",
       "       'NO_CIVIQ_ACCDN', 'SFX_NO_CIVIQ_ACCDN', 'BORNE_KM_ACCDN', 'RUE_ACCDN',\n",
       "       'TP_REPRR_ACCDN', 'ACCDN_PRES_DE', 'NB_METRE_DIST_ACCD',\n",
       "       'CD_GENRE_ACCDN', 'CD_SIT_PRTCE_ACCDN', 'CD_ETAT_SURFC', 'CD_ECLRM',\n",
       "       'CD_ENVRN_ACCDN', 'NO_ROUTE', 'CD_CATEG_ROUTE', 'CD_ETAT_CHASS',\n",
       "       'CD_ASPCT_ROUTE', 'CD_LOCLN_ACCDN', 'CD_POSI_ACCDN', 'CD_CONFG_ROUTE',\n",
       "       'CD_ZON_TRAVX_ROUTR', 'CD_PNT_CDRNL_ROUTE', 'CD_PNT_CDRNL_REPRR',\n",
       "       'CD_COND_METEO', 'NB_VEH_IMPLIQUES_ACCDN', 'NB_MORTS',\n",
       "       'NB_BLESSES_GRAVES', 'NB_BLESSES_LEGERS', 'HEURE_ACCDN', 'AN',\n",
       "       'NB_VICTIMES_TOTAL', 'GRAVITE', 'REG_ADM', 'MRC',\n",
       "       'nb_automobile_camion_leger', 'nb_camionLourd_tractRoutier',\n",
       "       'nb_outil_equipement', 'nb_tous_autobus_minibus', 'nb_bicyclette',\n",
       "       'nb_cyclomoteur', 'nb_motocyclette', 'nb_taxi', 'nb_urgence',\n",
       "       'nb_motoneige', 'nb_VHR', 'nb_autres_types', 'nb_veh_non_precise',\n",
       "       'NB_DECES_PIETON', 'NB_BLESSES_PIETON', 'NB_VICTIMES_PIETON',\n",
       "       'NB_DECES_MOTO', 'NB_BLESSES_MOTO', 'NB_VICTIMES_MOTO', 'NB_DECES_VELO',\n",
       "       'NB_BLESSES_VELO', 'NB_VICTIMES_VELO', 'VITESSE_AUTOR', 'LOC_X',\n",
       "       'LOC_Y', 'LOC_COTE_QD', 'LOC_COTE_PD', 'LOC_DETACHEE',\n",
       "       'LOC_IMPRECISION', 'LOC_LAT', 'LOC_LONG'],\n",
       "      dtype='object')"
      ]
     },
     "execution_count": 5,
     "metadata": {},
     "output_type": "execute_result"
    }
   ],
   "source": [
    "df.columns"
   ]
  },
  {
   "cell_type": "code",
   "execution_count": 6,
   "metadata": {},
   "outputs": [
    {
     "data": {
      "text/plain": [
       "NO_SEQ_COLL                     object\n",
       "JR_SEMN_ACCDN                   object\n",
       "DT_ACCDN                        object\n",
       "CD_MUNCP                       float64\n",
       "NO_CIVIQ_ACCDN                 float64\n",
       "SFX_NO_CIVIQ_ACCDN              object\n",
       "BORNE_KM_ACCDN                 float64\n",
       "RUE_ACCDN                       object\n",
       "TP_REPRR_ACCDN                 float64\n",
       "ACCDN_PRES_DE                   object\n",
       "NB_METRE_DIST_ACCD             float64\n",
       "CD_GENRE_ACCDN                 float64\n",
       "CD_SIT_PRTCE_ACCDN             float64\n",
       "CD_ETAT_SURFC                  float64\n",
       "CD_ECLRM                       float64\n",
       "CD_ENVRN_ACCDN                 float64\n",
       "NO_ROUTE                       float64\n",
       "CD_CATEG_ROUTE                 float64\n",
       "CD_ETAT_CHASS                  float64\n",
       "CD_ASPCT_ROUTE                 float64\n",
       "CD_LOCLN_ACCDN                 float64\n",
       "CD_POSI_ACCDN                  float64\n",
       "CD_CONFG_ROUTE                 float64\n",
       "CD_ZON_TRAVX_ROUTR             float64\n",
       "CD_PNT_CDRNL_ROUTE              object\n",
       "CD_PNT_CDRNL_REPRR              object\n",
       "CD_COND_METEO                  float64\n",
       "NB_VEH_IMPLIQUES_ACCDN           int64\n",
       "NB_MORTS                         int64\n",
       "NB_BLESSES_GRAVES                int64\n",
       "NB_BLESSES_LEGERS                int64\n",
       "HEURE_ACCDN                     object\n",
       "AN                               int64\n",
       "NB_VICTIMES_TOTAL                int64\n",
       "GRAVITE                         object\n",
       "REG_ADM                         object\n",
       "MRC                             object\n",
       "nb_automobile_camion_leger       int64\n",
       "nb_camionLourd_tractRoutier      int64\n",
       "nb_outil_equipement              int64\n",
       "nb_tous_autobus_minibus          int64\n",
       "nb_bicyclette                    int64\n",
       "nb_cyclomoteur                   int64\n",
       "nb_motocyclette                  int64\n",
       "nb_taxi                          int64\n",
       "nb_urgence                       int64\n",
       "nb_motoneige                     int64\n",
       "nb_VHR                           int64\n",
       "nb_autres_types                  int64\n",
       "nb_veh_non_precise               int64\n",
       "NB_DECES_PIETON                  int64\n",
       "NB_BLESSES_PIETON                int64\n",
       "NB_VICTIMES_PIETON               int64\n",
       "NB_DECES_MOTO                    int64\n",
       "NB_BLESSES_MOTO                  int64\n",
       "NB_VICTIMES_MOTO                 int64\n",
       "NB_DECES_VELO                    int64\n",
       "NB_BLESSES_VELO                  int64\n",
       "NB_VICTIMES_VELO                 int64\n",
       "VITESSE_AUTOR                  float64\n",
       "LOC_X                          float64\n",
       "LOC_Y                          float64\n",
       "LOC_COTE_QD                     object\n",
       "LOC_COTE_PD                      int64\n",
       "LOC_DETACHEE                    object\n",
       "LOC_IMPRECISION                 object\n",
       "LOC_LAT                        float64\n",
       "LOC_LONG                       float64\n",
       "dtype: object"
      ]
     },
     "execution_count": 6,
     "metadata": {},
     "output_type": "execute_result"
    }
   ],
   "source": [
    "df.dtypes"
   ]
  },
  {
   "cell_type": "markdown",
   "metadata": {},
   "source": [
    "# the variable GRAVITE means severity of the accident\n",
    "## this is the variable to be predicted\n",
    "#### analyzing and converting the series GRAVITE to numeric values\n",
    "#### as an outcome, we will get a series called Sev"
   ]
  },
  {
   "cell_type": "code",
   "execution_count": 7,
   "metadata": {},
   "outputs": [
    {
     "data": {
      "text/plain": [
       "array(['Dommages matériels inférieurs au seuil de rapportage',\n",
       "       'Dommages matériels seulement', 'Léger', 'Grave', 'Mortel'],\n",
       "      dtype=object)"
      ]
     },
     "execution_count": 7,
     "metadata": {},
     "output_type": "execute_result"
    }
   ],
   "source": [
    "df['GRAVITE'].unique()"
   ]
  },
  {
   "cell_type": "markdown",
   "metadata": {},
   "source": [
    "##### Code 1 is given to an accident with minor material damages\n",
    "##### Code 2 is given to an accident with major material damages\n",
    "##### Code 3 is given to minor injures in persons\n",
    "##### Code 4 is given to major injures in persons\n",
    "##### Code 5 is given to accidents with dead persons within 30 days of the occurrence"
   ]
  },
  {
   "cell_type": "code",
   "execution_count": 8,
   "metadata": {},
   "outputs": [
    {
     "data": {
      "text/html": [
       "<div>\n",
       "<style scoped>\n",
       "    .dataframe tbody tr th:only-of-type {\n",
       "        vertical-align: middle;\n",
       "    }\n",
       "\n",
       "    .dataframe tbody tr th {\n",
       "        vertical-align: top;\n",
       "    }\n",
       "\n",
       "    .dataframe thead th {\n",
       "        text-align: right;\n",
       "    }\n",
       "</style>\n",
       "<table border=\"1\" class=\"dataframe\">\n",
       "  <thead>\n",
       "    <tr style=\"text-align: right;\">\n",
       "      <th></th>\n",
       "      <th>NO_SEQ_COLL</th>\n",
       "      <th>JR_SEMN_ACCDN</th>\n",
       "      <th>DT_ACCDN</th>\n",
       "      <th>CD_MUNCP</th>\n",
       "      <th>NO_CIVIQ_ACCDN</th>\n",
       "      <th>SFX_NO_CIVIQ_ACCDN</th>\n",
       "      <th>BORNE_KM_ACCDN</th>\n",
       "      <th>RUE_ACCDN</th>\n",
       "      <th>TP_REPRR_ACCDN</th>\n",
       "      <th>ACCDN_PRES_DE</th>\n",
       "      <th>NB_METRE_DIST_ACCD</th>\n",
       "      <th>CD_GENRE_ACCDN</th>\n",
       "      <th>CD_SIT_PRTCE_ACCDN</th>\n",
       "      <th>CD_ETAT_SURFC</th>\n",
       "      <th>CD_ECLRM</th>\n",
       "      <th>CD_ENVRN_ACCDN</th>\n",
       "      <th>NO_ROUTE</th>\n",
       "      <th>CD_CATEG_ROUTE</th>\n",
       "      <th>CD_ETAT_CHASS</th>\n",
       "      <th>CD_ASPCT_ROUTE</th>\n",
       "      <th>CD_LOCLN_ACCDN</th>\n",
       "      <th>CD_POSI_ACCDN</th>\n",
       "      <th>CD_CONFG_ROUTE</th>\n",
       "      <th>CD_ZON_TRAVX_ROUTR</th>\n",
       "      <th>CD_PNT_CDRNL_ROUTE</th>\n",
       "      <th>CD_PNT_CDRNL_REPRR</th>\n",
       "      <th>CD_COND_METEO</th>\n",
       "      <th>NB_VEH_IMPLIQUES_ACCDN</th>\n",
       "      <th>NB_MORTS</th>\n",
       "      <th>NB_BLESSES_GRAVES</th>\n",
       "      <th>NB_BLESSES_LEGERS</th>\n",
       "      <th>HEURE_ACCDN</th>\n",
       "      <th>AN</th>\n",
       "      <th>NB_VICTIMES_TOTAL</th>\n",
       "      <th>REG_ADM</th>\n",
       "      <th>MRC</th>\n",
       "      <th>nb_automobile_camion_leger</th>\n",
       "      <th>nb_camionLourd_tractRoutier</th>\n",
       "      <th>nb_outil_equipement</th>\n",
       "      <th>nb_tous_autobus_minibus</th>\n",
       "      <th>nb_bicyclette</th>\n",
       "      <th>nb_cyclomoteur</th>\n",
       "      <th>nb_motocyclette</th>\n",
       "      <th>nb_taxi</th>\n",
       "      <th>nb_urgence</th>\n",
       "      <th>nb_motoneige</th>\n",
       "      <th>nb_VHR</th>\n",
       "      <th>nb_autres_types</th>\n",
       "      <th>nb_veh_non_precise</th>\n",
       "      <th>NB_DECES_PIETON</th>\n",
       "      <th>NB_BLESSES_PIETON</th>\n",
       "      <th>NB_VICTIMES_PIETON</th>\n",
       "      <th>NB_DECES_MOTO</th>\n",
       "      <th>NB_BLESSES_MOTO</th>\n",
       "      <th>NB_VICTIMES_MOTO</th>\n",
       "      <th>NB_DECES_VELO</th>\n",
       "      <th>NB_BLESSES_VELO</th>\n",
       "      <th>NB_VICTIMES_VELO</th>\n",
       "      <th>VITESSE_AUTOR</th>\n",
       "      <th>LOC_X</th>\n",
       "      <th>LOC_Y</th>\n",
       "      <th>LOC_COTE_QD</th>\n",
       "      <th>LOC_COTE_PD</th>\n",
       "      <th>LOC_DETACHEE</th>\n",
       "      <th>LOC_IMPRECISION</th>\n",
       "      <th>LOC_LAT</th>\n",
       "      <th>LOC_LONG</th>\n",
       "    </tr>\n",
       "    <tr>\n",
       "      <th>GRAVITE</th>\n",
       "      <th></th>\n",
       "      <th></th>\n",
       "      <th></th>\n",
       "      <th></th>\n",
       "      <th></th>\n",
       "      <th></th>\n",
       "      <th></th>\n",
       "      <th></th>\n",
       "      <th></th>\n",
       "      <th></th>\n",
       "      <th></th>\n",
       "      <th></th>\n",
       "      <th></th>\n",
       "      <th></th>\n",
       "      <th></th>\n",
       "      <th></th>\n",
       "      <th></th>\n",
       "      <th></th>\n",
       "      <th></th>\n",
       "      <th></th>\n",
       "      <th></th>\n",
       "      <th></th>\n",
       "      <th></th>\n",
       "      <th></th>\n",
       "      <th></th>\n",
       "      <th></th>\n",
       "      <th></th>\n",
       "      <th></th>\n",
       "      <th></th>\n",
       "      <th></th>\n",
       "      <th></th>\n",
       "      <th></th>\n",
       "      <th></th>\n",
       "      <th></th>\n",
       "      <th></th>\n",
       "      <th></th>\n",
       "      <th></th>\n",
       "      <th></th>\n",
       "      <th></th>\n",
       "      <th></th>\n",
       "      <th></th>\n",
       "      <th></th>\n",
       "      <th></th>\n",
       "      <th></th>\n",
       "      <th></th>\n",
       "      <th></th>\n",
       "      <th></th>\n",
       "      <th></th>\n",
       "      <th></th>\n",
       "      <th></th>\n",
       "      <th></th>\n",
       "      <th></th>\n",
       "      <th></th>\n",
       "      <th></th>\n",
       "      <th></th>\n",
       "      <th></th>\n",
       "      <th></th>\n",
       "      <th></th>\n",
       "      <th></th>\n",
       "      <th></th>\n",
       "      <th></th>\n",
       "      <th></th>\n",
       "      <th></th>\n",
       "      <th></th>\n",
       "      <th></th>\n",
       "      <th></th>\n",
       "      <th></th>\n",
       "    </tr>\n",
       "  </thead>\n",
       "  <tbody>\n",
       "    <tr>\n",
       "      <th>Dommages matériels inférieurs au seuil de rapportage</th>\n",
       "      <td>78300</td>\n",
       "      <td>78300</td>\n",
       "      <td>78300</td>\n",
       "      <td>78299</td>\n",
       "      <td>40940</td>\n",
       "      <td>184</td>\n",
       "      <td>20</td>\n",
       "      <td>73755</td>\n",
       "      <td>41732</td>\n",
       "      <td>46808</td>\n",
       "      <td>19979</td>\n",
       "      <td>72606</td>\n",
       "      <td>1374</td>\n",
       "      <td>70625</td>\n",
       "      <td>70700</td>\n",
       "      <td>74759</td>\n",
       "      <td>217</td>\n",
       "      <td>75216</td>\n",
       "      <td>2947</td>\n",
       "      <td>72468</td>\n",
       "      <td>68432</td>\n",
       "      <td>2648</td>\n",
       "      <td>65437</td>\n",
       "      <td>1357</td>\n",
       "      <td>49</td>\n",
       "      <td>24619</td>\n",
       "      <td>70207</td>\n",
       "      <td>78300</td>\n",
       "      <td>78300</td>\n",
       "      <td>78300</td>\n",
       "      <td>78300</td>\n",
       "      <td>78300</td>\n",
       "      <td>78300</td>\n",
       "      <td>78300</td>\n",
       "      <td>78298</td>\n",
       "      <td>78298</td>\n",
       "      <td>78300</td>\n",
       "      <td>78300</td>\n",
       "      <td>78300</td>\n",
       "      <td>78300</td>\n",
       "      <td>78300</td>\n",
       "      <td>78300</td>\n",
       "      <td>78300</td>\n",
       "      <td>78300</td>\n",
       "      <td>78300</td>\n",
       "      <td>78300</td>\n",
       "      <td>78300</td>\n",
       "      <td>78300</td>\n",
       "      <td>78300</td>\n",
       "      <td>78300</td>\n",
       "      <td>78300</td>\n",
       "      <td>78300</td>\n",
       "      <td>78300</td>\n",
       "      <td>78300</td>\n",
       "      <td>78300</td>\n",
       "      <td>78300</td>\n",
       "      <td>78300</td>\n",
       "      <td>78300</td>\n",
       "      <td>39070</td>\n",
       "      <td>78293</td>\n",
       "      <td>78293</td>\n",
       "      <td>78300</td>\n",
       "      <td>78300</td>\n",
       "      <td>78296</td>\n",
       "      <td>78300</td>\n",
       "      <td>78293</td>\n",
       "      <td>78293</td>\n",
       "    </tr>\n",
       "    <tr>\n",
       "      <th>Dommages matériels seulement</th>\n",
       "      <td>71670</td>\n",
       "      <td>71670</td>\n",
       "      <td>71670</td>\n",
       "      <td>71670</td>\n",
       "      <td>30881</td>\n",
       "      <td>143</td>\n",
       "      <td>21</td>\n",
       "      <td>67030</td>\n",
       "      <td>44561</td>\n",
       "      <td>48711</td>\n",
       "      <td>18415</td>\n",
       "      <td>67974</td>\n",
       "      <td>1836</td>\n",
       "      <td>67899</td>\n",
       "      <td>67648</td>\n",
       "      <td>69307</td>\n",
       "      <td>210</td>\n",
       "      <td>69683</td>\n",
       "      <td>4622</td>\n",
       "      <td>68796</td>\n",
       "      <td>66461</td>\n",
       "      <td>4183</td>\n",
       "      <td>65762</td>\n",
       "      <td>1453</td>\n",
       "      <td>64</td>\n",
       "      <td>23754</td>\n",
       "      <td>67648</td>\n",
       "      <td>71670</td>\n",
       "      <td>71670</td>\n",
       "      <td>71670</td>\n",
       "      <td>71670</td>\n",
       "      <td>71670</td>\n",
       "      <td>71670</td>\n",
       "      <td>71670</td>\n",
       "      <td>71670</td>\n",
       "      <td>71670</td>\n",
       "      <td>71670</td>\n",
       "      <td>71670</td>\n",
       "      <td>71670</td>\n",
       "      <td>71670</td>\n",
       "      <td>71670</td>\n",
       "      <td>71670</td>\n",
       "      <td>71670</td>\n",
       "      <td>71670</td>\n",
       "      <td>71670</td>\n",
       "      <td>71670</td>\n",
       "      <td>71670</td>\n",
       "      <td>71670</td>\n",
       "      <td>71670</td>\n",
       "      <td>71670</td>\n",
       "      <td>71670</td>\n",
       "      <td>71670</td>\n",
       "      <td>71670</td>\n",
       "      <td>71670</td>\n",
       "      <td>71670</td>\n",
       "      <td>71670</td>\n",
       "      <td>71670</td>\n",
       "      <td>71670</td>\n",
       "      <td>45713</td>\n",
       "      <td>71665</td>\n",
       "      <td>71665</td>\n",
       "      <td>71670</td>\n",
       "      <td>71670</td>\n",
       "      <td>71670</td>\n",
       "      <td>71670</td>\n",
       "      <td>71665</td>\n",
       "      <td>71665</td>\n",
       "    </tr>\n",
       "    <tr>\n",
       "      <th>Grave</th>\n",
       "      <td>1543</td>\n",
       "      <td>1543</td>\n",
       "      <td>1543</td>\n",
       "      <td>1543</td>\n",
       "      <td>399</td>\n",
       "      <td>0</td>\n",
       "      <td>0</td>\n",
       "      <td>1443</td>\n",
       "      <td>1177</td>\n",
       "      <td>1252</td>\n",
       "      <td>340</td>\n",
       "      <td>1532</td>\n",
       "      <td>52</td>\n",
       "      <td>1518</td>\n",
       "      <td>1522</td>\n",
       "      <td>1522</td>\n",
       "      <td>5</td>\n",
       "      <td>1525</td>\n",
       "      <td>1455</td>\n",
       "      <td>1525</td>\n",
       "      <td>1500</td>\n",
       "      <td>1352</td>\n",
       "      <td>1495</td>\n",
       "      <td>37</td>\n",
       "      <td>4</td>\n",
       "      <td>466</td>\n",
       "      <td>1517</td>\n",
       "      <td>1543</td>\n",
       "      <td>1543</td>\n",
       "      <td>1543</td>\n",
       "      <td>1543</td>\n",
       "      <td>1543</td>\n",
       "      <td>1543</td>\n",
       "      <td>1543</td>\n",
       "      <td>1543</td>\n",
       "      <td>1543</td>\n",
       "      <td>1543</td>\n",
       "      <td>1543</td>\n",
       "      <td>1543</td>\n",
       "      <td>1543</td>\n",
       "      <td>1543</td>\n",
       "      <td>1543</td>\n",
       "      <td>1543</td>\n",
       "      <td>1543</td>\n",
       "      <td>1543</td>\n",
       "      <td>1543</td>\n",
       "      <td>1543</td>\n",
       "      <td>1543</td>\n",
       "      <td>1543</td>\n",
       "      <td>1543</td>\n",
       "      <td>1543</td>\n",
       "      <td>1543</td>\n",
       "      <td>1543</td>\n",
       "      <td>1543</td>\n",
       "      <td>1543</td>\n",
       "      <td>1543</td>\n",
       "      <td>1543</td>\n",
       "      <td>1543</td>\n",
       "      <td>1165</td>\n",
       "      <td>1543</td>\n",
       "      <td>1543</td>\n",
       "      <td>1543</td>\n",
       "      <td>1543</td>\n",
       "      <td>1542</td>\n",
       "      <td>1543</td>\n",
       "      <td>1543</td>\n",
       "      <td>1543</td>\n",
       "    </tr>\n",
       "    <tr>\n",
       "      <th>Léger</th>\n",
       "      <td>38831</td>\n",
       "      <td>38831</td>\n",
       "      <td>38831</td>\n",
       "      <td>38831</td>\n",
       "      <td>9318</td>\n",
       "      <td>35</td>\n",
       "      <td>2</td>\n",
       "      <td>36352</td>\n",
       "      <td>30303</td>\n",
       "      <td>32019</td>\n",
       "      <td>8187</td>\n",
       "      <td>38565</td>\n",
       "      <td>984</td>\n",
       "      <td>38415</td>\n",
       "      <td>38486</td>\n",
       "      <td>38366</td>\n",
       "      <td>154</td>\n",
       "      <td>38481</td>\n",
       "      <td>36190</td>\n",
       "      <td>38480</td>\n",
       "      <td>37835</td>\n",
       "      <td>33443</td>\n",
       "      <td>37763</td>\n",
       "      <td>940</td>\n",
       "      <td>70</td>\n",
       "      <td>11763</td>\n",
       "      <td>38392</td>\n",
       "      <td>38831</td>\n",
       "      <td>38831</td>\n",
       "      <td>38831</td>\n",
       "      <td>38831</td>\n",
       "      <td>38831</td>\n",
       "      <td>38831</td>\n",
       "      <td>38831</td>\n",
       "      <td>38831</td>\n",
       "      <td>38831</td>\n",
       "      <td>38831</td>\n",
       "      <td>38831</td>\n",
       "      <td>38831</td>\n",
       "      <td>38831</td>\n",
       "      <td>38831</td>\n",
       "      <td>38831</td>\n",
       "      <td>38831</td>\n",
       "      <td>38831</td>\n",
       "      <td>38831</td>\n",
       "      <td>38831</td>\n",
       "      <td>38831</td>\n",
       "      <td>38831</td>\n",
       "      <td>38831</td>\n",
       "      <td>38831</td>\n",
       "      <td>38831</td>\n",
       "      <td>38831</td>\n",
       "      <td>38831</td>\n",
       "      <td>38831</td>\n",
       "      <td>38831</td>\n",
       "      <td>38831</td>\n",
       "      <td>38831</td>\n",
       "      <td>38831</td>\n",
       "      <td>29062</td>\n",
       "      <td>38830</td>\n",
       "      <td>38830</td>\n",
       "      <td>38831</td>\n",
       "      <td>38831</td>\n",
       "      <td>38827</td>\n",
       "      <td>38831</td>\n",
       "      <td>38830</td>\n",
       "      <td>38830</td>\n",
       "    </tr>\n",
       "    <tr>\n",
       "      <th>Mortel</th>\n",
       "      <td>208</td>\n",
       "      <td>208</td>\n",
       "      <td>208</td>\n",
       "      <td>208</td>\n",
       "      <td>67</td>\n",
       "      <td>0</td>\n",
       "      <td>0</td>\n",
       "      <td>201</td>\n",
       "      <td>157</td>\n",
       "      <td>172</td>\n",
       "      <td>44</td>\n",
       "      <td>208</td>\n",
       "      <td>12</td>\n",
       "      <td>206</td>\n",
       "      <td>207</td>\n",
       "      <td>206</td>\n",
       "      <td>0</td>\n",
       "      <td>207</td>\n",
       "      <td>193</td>\n",
       "      <td>205</td>\n",
       "      <td>199</td>\n",
       "      <td>170</td>\n",
       "      <td>204</td>\n",
       "      <td>6</td>\n",
       "      <td>0</td>\n",
       "      <td>65</td>\n",
       "      <td>207</td>\n",
       "      <td>208</td>\n",
       "      <td>208</td>\n",
       "      <td>208</td>\n",
       "      <td>208</td>\n",
       "      <td>208</td>\n",
       "      <td>208</td>\n",
       "      <td>208</td>\n",
       "      <td>208</td>\n",
       "      <td>208</td>\n",
       "      <td>208</td>\n",
       "      <td>208</td>\n",
       "      <td>208</td>\n",
       "      <td>208</td>\n",
       "      <td>208</td>\n",
       "      <td>208</td>\n",
       "      <td>208</td>\n",
       "      <td>208</td>\n",
       "      <td>208</td>\n",
       "      <td>208</td>\n",
       "      <td>208</td>\n",
       "      <td>208</td>\n",
       "      <td>208</td>\n",
       "      <td>208</td>\n",
       "      <td>208</td>\n",
       "      <td>208</td>\n",
       "      <td>208</td>\n",
       "      <td>208</td>\n",
       "      <td>208</td>\n",
       "      <td>208</td>\n",
       "      <td>208</td>\n",
       "      <td>208</td>\n",
       "      <td>161</td>\n",
       "      <td>208</td>\n",
       "      <td>208</td>\n",
       "      <td>208</td>\n",
       "      <td>208</td>\n",
       "      <td>208</td>\n",
       "      <td>208</td>\n",
       "      <td>208</td>\n",
       "      <td>208</td>\n",
       "    </tr>\n",
       "  </tbody>\n",
       "</table>\n",
       "</div>"
      ],
      "text/plain": [
       "                                                    NO_SEQ_COLL  \\\n",
       "GRAVITE                                                           \n",
       "Dommages matériels inférieurs au seuil de rappo...        78300   \n",
       "Dommages matériels seulement                              71670   \n",
       "Grave                                                      1543   \n",
       "Léger                                                     38831   \n",
       "Mortel                                                      208   \n",
       "\n",
       "                                                    JR_SEMN_ACCDN  DT_ACCDN  \\\n",
       "GRAVITE                                                                       \n",
       "Dommages matériels inférieurs au seuil de rappo...          78300     78300   \n",
       "Dommages matériels seulement                                71670     71670   \n",
       "Grave                                                        1543      1543   \n",
       "Léger                                                       38831     38831   \n",
       "Mortel                                                        208       208   \n",
       "\n",
       "                                                    CD_MUNCP  NO_CIVIQ_ACCDN  \\\n",
       "GRAVITE                                                                        \n",
       "Dommages matériels inférieurs au seuil de rappo...     78299           40940   \n",
       "Dommages matériels seulement                           71670           30881   \n",
       "Grave                                                   1543             399   \n",
       "Léger                                                  38831            9318   \n",
       "Mortel                                                   208              67   \n",
       "\n",
       "                                                    SFX_NO_CIVIQ_ACCDN  \\\n",
       "GRAVITE                                                                  \n",
       "Dommages matériels inférieurs au seuil de rappo...                 184   \n",
       "Dommages matériels seulement                                       143   \n",
       "Grave                                                                0   \n",
       "Léger                                                               35   \n",
       "Mortel                                                               0   \n",
       "\n",
       "                                                    BORNE_KM_ACCDN  RUE_ACCDN  \\\n",
       "GRAVITE                                                                         \n",
       "Dommages matériels inférieurs au seuil de rappo...              20      73755   \n",
       "Dommages matériels seulement                                    21      67030   \n",
       "Grave                                                            0       1443   \n",
       "Léger                                                            2      36352   \n",
       "Mortel                                                           0        201   \n",
       "\n",
       "                                                    TP_REPRR_ACCDN  \\\n",
       "GRAVITE                                                              \n",
       "Dommages matériels inférieurs au seuil de rappo...           41732   \n",
       "Dommages matériels seulement                                 44561   \n",
       "Grave                                                         1177   \n",
       "Léger                                                        30303   \n",
       "Mortel                                                         157   \n",
       "\n",
       "                                                    ACCDN_PRES_DE  \\\n",
       "GRAVITE                                                             \n",
       "Dommages matériels inférieurs au seuil de rappo...          46808   \n",
       "Dommages matériels seulement                                48711   \n",
       "Grave                                                        1252   \n",
       "Léger                                                       32019   \n",
       "Mortel                                                        172   \n",
       "\n",
       "                                                    NB_METRE_DIST_ACCD  \\\n",
       "GRAVITE                                                                  \n",
       "Dommages matériels inférieurs au seuil de rappo...               19979   \n",
       "Dommages matériels seulement                                     18415   \n",
       "Grave                                                              340   \n",
       "Léger                                                             8187   \n",
       "Mortel                                                              44   \n",
       "\n",
       "                                                    CD_GENRE_ACCDN  \\\n",
       "GRAVITE                                                              \n",
       "Dommages matériels inférieurs au seuil de rappo...           72606   \n",
       "Dommages matériels seulement                                 67974   \n",
       "Grave                                                         1532   \n",
       "Léger                                                        38565   \n",
       "Mortel                                                         208   \n",
       "\n",
       "                                                    CD_SIT_PRTCE_ACCDN  \\\n",
       "GRAVITE                                                                  \n",
       "Dommages matériels inférieurs au seuil de rappo...                1374   \n",
       "Dommages matériels seulement                                      1836   \n",
       "Grave                                                               52   \n",
       "Léger                                                              984   \n",
       "Mortel                                                              12   \n",
       "\n",
       "                                                    CD_ETAT_SURFC  CD_ECLRM  \\\n",
       "GRAVITE                                                                       \n",
       "Dommages matériels inférieurs au seuil de rappo...          70625     70700   \n",
       "Dommages matériels seulement                                67899     67648   \n",
       "Grave                                                        1518      1522   \n",
       "Léger                                                       38415     38486   \n",
       "Mortel                                                        206       207   \n",
       "\n",
       "                                                    CD_ENVRN_ACCDN  NO_ROUTE  \\\n",
       "GRAVITE                                                                        \n",
       "Dommages matériels inférieurs au seuil de rappo...           74759       217   \n",
       "Dommages matériels seulement                                 69307       210   \n",
       "Grave                                                         1522         5   \n",
       "Léger                                                        38366       154   \n",
       "Mortel                                                         206         0   \n",
       "\n",
       "                                                    CD_CATEG_ROUTE  \\\n",
       "GRAVITE                                                              \n",
       "Dommages matériels inférieurs au seuil de rappo...           75216   \n",
       "Dommages matériels seulement                                 69683   \n",
       "Grave                                                         1525   \n",
       "Léger                                                        38481   \n",
       "Mortel                                                         207   \n",
       "\n",
       "                                                    CD_ETAT_CHASS  \\\n",
       "GRAVITE                                                             \n",
       "Dommages matériels inférieurs au seuil de rappo...           2947   \n",
       "Dommages matériels seulement                                 4622   \n",
       "Grave                                                        1455   \n",
       "Léger                                                       36190   \n",
       "Mortel                                                        193   \n",
       "\n",
       "                                                    CD_ASPCT_ROUTE  \\\n",
       "GRAVITE                                                              \n",
       "Dommages matériels inférieurs au seuil de rappo...           72468   \n",
       "Dommages matériels seulement                                 68796   \n",
       "Grave                                                         1525   \n",
       "Léger                                                        38480   \n",
       "Mortel                                                         205   \n",
       "\n",
       "                                                    CD_LOCLN_ACCDN  \\\n",
       "GRAVITE                                                              \n",
       "Dommages matériels inférieurs au seuil de rappo...           68432   \n",
       "Dommages matériels seulement                                 66461   \n",
       "Grave                                                         1500   \n",
       "Léger                                                        37835   \n",
       "Mortel                                                         199   \n",
       "\n",
       "                                                    CD_POSI_ACCDN  \\\n",
       "GRAVITE                                                             \n",
       "Dommages matériels inférieurs au seuil de rappo...           2648   \n",
       "Dommages matériels seulement                                 4183   \n",
       "Grave                                                        1352   \n",
       "Léger                                                       33443   \n",
       "Mortel                                                        170   \n",
       "\n",
       "                                                    CD_CONFG_ROUTE  \\\n",
       "GRAVITE                                                              \n",
       "Dommages matériels inférieurs au seuil de rappo...           65437   \n",
       "Dommages matériels seulement                                 65762   \n",
       "Grave                                                         1495   \n",
       "Léger                                                        37763   \n",
       "Mortel                                                         204   \n",
       "\n",
       "                                                    CD_ZON_TRAVX_ROUTR  \\\n",
       "GRAVITE                                                                  \n",
       "Dommages matériels inférieurs au seuil de rappo...                1357   \n",
       "Dommages matériels seulement                                      1453   \n",
       "Grave                                                               37   \n",
       "Léger                                                              940   \n",
       "Mortel                                                               6   \n",
       "\n",
       "                                                    CD_PNT_CDRNL_ROUTE  \\\n",
       "GRAVITE                                                                  \n",
       "Dommages matériels inférieurs au seuil de rappo...                  49   \n",
       "Dommages matériels seulement                                        64   \n",
       "Grave                                                                4   \n",
       "Léger                                                               70   \n",
       "Mortel                                                               0   \n",
       "\n",
       "                                                    CD_PNT_CDRNL_REPRR  \\\n",
       "GRAVITE                                                                  \n",
       "Dommages matériels inférieurs au seuil de rappo...               24619   \n",
       "Dommages matériels seulement                                     23754   \n",
       "Grave                                                              466   \n",
       "Léger                                                            11763   \n",
       "Mortel                                                              65   \n",
       "\n",
       "                                                    CD_COND_METEO  \\\n",
       "GRAVITE                                                             \n",
       "Dommages matériels inférieurs au seuil de rappo...          70207   \n",
       "Dommages matériels seulement                                67648   \n",
       "Grave                                                        1517   \n",
       "Léger                                                       38392   \n",
       "Mortel                                                        207   \n",
       "\n",
       "                                                    NB_VEH_IMPLIQUES_ACCDN  \\\n",
       "GRAVITE                                                                      \n",
       "Dommages matériels inférieurs au seuil de rappo...                   78300   \n",
       "Dommages matériels seulement                                         71670   \n",
       "Grave                                                                 1543   \n",
       "Léger                                                                38831   \n",
       "Mortel                                                                 208   \n",
       "\n",
       "                                                    NB_MORTS  \\\n",
       "GRAVITE                                                        \n",
       "Dommages matériels inférieurs au seuil de rappo...     78300   \n",
       "Dommages matériels seulement                           71670   \n",
       "Grave                                                   1543   \n",
       "Léger                                                  38831   \n",
       "Mortel                                                   208   \n",
       "\n",
       "                                                    NB_BLESSES_GRAVES  \\\n",
       "GRAVITE                                                                 \n",
       "Dommages matériels inférieurs au seuil de rappo...              78300   \n",
       "Dommages matériels seulement                                    71670   \n",
       "Grave                                                            1543   \n",
       "Léger                                                           38831   \n",
       "Mortel                                                            208   \n",
       "\n",
       "                                                    NB_BLESSES_LEGERS  \\\n",
       "GRAVITE                                                                 \n",
       "Dommages matériels inférieurs au seuil de rappo...              78300   \n",
       "Dommages matériels seulement                                    71670   \n",
       "Grave                                                            1543   \n",
       "Léger                                                           38831   \n",
       "Mortel                                                            208   \n",
       "\n",
       "                                                    HEURE_ACCDN     AN  \\\n",
       "GRAVITE                                                                  \n",
       "Dommages matériels inférieurs au seuil de rappo...        78300  78300   \n",
       "Dommages matériels seulement                              71670  71670   \n",
       "Grave                                                      1543   1543   \n",
       "Léger                                                     38831  38831   \n",
       "Mortel                                                      208    208   \n",
       "\n",
       "                                                    NB_VICTIMES_TOTAL  \\\n",
       "GRAVITE                                                                 \n",
       "Dommages matériels inférieurs au seuil de rappo...              78300   \n",
       "Dommages matériels seulement                                    71670   \n",
       "Grave                                                            1543   \n",
       "Léger                                                           38831   \n",
       "Mortel                                                            208   \n",
       "\n",
       "                                                    REG_ADM    MRC  \\\n",
       "GRAVITE                                                              \n",
       "Dommages matériels inférieurs au seuil de rappo...    78298  78298   \n",
       "Dommages matériels seulement                          71670  71670   \n",
       "Grave                                                  1543   1543   \n",
       "Léger                                                 38831  38831   \n",
       "Mortel                                                  208    208   \n",
       "\n",
       "                                                    nb_automobile_camion_leger  \\\n",
       "GRAVITE                                                                          \n",
       "Dommages matériels inférieurs au seuil de rappo...                       78300   \n",
       "Dommages matériels seulement                                             71670   \n",
       "Grave                                                                     1543   \n",
       "Léger                                                                    38831   \n",
       "Mortel                                                                     208   \n",
       "\n",
       "                                                    nb_camionLourd_tractRoutier  \\\n",
       "GRAVITE                                                                           \n",
       "Dommages matériels inférieurs au seuil de rappo...                        78300   \n",
       "Dommages matériels seulement                                              71670   \n",
       "Grave                                                                      1543   \n",
       "Léger                                                                     38831   \n",
       "Mortel                                                                      208   \n",
       "\n",
       "                                                    nb_outil_equipement  \\\n",
       "GRAVITE                                                                   \n",
       "Dommages matériels inférieurs au seuil de rappo...                78300   \n",
       "Dommages matériels seulement                                      71670   \n",
       "Grave                                                              1543   \n",
       "Léger                                                             38831   \n",
       "Mortel                                                              208   \n",
       "\n",
       "                                                    nb_tous_autobus_minibus  \\\n",
       "GRAVITE                                                                       \n",
       "Dommages matériels inférieurs au seuil de rappo...                    78300   \n",
       "Dommages matériels seulement                                          71670   \n",
       "Grave                                                                  1543   \n",
       "Léger                                                                 38831   \n",
       "Mortel                                                                  208   \n",
       "\n",
       "                                                    nb_bicyclette  \\\n",
       "GRAVITE                                                             \n",
       "Dommages matériels inférieurs au seuil de rappo...          78300   \n",
       "Dommages matériels seulement                                71670   \n",
       "Grave                                                        1543   \n",
       "Léger                                                       38831   \n",
       "Mortel                                                        208   \n",
       "\n",
       "                                                    nb_cyclomoteur  \\\n",
       "GRAVITE                                                              \n",
       "Dommages matériels inférieurs au seuil de rappo...           78300   \n",
       "Dommages matériels seulement                                 71670   \n",
       "Grave                                                         1543   \n",
       "Léger                                                        38831   \n",
       "Mortel                                                         208   \n",
       "\n",
       "                                                    nb_motocyclette  nb_taxi  \\\n",
       "GRAVITE                                                                        \n",
       "Dommages matériels inférieurs au seuil de rappo...            78300    78300   \n",
       "Dommages matériels seulement                                  71670    71670   \n",
       "Grave                                                          1543     1543   \n",
       "Léger                                                         38831    38831   \n",
       "Mortel                                                          208      208   \n",
       "\n",
       "                                                    nb_urgence  nb_motoneige  \\\n",
       "GRAVITE                                                                        \n",
       "Dommages matériels inférieurs au seuil de rappo...       78300         78300   \n",
       "Dommages matériels seulement                             71670         71670   \n",
       "Grave                                                     1543          1543   \n",
       "Léger                                                    38831         38831   \n",
       "Mortel                                                     208           208   \n",
       "\n",
       "                                                    nb_VHR  nb_autres_types  \\\n",
       "GRAVITE                                                                       \n",
       "Dommages matériels inférieurs au seuil de rappo...   78300            78300   \n",
       "Dommages matériels seulement                         71670            71670   \n",
       "Grave                                                 1543             1543   \n",
       "Léger                                                38831            38831   \n",
       "Mortel                                                 208              208   \n",
       "\n",
       "                                                    nb_veh_non_precise  \\\n",
       "GRAVITE                                                                  \n",
       "Dommages matériels inférieurs au seuil de rappo...               78300   \n",
       "Dommages matériels seulement                                     71670   \n",
       "Grave                                                             1543   \n",
       "Léger                                                            38831   \n",
       "Mortel                                                             208   \n",
       "\n",
       "                                                    NB_DECES_PIETON  \\\n",
       "GRAVITE                                                               \n",
       "Dommages matériels inférieurs au seuil de rappo...            78300   \n",
       "Dommages matériels seulement                                  71670   \n",
       "Grave                                                          1543   \n",
       "Léger                                                         38831   \n",
       "Mortel                                                          208   \n",
       "\n",
       "                                                    NB_BLESSES_PIETON  \\\n",
       "GRAVITE                                                                 \n",
       "Dommages matériels inférieurs au seuil de rappo...              78300   \n",
       "Dommages matériels seulement                                    71670   \n",
       "Grave                                                            1543   \n",
       "Léger                                                           38831   \n",
       "Mortel                                                            208   \n",
       "\n",
       "                                                    NB_VICTIMES_PIETON  \\\n",
       "GRAVITE                                                                  \n",
       "Dommages matériels inférieurs au seuil de rappo...               78300   \n",
       "Dommages matériels seulement                                     71670   \n",
       "Grave                                                             1543   \n",
       "Léger                                                            38831   \n",
       "Mortel                                                             208   \n",
       "\n",
       "                                                    NB_DECES_MOTO  \\\n",
       "GRAVITE                                                             \n",
       "Dommages matériels inférieurs au seuil de rappo...          78300   \n",
       "Dommages matériels seulement                                71670   \n",
       "Grave                                                        1543   \n",
       "Léger                                                       38831   \n",
       "Mortel                                                        208   \n",
       "\n",
       "                                                    NB_BLESSES_MOTO  \\\n",
       "GRAVITE                                                               \n",
       "Dommages matériels inférieurs au seuil de rappo...            78300   \n",
       "Dommages matériels seulement                                  71670   \n",
       "Grave                                                          1543   \n",
       "Léger                                                         38831   \n",
       "Mortel                                                          208   \n",
       "\n",
       "                                                    NB_VICTIMES_MOTO  \\\n",
       "GRAVITE                                                                \n",
       "Dommages matériels inférieurs au seuil de rappo...             78300   \n",
       "Dommages matériels seulement                                   71670   \n",
       "Grave                                                           1543   \n",
       "Léger                                                          38831   \n",
       "Mortel                                                           208   \n",
       "\n",
       "                                                    NB_DECES_VELO  \\\n",
       "GRAVITE                                                             \n",
       "Dommages matériels inférieurs au seuil de rappo...          78300   \n",
       "Dommages matériels seulement                                71670   \n",
       "Grave                                                        1543   \n",
       "Léger                                                       38831   \n",
       "Mortel                                                        208   \n",
       "\n",
       "                                                    NB_BLESSES_VELO  \\\n",
       "GRAVITE                                                               \n",
       "Dommages matériels inférieurs au seuil de rappo...            78300   \n",
       "Dommages matériels seulement                                  71670   \n",
       "Grave                                                          1543   \n",
       "Léger                                                         38831   \n",
       "Mortel                                                          208   \n",
       "\n",
       "                                                    NB_VICTIMES_VELO  \\\n",
       "GRAVITE                                                                \n",
       "Dommages matériels inférieurs au seuil de rappo...             78300   \n",
       "Dommages matériels seulement                                   71670   \n",
       "Grave                                                           1543   \n",
       "Léger                                                          38831   \n",
       "Mortel                                                           208   \n",
       "\n",
       "                                                    VITESSE_AUTOR  LOC_X  \\\n",
       "GRAVITE                                                                    \n",
       "Dommages matériels inférieurs au seuil de rappo...          39070  78293   \n",
       "Dommages matériels seulement                                45713  71665   \n",
       "Grave                                                        1165   1543   \n",
       "Léger                                                       29062  38830   \n",
       "Mortel                                                        161    208   \n",
       "\n",
       "                                                    LOC_Y  LOC_COTE_QD  \\\n",
       "GRAVITE                                                                  \n",
       "Dommages matériels inférieurs au seuil de rappo...  78293        78300   \n",
       "Dommages matériels seulement                        71665        71670   \n",
       "Grave                                                1543         1543   \n",
       "Léger                                               38830        38831   \n",
       "Mortel                                                208          208   \n",
       "\n",
       "                                                    LOC_COTE_PD  LOC_DETACHEE  \\\n",
       "GRAVITE                                                                         \n",
       "Dommages matériels inférieurs au seuil de rappo...        78300         78296   \n",
       "Dommages matériels seulement                              71670         71670   \n",
       "Grave                                                      1543          1542   \n",
       "Léger                                                     38831         38827   \n",
       "Mortel                                                      208           208   \n",
       "\n",
       "                                                    LOC_IMPRECISION  LOC_LAT  \\\n",
       "GRAVITE                                                                        \n",
       "Dommages matériels inférieurs au seuil de rappo...            78300    78293   \n",
       "Dommages matériels seulement                                  71670    71665   \n",
       "Grave                                                          1543     1543   \n",
       "Léger                                                         38831    38830   \n",
       "Mortel                                                          208      208   \n",
       "\n",
       "                                                    LOC_LONG  \n",
       "GRAVITE                                                       \n",
       "Dommages matériels inférieurs au seuil de rappo...     78293  \n",
       "Dommages matériels seulement                           71665  \n",
       "Grave                                                   1543  \n",
       "Léger                                                  38830  \n",
       "Mortel                                                   208  "
      ]
     },
     "execution_count": 8,
     "metadata": {},
     "output_type": "execute_result"
    }
   ],
   "source": [
    "df.groupby('GRAVITE').count()"
   ]
  },
  {
   "cell_type": "code",
   "execution_count": 9,
   "metadata": {},
   "outputs": [
    {
     "name": "stdout",
     "output_type": "stream",
     "text": [
      "The severety indexes are: \n"
     ]
    },
    {
     "data": {
      "text/plain": [
       "0    1.0\n",
       "1    2.0\n",
       "2    3.0\n",
       "3    4.0\n",
       "4    5.0\n",
       "dtype: float64"
      ]
     },
     "execution_count": 9,
     "metadata": {},
     "output_type": "execute_result"
    }
   ],
   "source": [
    "df['GRAVITE'].replace(['Dommages matériels inférieurs au seuil de rapportage',\n",
    "                       'Dommages matériels seulement',\n",
    "                       'Léger',\n",
    "                       'Grave',\n",
    "                       'Mortel'],\n",
    "                      [1.0,2.0,3.0,4.0,5.0],\n",
    "                      inplace=True)\n",
    "\n",
    "Sev=pd.Series(df['GRAVITE'].unique())\n",
    "print('The severety indexes are: ')\n",
    "Sev"
   ]
  },
  {
   "cell_type": "markdown",
   "metadata": {},
   "source": [
    "# The variable CD_ETAT_SURFC means surface condition and CD_COND_METEO means weather condition"
   ]
  },
  {
   "cell_type": "code",
   "execution_count": 10,
   "metadata": {},
   "outputs": [
    {
     "data": {
      "text/plain": [
       "array([16., 11., 12., 18., 15., 17., nan, 19., 14., 13., 99., 20.])"
      ]
     },
     "execution_count": 10,
     "metadata": {},
     "output_type": "execute_result"
    }
   ],
   "source": [
    "df['CD_ETAT_SURFC'].unique()"
   ]
  },
  {
   "cell_type": "markdown",
   "metadata": {},
   "source": [
    "##### 11 means dry surface\n",
    "##### 12 means humid surface\n",
    "##### 13 means water accumulation on the road\n",
    "##### 14 means sand on the road\n",
    "##### 15 means melted ice\n",
    "##### 16 means light snow on the road\n",
    "##### 17 means hardened snow on the road\n",
    "##### 18 means ice on the road\n",
    "##### 19 means mud on the road\n",
    "##### 20 means oil on the road\n",
    "##### 99 means another condition not specified, thus 99 shall be replaced by 10 to avoid bias\n",
    "##### nan means not registered thus it won't be taken into account"
   ]
  },
  {
   "cell_type": "code",
   "execution_count": 11,
   "metadata": {},
   "outputs": [
    {
     "name": "stdout",
     "output_type": "stream",
     "text": [
      "The surface condition codes are: \n"
     ]
    },
    {
     "data": {
      "text/plain": [
       "0     16.0\n",
       "1     11.0\n",
       "2     12.0\n",
       "3     18.0\n",
       "4     15.0\n",
       "5     17.0\n",
       "6      NaN\n",
       "7     19.0\n",
       "8     14.0\n",
       "9     13.0\n",
       "10    10.0\n",
       "11    20.0\n",
       "Name: Surface Cond, dtype: float64"
      ]
     },
     "execution_count": 11,
     "metadata": {},
     "output_type": "execute_result"
    }
   ],
   "source": [
    "df['CD_ETAT_SURFC'].replace(99,10.0, inplace=True)\n",
    "Surf_cond=pd.Series(df['CD_ETAT_SURFC'].unique(), name='Surface Cond')\n",
    "print('The surface condition codes are: ')\n",
    "Surf_cond"
   ]
  },
  {
   "cell_type": "code",
   "execution_count": 12,
   "metadata": {},
   "outputs": [
    {
     "data": {
      "text/plain": [
       "array([11., nan, 17., 19., 12., 18., 14., 16., 15., 99., 13.])"
      ]
     },
     "execution_count": 12,
     "metadata": {},
     "output_type": "execute_result"
    }
   ],
   "source": [
    "df['CD_COND_METEO'].unique()"
   ]
  },
  {
   "cell_type": "markdown",
   "metadata": {},
   "source": [
    "##### 11 means clear sky\n",
    "##### 12 means cloudy\n",
    "##### 13 means mist\n",
    "##### 14 means rain\n",
    "##### 15 means heavy rain\n",
    "##### 16 means windy\n",
    "##### 17 means snowing\n",
    "##### 18 means storm\n",
    "##### 19 means ice\n",
    "##### 99 means another, thus 99 shall be replaced by 10. to avoid bias\n",
    "#### nan means not registered, thus it won't be taken into account"
   ]
  },
  {
   "cell_type": "code",
   "execution_count": 13,
   "metadata": {},
   "outputs": [
    {
     "name": "stdout",
     "output_type": "stream",
     "text": [
      "The weather condition codes are: \n"
     ]
    },
    {
     "data": {
      "text/plain": [
       "0     11.0\n",
       "1      NaN\n",
       "2     17.0\n",
       "3     19.0\n",
       "4     12.0\n",
       "5     18.0\n",
       "6     14.0\n",
       "7     16.0\n",
       "8     15.0\n",
       "9     10.0\n",
       "10    13.0\n",
       "Name: Weather Cond, dtype: float64"
      ]
     },
     "execution_count": 13,
     "metadata": {},
     "output_type": "execute_result"
    }
   ],
   "source": [
    "df['CD_COND_METEO'].replace(99.,10., inplace=True)\n",
    "Weath_cond=pd.Series(df['CD_COND_METEO'].unique(), name='Weather Cond')\n",
    "print('The weather condition codes are: ')\n",
    "Weath_cond"
   ]
  },
  {
   "cell_type": "markdown",
   "metadata": {},
   "source": [
    "#### creating a new dataframe df1 includding GRAVITE and CD_ETAT_SURFC"
   ]
  },
  {
   "cell_type": "code",
   "execution_count": 14,
   "metadata": {},
   "outputs": [
    {
     "data": {
      "text/html": [
       "<div>\n",
       "<style scoped>\n",
       "    .dataframe tbody tr th:only-of-type {\n",
       "        vertical-align: middle;\n",
       "    }\n",
       "\n",
       "    .dataframe tbody tr th {\n",
       "        vertical-align: top;\n",
       "    }\n",
       "\n",
       "    .dataframe thead th {\n",
       "        text-align: right;\n",
       "    }\n",
       "</style>\n",
       "<table border=\"1\" class=\"dataframe\">\n",
       "  <thead>\n",
       "    <tr style=\"text-align: right;\">\n",
       "      <th></th>\n",
       "      <th>GRAVITE</th>\n",
       "      <th>CD_ETAT_SURFC</th>\n",
       "    </tr>\n",
       "  </thead>\n",
       "  <tbody>\n",
       "    <tr>\n",
       "      <th>0</th>\n",
       "      <td>1.0</td>\n",
       "      <td>16.0</td>\n",
       "    </tr>\n",
       "    <tr>\n",
       "      <th>1</th>\n",
       "      <td>2.0</td>\n",
       "      <td>11.0</td>\n",
       "    </tr>\n",
       "    <tr>\n",
       "      <th>2</th>\n",
       "      <td>1.0</td>\n",
       "      <td>11.0</td>\n",
       "    </tr>\n",
       "    <tr>\n",
       "      <th>3</th>\n",
       "      <td>1.0</td>\n",
       "      <td>11.0</td>\n",
       "    </tr>\n",
       "    <tr>\n",
       "      <th>4</th>\n",
       "      <td>2.0</td>\n",
       "      <td>12.0</td>\n",
       "    </tr>\n",
       "  </tbody>\n",
       "</table>\n",
       "</div>"
      ],
      "text/plain": [
       "   GRAVITE  CD_ETAT_SURFC\n",
       "0      1.0           16.0\n",
       "1      2.0           11.0\n",
       "2      1.0           11.0\n",
       "3      1.0           11.0\n",
       "4      2.0           12.0"
      ]
     },
     "execution_count": 14,
     "metadata": {},
     "output_type": "execute_result"
    }
   ],
   "source": [
    "df1=df[['GRAVITE', 'CD_ETAT_SURFC']]\n",
    "df1.head()"
   ]
  },
  {
   "cell_type": "code",
   "execution_count": 15,
   "metadata": {},
   "outputs": [],
   "source": [
    "df15=df1[df1['GRAVITE']==5.0].groupby('CD_ETAT_SURFC').count()\n",
    "df14=df1[df1['GRAVITE']==4.0].groupby('CD_ETAT_SURFC').count()\n",
    "df13=df1[df1['GRAVITE']==3.0].groupby('CD_ETAT_SURFC').count()\n",
    "df12=df1[df1['GRAVITE']==2.0].groupby('CD_ETAT_SURFC').count()\n",
    "df11=df1[df1['GRAVITE']==1.0].groupby('CD_ETAT_SURFC').count()"
   ]
  },
  {
   "cell_type": "code",
   "execution_count": 16,
   "metadata": {},
   "outputs": [
    {
     "name": "stdout",
     "output_type": "stream",
     "text": [
      "               GRAVITE\n",
      "CD_ETAT_SURFC         \n",
      "10.0               380\n",
      "11.0             46636\n",
      "12.0             10835\n",
      "13.0                67\n",
      "14.0                81\n",
      "15.0               995\n",
      "16.0              8686\n",
      "17.0              1079\n",
      "18.0              1832\n",
      "19.0                31\n",
      "20.0                 3\n"
     ]
    }
   ],
   "source": [
    "print (df11)"
   ]
  },
  {
   "cell_type": "code",
   "execution_count": 17,
   "metadata": {},
   "outputs": [],
   "source": [
    "df15.reset_index(inplace=True)\n",
    "df14.reset_index(inplace=True)\n",
    "df13.reset_index(inplace=True)\n",
    "df12.reset_index(inplace=True)\n",
    "df11.reset_index(inplace=True)"
   ]
  },
  {
   "cell_type": "code",
   "execution_count": 18,
   "metadata": {},
   "outputs": [
    {
     "name": "stdout",
     "output_type": "stream",
     "text": [
      "the correlation indexes of severity to surface condition are: \n"
     ]
    },
    {
     "data": {
      "text/plain": [
       "0   -0.445391\n",
       "1   -0.451113\n",
       "2   -0.467770\n",
       "3   -0.478971\n",
       "4   -0.855872\n",
       "dtype: float64"
      ]
     },
     "execution_count": 18,
     "metadata": {},
     "output_type": "execute_result"
    }
   ],
   "source": [
    "Corr_Surf_cond=np.empty(5)\n",
    "Corr_Surf_cond[0]=df11.corr()['GRAVITE'][0]\n",
    "Corr_Surf_cond[1]=df12.corr()['GRAVITE'][0]\n",
    "Corr_Surf_cond[2]=df13.corr()['GRAVITE'][0]\n",
    "Corr_Surf_cond[3]=df14.corr()['GRAVITE'][0]\n",
    "Corr_Surf_cond[4]=df15.corr()['GRAVITE'][0]\n",
    "Corr_Surf_cond=pd.Series(Corr_Surf_cond)\n",
    "print('the correlation indexes of severity to surface condition are: ')\n",
    "Corr_Surf_cond"
   ]
  },
  {
   "cell_type": "code",
   "execution_count": 19,
   "metadata": {},
   "outputs": [
    {
     "data": {
      "text/html": [
       "<div>\n",
       "<style scoped>\n",
       "    .dataframe tbody tr th:only-of-type {\n",
       "        vertical-align: middle;\n",
       "    }\n",
       "\n",
       "    .dataframe tbody tr th {\n",
       "        vertical-align: top;\n",
       "    }\n",
       "\n",
       "    .dataframe thead th {\n",
       "        text-align: right;\n",
       "    }\n",
       "</style>\n",
       "<table border=\"1\" class=\"dataframe\">\n",
       "  <thead>\n",
       "    <tr style=\"text-align: right;\">\n",
       "      <th></th>\n",
       "      <th>Severity</th>\n",
       "      <th>Surf_cond</th>\n",
       "    </tr>\n",
       "  </thead>\n",
       "  <tbody>\n",
       "    <tr>\n",
       "      <th>0</th>\n",
       "      <td>1.0</td>\n",
       "      <td>-0.445391</td>\n",
       "    </tr>\n",
       "    <tr>\n",
       "      <th>1</th>\n",
       "      <td>2.0</td>\n",
       "      <td>-0.451113</td>\n",
       "    </tr>\n",
       "    <tr>\n",
       "      <th>2</th>\n",
       "      <td>3.0</td>\n",
       "      <td>-0.467770</td>\n",
       "    </tr>\n",
       "    <tr>\n",
       "      <th>3</th>\n",
       "      <td>4.0</td>\n",
       "      <td>-0.478971</td>\n",
       "    </tr>\n",
       "    <tr>\n",
       "      <th>4</th>\n",
       "      <td>5.0</td>\n",
       "      <td>-0.855872</td>\n",
       "    </tr>\n",
       "  </tbody>\n",
       "</table>\n",
       "</div>"
      ],
      "text/plain": [
       "   Severity  Surf_cond\n",
       "0       1.0  -0.445391\n",
       "1       2.0  -0.451113\n",
       "2       3.0  -0.467770\n",
       "3       4.0  -0.478971\n",
       "4       5.0  -0.855872"
      ]
     },
     "execution_count": 19,
     "metadata": {},
     "output_type": "execute_result"
    }
   ],
   "source": [
    "Corr_df1=pd.concat([Sev, Corr_Surf_cond], axis=1)\n",
    "Corr_df1.rename(columns={0:'Severity', 1:'Surf_cond'}, inplace=True)\n",
    "Corr_df1.head()"
   ]
  },
  {
   "cell_type": "markdown",
   "metadata": {},
   "source": [
    "#### creating a new dataframe df2 includding GRAVITE and CD_COND_METEO"
   ]
  },
  {
   "cell_type": "code",
   "execution_count": 20,
   "metadata": {},
   "outputs": [
    {
     "data": {
      "text/html": [
       "<div>\n",
       "<style scoped>\n",
       "    .dataframe tbody tr th:only-of-type {\n",
       "        vertical-align: middle;\n",
       "    }\n",
       "\n",
       "    .dataframe tbody tr th {\n",
       "        vertical-align: top;\n",
       "    }\n",
       "\n",
       "    .dataframe thead th {\n",
       "        text-align: right;\n",
       "    }\n",
       "</style>\n",
       "<table border=\"1\" class=\"dataframe\">\n",
       "  <thead>\n",
       "    <tr style=\"text-align: right;\">\n",
       "      <th></th>\n",
       "      <th>GRAVITE</th>\n",
       "      <th>CD_COND_METEO</th>\n",
       "    </tr>\n",
       "  </thead>\n",
       "  <tbody>\n",
       "    <tr>\n",
       "      <th>0</th>\n",
       "      <td>1.0</td>\n",
       "      <td>11.0</td>\n",
       "    </tr>\n",
       "    <tr>\n",
       "      <th>1</th>\n",
       "      <td>2.0</td>\n",
       "      <td>11.0</td>\n",
       "    </tr>\n",
       "    <tr>\n",
       "      <th>2</th>\n",
       "      <td>1.0</td>\n",
       "      <td>11.0</td>\n",
       "    </tr>\n",
       "    <tr>\n",
       "      <th>3</th>\n",
       "      <td>1.0</td>\n",
       "      <td>11.0</td>\n",
       "    </tr>\n",
       "    <tr>\n",
       "      <th>4</th>\n",
       "      <td>2.0</td>\n",
       "      <td>11.0</td>\n",
       "    </tr>\n",
       "  </tbody>\n",
       "</table>\n",
       "</div>"
      ],
      "text/plain": [
       "   GRAVITE  CD_COND_METEO\n",
       "0      1.0           11.0\n",
       "1      2.0           11.0\n",
       "2      1.0           11.0\n",
       "3      1.0           11.0\n",
       "4      2.0           11.0"
      ]
     },
     "execution_count": 20,
     "metadata": {},
     "output_type": "execute_result"
    }
   ],
   "source": [
    "df2=df[['GRAVITE','CD_COND_METEO']]\n",
    "df2.head()"
   ]
  },
  {
   "cell_type": "code",
   "execution_count": 21,
   "metadata": {},
   "outputs": [],
   "source": [
    "df25=df2[df2['GRAVITE']==5.0].groupby('CD_COND_METEO').count()\n",
    "df24=df2[df2['GRAVITE']==4.0].groupby('CD_COND_METEO').count()\n",
    "df23=df2[df2['GRAVITE']==3.0].groupby('CD_COND_METEO').count()\n",
    "df22=df2[df2['GRAVITE']==2.0].groupby('CD_COND_METEO').count()\n",
    "df21=df2[df2['GRAVITE']==1.0].groupby('CD_COND_METEO').count()"
   ]
  },
  {
   "cell_type": "code",
   "execution_count": 22,
   "metadata": {},
   "outputs": [
    {
     "data": {
      "text/html": [
       "<div>\n",
       "<style scoped>\n",
       "    .dataframe tbody tr th:only-of-type {\n",
       "        vertical-align: middle;\n",
       "    }\n",
       "\n",
       "    .dataframe tbody tr th {\n",
       "        vertical-align: top;\n",
       "    }\n",
       "\n",
       "    .dataframe thead th {\n",
       "        text-align: right;\n",
       "    }\n",
       "</style>\n",
       "<table border=\"1\" class=\"dataframe\">\n",
       "  <thead>\n",
       "    <tr style=\"text-align: right;\">\n",
       "      <th></th>\n",
       "      <th>GRAVITE</th>\n",
       "    </tr>\n",
       "    <tr>\n",
       "      <th>CD_COND_METEO</th>\n",
       "      <th></th>\n",
       "    </tr>\n",
       "  </thead>\n",
       "  <tbody>\n",
       "    <tr>\n",
       "      <th>10.0</th>\n",
       "      <td>674</td>\n",
       "    </tr>\n",
       "    <tr>\n",
       "      <th>11.0</th>\n",
       "      <td>49833</td>\n",
       "    </tr>\n",
       "    <tr>\n",
       "      <th>12.0</th>\n",
       "      <td>10118</td>\n",
       "    </tr>\n",
       "    <tr>\n",
       "      <th>13.0</th>\n",
       "      <td>108</td>\n",
       "    </tr>\n",
       "    <tr>\n",
       "      <th>14.0</th>\n",
       "      <td>4303</td>\n",
       "    </tr>\n",
       "    <tr>\n",
       "      <th>15.0</th>\n",
       "      <td>290</td>\n",
       "    </tr>\n",
       "    <tr>\n",
       "      <th>16.0</th>\n",
       "      <td>149</td>\n",
       "    </tr>\n",
       "    <tr>\n",
       "      <th>17.0</th>\n",
       "      <td>4021</td>\n",
       "    </tr>\n",
       "    <tr>\n",
       "      <th>18.0</th>\n",
       "      <td>501</td>\n",
       "    </tr>\n",
       "    <tr>\n",
       "      <th>19.0</th>\n",
       "      <td>210</td>\n",
       "    </tr>\n",
       "  </tbody>\n",
       "</table>\n",
       "</div>"
      ],
      "text/plain": [
       "               GRAVITE\n",
       "CD_COND_METEO         \n",
       "10.0               674\n",
       "11.0             49833\n",
       "12.0             10118\n",
       "13.0               108\n",
       "14.0              4303\n",
       "15.0               290\n",
       "16.0               149\n",
       "17.0              4021\n",
       "18.0               501\n",
       "19.0               210"
      ]
     },
     "execution_count": 22,
     "metadata": {},
     "output_type": "execute_result"
    }
   ],
   "source": [
    "df21"
   ]
  },
  {
   "cell_type": "code",
   "execution_count": 23,
   "metadata": {},
   "outputs": [],
   "source": [
    "df25.reset_index(inplace=True)\n",
    "df24.reset_index(inplace=True)\n",
    "df23.reset_index(inplace=True)\n",
    "df22.reset_index(inplace=True)\n",
    "df21.reset_index(inplace=True)"
   ]
  },
  {
   "cell_type": "code",
   "execution_count": 24,
   "metadata": {},
   "outputs": [
    {
     "name": "stdout",
     "output_type": "stream",
     "text": [
      "the correlation indexes of severity to weather condition are: \n"
     ]
    },
    {
     "data": {
      "text/plain": [
       "0   -0.458048\n",
       "1   -0.453828\n",
       "2   -0.461712\n",
       "3   -0.508197\n",
       "4   -0.736635\n",
       "dtype: float64"
      ]
     },
     "execution_count": 24,
     "metadata": {},
     "output_type": "execute_result"
    }
   ],
   "source": [
    "Corr_Weat_cond=np.empty(5)\n",
    "Corr_Weat_cond[0]=df21.corr()['GRAVITE'][0]\n",
    "Corr_Weat_cond[1]=df22.corr()['GRAVITE'][0]\n",
    "Corr_Weat_cond[2]=df23.corr()['GRAVITE'][0]\n",
    "Corr_Weat_cond[3]=df24.corr()['GRAVITE'][0]\n",
    "Corr_Weat_cond[4]=df25.corr()['GRAVITE'][0]\n",
    "Corr_Weat_cond=pd.Series(Corr_Weat_cond)\n",
    "print('the correlation indexes of severity to weather condition are: ')\n",
    "Corr_Weat_cond"
   ]
  },
  {
   "cell_type": "code",
   "execution_count": 25,
   "metadata": {},
   "outputs": [
    {
     "data": {
      "text/html": [
       "<div>\n",
       "<style scoped>\n",
       "    .dataframe tbody tr th:only-of-type {\n",
       "        vertical-align: middle;\n",
       "    }\n",
       "\n",
       "    .dataframe tbody tr th {\n",
       "        vertical-align: top;\n",
       "    }\n",
       "\n",
       "    .dataframe thead th {\n",
       "        text-align: right;\n",
       "    }\n",
       "</style>\n",
       "<table border=\"1\" class=\"dataframe\">\n",
       "  <thead>\n",
       "    <tr style=\"text-align: right;\">\n",
       "      <th></th>\n",
       "      <th>Severity</th>\n",
       "      <th>Weather_cond</th>\n",
       "    </tr>\n",
       "  </thead>\n",
       "  <tbody>\n",
       "    <tr>\n",
       "      <th>0</th>\n",
       "      <td>1.0</td>\n",
       "      <td>-0.458048</td>\n",
       "    </tr>\n",
       "    <tr>\n",
       "      <th>1</th>\n",
       "      <td>2.0</td>\n",
       "      <td>-0.453828</td>\n",
       "    </tr>\n",
       "    <tr>\n",
       "      <th>2</th>\n",
       "      <td>3.0</td>\n",
       "      <td>-0.461712</td>\n",
       "    </tr>\n",
       "    <tr>\n",
       "      <th>3</th>\n",
       "      <td>4.0</td>\n",
       "      <td>-0.508197</td>\n",
       "    </tr>\n",
       "    <tr>\n",
       "      <th>4</th>\n",
       "      <td>5.0</td>\n",
       "      <td>-0.736635</td>\n",
       "    </tr>\n",
       "  </tbody>\n",
       "</table>\n",
       "</div>"
      ],
      "text/plain": [
       "   Severity  Weather_cond\n",
       "0       1.0     -0.458048\n",
       "1       2.0     -0.453828\n",
       "2       3.0     -0.461712\n",
       "3       4.0     -0.508197\n",
       "4       5.0     -0.736635"
      ]
     },
     "execution_count": 25,
     "metadata": {},
     "output_type": "execute_result"
    }
   ],
   "source": [
    "Corr_df2=pd.concat([Sev, Corr_Weat_cond], axis=1)\n",
    "Corr_df2.rename(columns={0:'Severity', 1:'Weather_cond'}, inplace=True)\n",
    "Corr_df2.head()"
   ]
  },
  {
   "cell_type": "markdown",
   "metadata": {},
   "source": [
    "# Includding the hour of the accident HEURE_ACCDN, "
   ]
  },
  {
   "cell_type": "code",
   "execution_count": 26,
   "metadata": {},
   "outputs": [
    {
     "data": {
      "text/plain": [
       "['Non précisé',\n",
       " '15:00:00-15:59:00',\n",
       " '08:00:00-08:59:00',\n",
       " '09:00:00-09:59:00',\n",
       " '14:00:00-14:59:00',\n",
       " '12:00:00-12:59:00',\n",
       " '10:00:00-10:59:00',\n",
       " '17:00:00-17:59:00',\n",
       " '18:00:00-18:59:00',\n",
       " '11:00:00-11:59:00',\n",
       " '04:00:00-04:59:00',\n",
       " '16:00:00-16:59:00',\n",
       " '06:00:00-06:59:00',\n",
       " '23:00:00-23:59:00',\n",
       " '13:00:00-13:59:00',\n",
       " '21:00:00-21:59:00',\n",
       " '07:00:00-07:59:00',\n",
       " '22:00:00-22:59:00',\n",
       " '03:00:00-03:59:00',\n",
       " '05:00:00-05:59:00',\n",
       " '20:00:00-20:59:00',\n",
       " '02:00:00-02:59:00',\n",
       " '19:00:00-19:59:00',\n",
       " '00:00:00-00:59:00',\n",
       " '01:00:00-01:59:00']"
      ]
     },
     "execution_count": 26,
     "metadata": {},
     "output_type": "execute_result"
    }
   ],
   "source": [
    "list_heur=df['HEURE_ACCDN'].unique().tolist()\n",
    "list_heur"
   ]
  },
  {
   "cell_type": "code",
   "execution_count": 27,
   "metadata": {},
   "outputs": [
    {
     "data": {
      "text/plain": [
       "array([nan, 15.,  8.,  9., 14., 12., 10., 17., 18., 11.,  4., 16.,  6.,\n",
       "       23., 13., 21.,  7., 22.,  3.,  5., 20.,  2., 19.,  0.,  1.])"
      ]
     },
     "execution_count": 27,
     "metadata": {},
     "output_type": "execute_result"
    }
   ],
   "source": [
    "for c in list_heur:\n",
    "    if c=='Non précisé':\n",
    "        df['HEURE_ACCDN'].replace(c, np.nan, inplace=True)\n",
    "    else:\n",
    "        df['HEURE_ACCDN'].replace(c, c[0:2], inplace=True)\n",
    "df['HEURE_ACCDN']=pd.to_numeric(df['HEURE_ACCDN'])\n",
    "df['HEURE_ACCDN'].unique()\n"
   ]
  },
  {
   "cell_type": "code",
   "execution_count": 28,
   "metadata": {},
   "outputs": [
    {
     "data": {
      "text/html": [
       "<div>\n",
       "<style scoped>\n",
       "    .dataframe tbody tr th:only-of-type {\n",
       "        vertical-align: middle;\n",
       "    }\n",
       "\n",
       "    .dataframe tbody tr th {\n",
       "        vertical-align: top;\n",
       "    }\n",
       "\n",
       "    .dataframe thead th {\n",
       "        text-align: right;\n",
       "    }\n",
       "</style>\n",
       "<table border=\"1\" class=\"dataframe\">\n",
       "  <thead>\n",
       "    <tr style=\"text-align: right;\">\n",
       "      <th></th>\n",
       "      <th>GRAVITE</th>\n",
       "      <th>HEURE_ACCDN</th>\n",
       "    </tr>\n",
       "  </thead>\n",
       "  <tbody>\n",
       "    <tr>\n",
       "      <th>0</th>\n",
       "      <td>1.0</td>\n",
       "      <td>NaN</td>\n",
       "    </tr>\n",
       "    <tr>\n",
       "      <th>1</th>\n",
       "      <td>2.0</td>\n",
       "      <td>15.0</td>\n",
       "    </tr>\n",
       "    <tr>\n",
       "      <th>2</th>\n",
       "      <td>1.0</td>\n",
       "      <td>8.0</td>\n",
       "    </tr>\n",
       "    <tr>\n",
       "      <th>3</th>\n",
       "      <td>1.0</td>\n",
       "      <td>9.0</td>\n",
       "    </tr>\n",
       "    <tr>\n",
       "      <th>4</th>\n",
       "      <td>2.0</td>\n",
       "      <td>NaN</td>\n",
       "    </tr>\n",
       "  </tbody>\n",
       "</table>\n",
       "</div>"
      ],
      "text/plain": [
       "   GRAVITE  HEURE_ACCDN\n",
       "0      1.0          NaN\n",
       "1      2.0         15.0\n",
       "2      1.0          8.0\n",
       "3      1.0          9.0\n",
       "4      2.0          NaN"
      ]
     },
     "execution_count": 28,
     "metadata": {},
     "output_type": "execute_result"
    }
   ],
   "source": [
    "df3=df[['GRAVITE','HEURE_ACCDN']]\n",
    "df3.head()"
   ]
  },
  {
   "cell_type": "code",
   "execution_count": 29,
   "metadata": {},
   "outputs": [],
   "source": [
    "df35=df3[df3['GRAVITE']==5.0].groupby('HEURE_ACCDN').count()\n",
    "df34=df3[df3['GRAVITE']==4.0].groupby('HEURE_ACCDN').count()\n",
    "df33=df3[df3['GRAVITE']==3.0].groupby('HEURE_ACCDN').count()\n",
    "df32=df3[df3['GRAVITE']==2.0].groupby('HEURE_ACCDN').count()\n",
    "df31=df3[df3['GRAVITE']==1.0].groupby('HEURE_ACCDN').count()"
   ]
  },
  {
   "cell_type": "code",
   "execution_count": 30,
   "metadata": {},
   "outputs": [],
   "source": [
    "df35.reset_index(inplace=True)\n",
    "df34.reset_index(inplace=True)\n",
    "df33.reset_index(inplace=True)\n",
    "df32.reset_index(inplace=True)\n",
    "df31.reset_index(inplace=True)"
   ]
  },
  {
   "cell_type": "code",
   "execution_count": 31,
   "metadata": {},
   "outputs": [
    {
     "name": "stdout",
     "output_type": "stream",
     "text": [
      "the correlation indexes of severity to Hour are: \n"
     ]
    },
    {
     "data": {
      "text/plain": [
       "0    0.457920\n",
       "1    0.439426\n",
       "2    0.490336\n",
       "3    0.592679\n",
       "4    0.282556\n",
       "dtype: float64"
      ]
     },
     "execution_count": 31,
     "metadata": {},
     "output_type": "execute_result"
    }
   ],
   "source": [
    "Corr_Hour=np.empty(5)\n",
    "Corr_Hour[0]=df31.corr()['GRAVITE'][0]\n",
    "Corr_Hour[1]=df32.corr()['GRAVITE'][0]\n",
    "Corr_Hour[2]=df33.corr()['GRAVITE'][0]\n",
    "Corr_Hour[3]=df34.corr()['GRAVITE'][0]\n",
    "Corr_Hour[4]=df35.corr()['GRAVITE'][0]\n",
    "Corr_Hour=pd.Series(Corr_Hour)\n",
    "print('the correlation indexes of severity to Hour are: ')\n",
    "Corr_Hour"
   ]
  },
  {
   "cell_type": "code",
   "execution_count": 32,
   "metadata": {},
   "outputs": [
    {
     "data": {
      "text/html": [
       "<div>\n",
       "<style scoped>\n",
       "    .dataframe tbody tr th:only-of-type {\n",
       "        vertical-align: middle;\n",
       "    }\n",
       "\n",
       "    .dataframe tbody tr th {\n",
       "        vertical-align: top;\n",
       "    }\n",
       "\n",
       "    .dataframe thead th {\n",
       "        text-align: right;\n",
       "    }\n",
       "</style>\n",
       "<table border=\"1\" class=\"dataframe\">\n",
       "  <thead>\n",
       "    <tr style=\"text-align: right;\">\n",
       "      <th></th>\n",
       "      <th>Severity</th>\n",
       "      <th>Hour</th>\n",
       "    </tr>\n",
       "  </thead>\n",
       "  <tbody>\n",
       "    <tr>\n",
       "      <th>0</th>\n",
       "      <td>1.0</td>\n",
       "      <td>0.457920</td>\n",
       "    </tr>\n",
       "    <tr>\n",
       "      <th>1</th>\n",
       "      <td>2.0</td>\n",
       "      <td>0.439426</td>\n",
       "    </tr>\n",
       "    <tr>\n",
       "      <th>2</th>\n",
       "      <td>3.0</td>\n",
       "      <td>0.490336</td>\n",
       "    </tr>\n",
       "    <tr>\n",
       "      <th>3</th>\n",
       "      <td>4.0</td>\n",
       "      <td>0.592679</td>\n",
       "    </tr>\n",
       "    <tr>\n",
       "      <th>4</th>\n",
       "      <td>5.0</td>\n",
       "      <td>0.282556</td>\n",
       "    </tr>\n",
       "  </tbody>\n",
       "</table>\n",
       "</div>"
      ],
      "text/plain": [
       "   Severity      Hour\n",
       "0       1.0  0.457920\n",
       "1       2.0  0.439426\n",
       "2       3.0  0.490336\n",
       "3       4.0  0.592679\n",
       "4       5.0  0.282556"
      ]
     },
     "execution_count": 32,
     "metadata": {},
     "output_type": "execute_result"
    }
   ],
   "source": [
    "Corr_df3=pd.concat([Sev, Corr_Hour], axis=1)\n",
    "Corr_df3.rename(columns={0:'Severity', 1:'Hour'}, inplace=True)\n",
    "Corr_df3.head()"
   ]
  },
  {
   "cell_type": "markdown",
   "metadata": {},
   "source": [
    "# adding the day of the week JR_SEMN_ACCDN"
   ]
  },
  {
   "cell_type": "code",
   "execution_count": 33,
   "metadata": {},
   "outputs": [
    {
     "data": {
      "text/plain": [
       "array(['ME', 'SA', 'JE', 'LU', 'MA', 'DI', 'VE'], dtype=object)"
      ]
     },
     "execution_count": 33,
     "metadata": {},
     "output_type": "execute_result"
    }
   ],
   "source": [
    "df['JR_SEMN_ACCDN'].unique()"
   ]
  },
  {
   "cell_type": "markdown",
   "metadata": {},
   "source": [
    "##### LU means monday, thus LU shall be replaced by 1\n",
    "##### MA means tusday, thus MA shall be replaced by 2\n",
    "##### ME means wednesday, thus ME shall be replacede by 3\n",
    "##### JE means thursday, thus JE shall be replaced by 4\n",
    "##### VE means friday, thus VE shall be replaced by 5\n",
    "##### SA measn saturday, thus SA shall be replaced by 6\n",
    "##### DI means sunday, thus DI shall be replaced by 7"
   ]
  },
  {
   "cell_type": "code",
   "execution_count": 34,
   "metadata": {},
   "outputs": [],
   "source": [
    "df['JR_SEMN_ACCDN'].replace(['LU','MA','ME','JE','VE','SA','DI'],[1.0,2.0,3.0,4.0,5.0,6.0,7.0], inplace=True)"
   ]
  },
  {
   "cell_type": "code",
   "execution_count": 35,
   "metadata": {},
   "outputs": [
    {
     "data": {
      "text/html": [
       "<div>\n",
       "<style scoped>\n",
       "    .dataframe tbody tr th:only-of-type {\n",
       "        vertical-align: middle;\n",
       "    }\n",
       "\n",
       "    .dataframe tbody tr th {\n",
       "        vertical-align: top;\n",
       "    }\n",
       "\n",
       "    .dataframe thead th {\n",
       "        text-align: right;\n",
       "    }\n",
       "</style>\n",
       "<table border=\"1\" class=\"dataframe\">\n",
       "  <thead>\n",
       "    <tr style=\"text-align: right;\">\n",
       "      <th></th>\n",
       "      <th>GRAVITE</th>\n",
       "      <th>JR_SEMN_ACCDN</th>\n",
       "    </tr>\n",
       "  </thead>\n",
       "  <tbody>\n",
       "    <tr>\n",
       "      <th>0</th>\n",
       "      <td>1.0</td>\n",
       "      <td>3.0</td>\n",
       "    </tr>\n",
       "    <tr>\n",
       "      <th>1</th>\n",
       "      <td>2.0</td>\n",
       "      <td>6.0</td>\n",
       "    </tr>\n",
       "    <tr>\n",
       "      <th>2</th>\n",
       "      <td>1.0</td>\n",
       "      <td>4.0</td>\n",
       "    </tr>\n",
       "    <tr>\n",
       "      <th>3</th>\n",
       "      <td>1.0</td>\n",
       "      <td>3.0</td>\n",
       "    </tr>\n",
       "    <tr>\n",
       "      <th>4</th>\n",
       "      <td>2.0</td>\n",
       "      <td>1.0</td>\n",
       "    </tr>\n",
       "  </tbody>\n",
       "</table>\n",
       "</div>"
      ],
      "text/plain": [
       "   GRAVITE  JR_SEMN_ACCDN\n",
       "0      1.0            3.0\n",
       "1      2.0            6.0\n",
       "2      1.0            4.0\n",
       "3      1.0            3.0\n",
       "4      2.0            1.0"
      ]
     },
     "execution_count": 35,
     "metadata": {},
     "output_type": "execute_result"
    }
   ],
   "source": [
    "df4=df[['GRAVITE','JR_SEMN_ACCDN']]\n",
    "df4.head()"
   ]
  },
  {
   "cell_type": "code",
   "execution_count": 36,
   "metadata": {},
   "outputs": [],
   "source": [
    "df45=df4[df4['GRAVITE']==5.0].groupby('JR_SEMN_ACCDN').count()\n",
    "df44=df4[df4['GRAVITE']==4.0].groupby('JR_SEMN_ACCDN').count()\n",
    "df43=df4[df4['GRAVITE']==3.0].groupby('JR_SEMN_ACCDN').count()\n",
    "df42=df4[df4['GRAVITE']==2.0].groupby('JR_SEMN_ACCDN').count()\n",
    "df41=df4[df4['GRAVITE']==1.0].groupby('JR_SEMN_ACCDN').count()"
   ]
  },
  {
   "cell_type": "code",
   "execution_count": 37,
   "metadata": {},
   "outputs": [],
   "source": [
    "df45.reset_index(inplace=True)\n",
    "df44.reset_index(inplace=True)\n",
    "df43.reset_index(inplace=True)\n",
    "df42.reset_index(inplace=True)\n",
    "df41.reset_index(inplace=True)"
   ]
  },
  {
   "cell_type": "code",
   "execution_count": 38,
   "metadata": {},
   "outputs": [
    {
     "name": "stdout",
     "output_type": "stream",
     "text": [
      "the correlation indexes of severity to Day of the week are: \n"
     ]
    },
    {
     "data": {
      "text/plain": [
       "0   -0.573864\n",
       "1   -0.296993\n",
       "2   -0.573238\n",
       "3   -0.301655\n",
       "4   -0.460239\n",
       "dtype: float64"
      ]
     },
     "execution_count": 38,
     "metadata": {},
     "output_type": "execute_result"
    }
   ],
   "source": [
    "Corr_Day=np.empty(5)\n",
    "Corr_Day[0]=df41.corr()['GRAVITE'][0]\n",
    "Corr_Day[1]=df42.corr()['GRAVITE'][0]\n",
    "Corr_Day[2]=df43.corr()['GRAVITE'][0]\n",
    "Corr_Day[3]=df44.corr()['GRAVITE'][0]\n",
    "Corr_Day[4]=df45.corr()['GRAVITE'][0]\n",
    "Corr_Day=pd.Series(Corr_Day)\n",
    "print('the correlation indexes of severity to Day of the week are: ')\n",
    "Corr_Day"
   ]
  },
  {
   "cell_type": "code",
   "execution_count": 39,
   "metadata": {},
   "outputs": [
    {
     "data": {
      "text/html": [
       "<div>\n",
       "<style scoped>\n",
       "    .dataframe tbody tr th:only-of-type {\n",
       "        vertical-align: middle;\n",
       "    }\n",
       "\n",
       "    .dataframe tbody tr th {\n",
       "        vertical-align: top;\n",
       "    }\n",
       "\n",
       "    .dataframe thead th {\n",
       "        text-align: right;\n",
       "    }\n",
       "</style>\n",
       "<table border=\"1\" class=\"dataframe\">\n",
       "  <thead>\n",
       "    <tr style=\"text-align: right;\">\n",
       "      <th></th>\n",
       "      <th>Severity</th>\n",
       "      <th>Day</th>\n",
       "    </tr>\n",
       "  </thead>\n",
       "  <tbody>\n",
       "    <tr>\n",
       "      <th>0</th>\n",
       "      <td>1.0</td>\n",
       "      <td>-0.573864</td>\n",
       "    </tr>\n",
       "    <tr>\n",
       "      <th>1</th>\n",
       "      <td>2.0</td>\n",
       "      <td>-0.296993</td>\n",
       "    </tr>\n",
       "    <tr>\n",
       "      <th>2</th>\n",
       "      <td>3.0</td>\n",
       "      <td>-0.573238</td>\n",
       "    </tr>\n",
       "    <tr>\n",
       "      <th>3</th>\n",
       "      <td>4.0</td>\n",
       "      <td>-0.301655</td>\n",
       "    </tr>\n",
       "    <tr>\n",
       "      <th>4</th>\n",
       "      <td>5.0</td>\n",
       "      <td>-0.460239</td>\n",
       "    </tr>\n",
       "  </tbody>\n",
       "</table>\n",
       "</div>"
      ],
      "text/plain": [
       "   Severity       Day\n",
       "0       1.0 -0.573864\n",
       "1       2.0 -0.296993\n",
       "2       3.0 -0.573238\n",
       "3       4.0 -0.301655\n",
       "4       5.0 -0.460239"
      ]
     },
     "execution_count": 39,
     "metadata": {},
     "output_type": "execute_result"
    }
   ],
   "source": [
    "Corr_df4=pd.concat([Sev, Corr_Day], axis=1)\n",
    "Corr_df4.rename(columns={0:'Severity', 1:'Day'}, inplace=True)\n",
    "Corr_df4.head()"
   ]
  },
  {
   "cell_type": "markdown",
   "metadata": {},
   "source": [
    "# Adding the region code REG_ADM"
   ]
  },
  {
   "cell_type": "code",
   "execution_count": 40,
   "metadata": {},
   "outputs": [
    {
     "data": {
      "text/plain": [
       "array(['Montréal(06)', 'Estrie(05)', 'Chaudière-Appalaches(12)',\n",
       "       'Lanaudière(14)', 'Montérégie(16)', 'Laval(13)',\n",
       "       'Centre-du-Québec(17)', 'Capitale-Nationale(03)', 'Outaouais(07)',\n",
       "       'Abitibi-Témiscamingue(08)', 'Mauricie(04)',\n",
       "       'Saguenay/-Lac-Saint-Jean(02)', 'Laurentides(15)',\n",
       "       'Gaspésie/-Îles-de-la-Madeleine(11)', nan, 'Bas-Saint-Laurent(01)'],\n",
       "      dtype=object)"
      ]
     },
     "execution_count": 40,
     "metadata": {},
     "output_type": "execute_result"
    }
   ],
   "source": [
    "df['REG_ADM'].unique()"
   ]
  },
  {
   "cell_type": "code",
   "execution_count": 41,
   "metadata": {},
   "outputs": [
    {
     "data": {
      "text/plain": [
       "['Montréal(06)',\n",
       " 'Estrie(05)',\n",
       " 'Chaudière-Appalaches(12)',\n",
       " 'Lanaudière(14)',\n",
       " 'Montérégie(16)',\n",
       " 'Laval(13)',\n",
       " 'Centre-du-Québec(17)',\n",
       " 'Capitale-Nationale(03)',\n",
       " 'Outaouais(07)',\n",
       " 'Abitibi-Témiscamingue(08)',\n",
       " 'Mauricie(04)',\n",
       " 'Saguenay/-Lac-Saint-Jean(02)',\n",
       " 'Laurentides(15)',\n",
       " 'Gaspésie/-Îles-de-la-Madeleine(11)',\n",
       " 0.0,\n",
       " 'Bas-Saint-Laurent(01)']"
      ]
     },
     "execution_count": 41,
     "metadata": {},
     "output_type": "execute_result"
    }
   ],
   "source": [
    "list_reg=df['REG_ADM'].unique().tolist()\n",
    "list_reg[-2]=0.0\n",
    "list_reg"
   ]
  },
  {
   "cell_type": "code",
   "execution_count": 43,
   "metadata": {},
   "outputs": [
    {
     "data": {
      "text/plain": [
       "array([ 6.,  5., 12., 14., 16., 13., 17.,  3.,  7.,  8.,  4.,  2., 15.,\n",
       "       11., nan,  1.])"
      ]
     },
     "execution_count": 43,
     "metadata": {},
     "output_type": "execute_result"
    }
   ],
   "source": [
    "for c in list_reg:\n",
    "    if c!=0.0:\n",
    "        if c[-3]=='0':\n",
    "            df['REG_ADM'].replace(c, c[-2:-1], inplace=True)\n",
    "        else:\n",
    "            df['REG_ADM'].replace(c, c[-3:-1], inplace=True)        \n",
    "    else:\n",
    "        df['REG_ADM'].replace(c, 0.0, inplace=True)\n",
    "df['REG_ADM']=pd.to_numeric(df['REG_ADM'])\n",
    "df['REG_ADM'].unique()"
   ]
  },
  {
   "cell_type": "code",
   "execution_count": 44,
   "metadata": {},
   "outputs": [],
   "source": [
    "df5=df[['GRAVITE','REG_ADM']]\n"
   ]
  },
  {
   "cell_type": "code",
   "execution_count": 45,
   "metadata": {},
   "outputs": [
    {
     "data": {
      "text/plain": [
       "array([ 6.,  5., 12., 14., 16., 13., 17.,  3.,  7.,  8.,  4.,  2., 15.,\n",
       "       11., nan,  1.])"
      ]
     },
     "execution_count": 45,
     "metadata": {},
     "output_type": "execute_result"
    }
   ],
   "source": [
    "df5['REG_ADM'].unique()"
   ]
  },
  {
   "cell_type": "code",
   "execution_count": 46,
   "metadata": {},
   "outputs": [],
   "source": [
    "df55=df5[df5['GRAVITE']==5.0].groupby('REG_ADM').count()\n",
    "df54=df5[df5['GRAVITE']==4.0].groupby('REG_ADM').count()\n",
    "df53=df5[df5['GRAVITE']==3.0].groupby('REG_ADM').count()\n",
    "df52=df5[df5['GRAVITE']==2.0].groupby('REG_ADM').count()\n",
    "df51=df5[df5['GRAVITE']==1.0].groupby('REG_ADM').count()"
   ]
  },
  {
   "cell_type": "code",
   "execution_count": 47,
   "metadata": {},
   "outputs": [],
   "source": [
    "df55.reset_index(inplace=True)\n",
    "df54.reset_index(inplace=True)\n",
    "df53.reset_index(inplace=True)\n",
    "df52.reset_index(inplace=True)\n",
    "df51.reset_index(inplace=True)"
   ]
  },
  {
   "cell_type": "code",
   "execution_count": 48,
   "metadata": {},
   "outputs": [
    {
     "name": "stdout",
     "output_type": "stream",
     "text": [
      "the correlation indexes of severity to region code are: \n"
     ]
    },
    {
     "data": {
      "text/plain": [
       "0   -0.233046\n",
       "1   -0.242041\n",
       "2   -0.247264\n",
       "3   -0.981981\n",
       "4         NaN\n",
       "dtype: float64"
      ]
     },
     "execution_count": 48,
     "metadata": {},
     "output_type": "execute_result"
    }
   ],
   "source": [
    "Corr_Reg_Adm=np.empty(5)\n",
    "Corr_Reg_Adm[0]=df51.corr()['GRAVITE'][0]\n",
    "Corr_Reg_Adm[1]=df52.corr()['GRAVITE'][0]\n",
    "Corr_Reg_Adm[2]=df53.corr()['GRAVITE'][0]\n",
    "Corr_Reg_Adm[3]=df54.corr()['GRAVITE'][0]\n",
    "Corr_Reg_Adm[4]=df55.corr()['GRAVITE'][0]\n",
    "Corr_Reg_Adm=pd.Series(Corr_Reg_Adm)\n",
    "print('the correlation indexes of severity to region code are: ')\n",
    "Corr_Reg_Adm"
   ]
  },
  {
   "cell_type": "code",
   "execution_count": 49,
   "metadata": {},
   "outputs": [
    {
     "data": {
      "text/html": [
       "<div>\n",
       "<style scoped>\n",
       "    .dataframe tbody tr th:only-of-type {\n",
       "        vertical-align: middle;\n",
       "    }\n",
       "\n",
       "    .dataframe tbody tr th {\n",
       "        vertical-align: top;\n",
       "    }\n",
       "\n",
       "    .dataframe thead th {\n",
       "        text-align: right;\n",
       "    }\n",
       "</style>\n",
       "<table border=\"1\" class=\"dataframe\">\n",
       "  <thead>\n",
       "    <tr style=\"text-align: right;\">\n",
       "      <th></th>\n",
       "      <th>Severity</th>\n",
       "      <th>Corr_Reg_Adm</th>\n",
       "    </tr>\n",
       "  </thead>\n",
       "  <tbody>\n",
       "    <tr>\n",
       "      <th>0</th>\n",
       "      <td>1.0</td>\n",
       "      <td>-0.233046</td>\n",
       "    </tr>\n",
       "    <tr>\n",
       "      <th>1</th>\n",
       "      <td>2.0</td>\n",
       "      <td>-0.242041</td>\n",
       "    </tr>\n",
       "    <tr>\n",
       "      <th>2</th>\n",
       "      <td>3.0</td>\n",
       "      <td>-0.247264</td>\n",
       "    </tr>\n",
       "    <tr>\n",
       "      <th>3</th>\n",
       "      <td>4.0</td>\n",
       "      <td>-0.981981</td>\n",
       "    </tr>\n",
       "    <tr>\n",
       "      <th>4</th>\n",
       "      <td>5.0</td>\n",
       "      <td>NaN</td>\n",
       "    </tr>\n",
       "  </tbody>\n",
       "</table>\n",
       "</div>"
      ],
      "text/plain": [
       "   Severity  Corr_Reg_Adm\n",
       "0       1.0     -0.233046\n",
       "1       2.0     -0.242041\n",
       "2       3.0     -0.247264\n",
       "3       4.0     -0.981981\n",
       "4       5.0           NaN"
      ]
     },
     "execution_count": 49,
     "metadata": {},
     "output_type": "execute_result"
    }
   ],
   "source": [
    "Corr_df5=pd.concat([Sev, Corr_Reg_Adm], axis=1)\n",
    "Corr_df5.rename(columns={0:'Severity', 1:'Corr_Reg_Adm'}, inplace=True)\n",
    "Corr_df5.head()"
   ]
  },
  {
   "cell_type": "markdown",
   "metadata": {},
   "source": [
    "##### every severe accident is registered in the area code 06 (Montréal)"
   ]
  },
  {
   "cell_type": "code",
   "execution_count": 51,
   "metadata": {},
   "outputs": [
    {
     "data": {
      "text/html": [
       "<div>\n",
       "<style scoped>\n",
       "    .dataframe tbody tr th:only-of-type {\n",
       "        vertical-align: middle;\n",
       "    }\n",
       "\n",
       "    .dataframe tbody tr th {\n",
       "        vertical-align: top;\n",
       "    }\n",
       "\n",
       "    .dataframe thead th {\n",
       "        text-align: right;\n",
       "    }\n",
       "</style>\n",
       "<table border=\"1\" class=\"dataframe\">\n",
       "  <thead>\n",
       "    <tr style=\"text-align: right;\">\n",
       "      <th></th>\n",
       "      <th>Severity</th>\n",
       "      <th>Corr_Reg_Adm</th>\n",
       "    </tr>\n",
       "  </thead>\n",
       "  <tbody>\n",
       "    <tr>\n",
       "      <th>0</th>\n",
       "      <td>1.0</td>\n",
       "      <td>-0.233046</td>\n",
       "    </tr>\n",
       "    <tr>\n",
       "      <th>1</th>\n",
       "      <td>2.0</td>\n",
       "      <td>-0.242041</td>\n",
       "    </tr>\n",
       "    <tr>\n",
       "      <th>2</th>\n",
       "      <td>3.0</td>\n",
       "      <td>-0.247264</td>\n",
       "    </tr>\n",
       "    <tr>\n",
       "      <th>3</th>\n",
       "      <td>4.0</td>\n",
       "      <td>-0.981981</td>\n",
       "    </tr>\n",
       "    <tr>\n",
       "      <th>4</th>\n",
       "      <td>5.0</td>\n",
       "      <td>1.000000</td>\n",
       "    </tr>\n",
       "  </tbody>\n",
       "</table>\n",
       "</div>"
      ],
      "text/plain": [
       "   Severity  Corr_Reg_Adm\n",
       "0       1.0     -0.233046\n",
       "1       2.0     -0.242041\n",
       "2       3.0     -0.247264\n",
       "3       4.0     -0.981981\n",
       "4       5.0      1.000000"
      ]
     },
     "execution_count": 51,
     "metadata": {},
     "output_type": "execute_result"
    }
   ],
   "source": [
    "Corr_df5['Corr_Reg_Adm'][4]=1.0\n",
    "Corr_df5.head()"
   ]
  },
  {
   "cell_type": "markdown",
   "metadata": {},
   "source": [
    "# Adding the proximity to an intersection TP_REPRR_ACCDN"
   ]
  },
  {
   "cell_type": "code",
   "execution_count": 52,
   "metadata": {},
   "outputs": [
    {
     "data": {
      "text/plain": [
       "array([ 2., nan,  1.,  0.])"
      ]
     },
     "execution_count": 52,
     "metadata": {},
     "output_type": "execute_result"
    }
   ],
   "source": [
    "df['TP_REPRR_ACCDN'].unique()"
   ]
  },
  {
   "cell_type": "markdown",
   "metadata": {},
   "source": [
    "##### 1.0 means close to an intersection; 2.0 means not an intersection; 0.0 and nan means not registered; thus we can consider just two categories: 1.0 meaning close to an intersecton; 0.0 meaning not an intersection"
   ]
  },
  {
   "cell_type": "code",
   "execution_count": 53,
   "metadata": {},
   "outputs": [
    {
     "data": {
      "text/plain": [
       "array([0., 1.])"
      ]
     },
     "execution_count": 53,
     "metadata": {},
     "output_type": "execute_result"
    }
   ],
   "source": [
    "df['TP_REPRR_ACCDN'].replace([2.0, np.nan], [0.0,0.0], inplace=True)\n",
    "df['TP_REPRR_ACCDN'].unique()"
   ]
  },
  {
   "cell_type": "code",
   "execution_count": 54,
   "metadata": {},
   "outputs": [],
   "source": [
    "df6=df[['GRAVITE','TP_REPRR_ACCDN']]\n",
    "df65=df6[df6['GRAVITE']==5.0].groupby('TP_REPRR_ACCDN').count()\n",
    "df64=df6[df6['GRAVITE']==4.0].groupby('TP_REPRR_ACCDN').count()\n",
    "df63=df6[df6['GRAVITE']==3.0].groupby('TP_REPRR_ACCDN').count()\n",
    "df62=df6[df6['GRAVITE']==2.0].groupby('TP_REPRR_ACCDN').count()\n",
    "df61=df6[df6['GRAVITE']==1.0].groupby('TP_REPRR_ACCDN').count()"
   ]
  },
  {
   "cell_type": "code",
   "execution_count": 55,
   "metadata": {},
   "outputs": [],
   "source": [
    "df65.reset_index(inplace=True)\n",
    "df64.reset_index(inplace=True)\n",
    "df63.reset_index(inplace=True)\n",
    "df62.reset_index(inplace=True)\n",
    "df61.reset_index(inplace=True)"
   ]
  },
  {
   "cell_type": "code",
   "execution_count": 56,
   "metadata": {},
   "outputs": [
    {
     "name": "stdout",
     "output_type": "stream",
     "text": [
      "the correlation indexes of severity to proximity to an intersection are: \n"
     ]
    },
    {
     "data": {
      "text/plain": [
       "0   -1.0\n",
       "1    1.0\n",
       "2    1.0\n",
       "3    1.0\n",
       "4    1.0\n",
       "dtype: float64"
      ]
     },
     "execution_count": 56,
     "metadata": {},
     "output_type": "execute_result"
    }
   ],
   "source": [
    "Corr_intersec=np.empty(5)\n",
    "Corr_intersec[0]=df61.corr()['GRAVITE'][0]\n",
    "Corr_intersec[1]=df62.corr()['GRAVITE'][0]\n",
    "Corr_intersec[2]=df63.corr()['GRAVITE'][0]\n",
    "Corr_intersec[3]=df64.corr()['GRAVITE'][0]\n",
    "Corr_intersec[4]=df65.corr()['GRAVITE'][0]\n",
    "Corr_intersec=pd.Series(Corr_intersec)\n",
    "print('the correlation indexes of severity to proximity to an intersection are: ')\n",
    "Corr_intersec"
   ]
  },
  {
   "cell_type": "code",
   "execution_count": 57,
   "metadata": {},
   "outputs": [
    {
     "data": {
      "text/html": [
       "<div>\n",
       "<style scoped>\n",
       "    .dataframe tbody tr th:only-of-type {\n",
       "        vertical-align: middle;\n",
       "    }\n",
       "\n",
       "    .dataframe tbody tr th {\n",
       "        vertical-align: top;\n",
       "    }\n",
       "\n",
       "    .dataframe thead th {\n",
       "        text-align: right;\n",
       "    }\n",
       "</style>\n",
       "<table border=\"1\" class=\"dataframe\">\n",
       "  <thead>\n",
       "    <tr style=\"text-align: right;\">\n",
       "      <th></th>\n",
       "      <th>Severity</th>\n",
       "      <th>Intersection</th>\n",
       "    </tr>\n",
       "  </thead>\n",
       "  <tbody>\n",
       "    <tr>\n",
       "      <th>0</th>\n",
       "      <td>1.0</td>\n",
       "      <td>-1.0</td>\n",
       "    </tr>\n",
       "    <tr>\n",
       "      <th>1</th>\n",
       "      <td>2.0</td>\n",
       "      <td>1.0</td>\n",
       "    </tr>\n",
       "    <tr>\n",
       "      <th>2</th>\n",
       "      <td>3.0</td>\n",
       "      <td>1.0</td>\n",
       "    </tr>\n",
       "    <tr>\n",
       "      <th>3</th>\n",
       "      <td>4.0</td>\n",
       "      <td>1.0</td>\n",
       "    </tr>\n",
       "    <tr>\n",
       "      <th>4</th>\n",
       "      <td>5.0</td>\n",
       "      <td>1.0</td>\n",
       "    </tr>\n",
       "  </tbody>\n",
       "</table>\n",
       "</div>"
      ],
      "text/plain": [
       "   Severity  Intersection\n",
       "0       1.0          -1.0\n",
       "1       2.0           1.0\n",
       "2       3.0           1.0\n",
       "3       4.0           1.0\n",
       "4       5.0           1.0"
      ]
     },
     "execution_count": 57,
     "metadata": {},
     "output_type": "execute_result"
    }
   ],
   "source": [
    "Corr_df6=pd.concat([Sev, Corr_intersec], axis=1)\n",
    "Corr_df6.rename(columns={0:'Severity', 1:'Intersection'}, inplace=True)\n",
    "Corr_df6.head()"
   ]
  },
  {
   "cell_type": "markdown",
   "metadata": {},
   "source": [
    "# Adding the configuration of the route CD_CONFG_ROUTE"
   ]
  },
  {
   "cell_type": "code",
   "execution_count": 58,
   "metadata": {},
   "outputs": [
    {
     "data": {
      "text/plain": [
       "array([ 4.,  1.,  3.,  2., nan,  9.,  5.])"
      ]
     },
     "execution_count": 58,
     "metadata": {},
     "output_type": "execute_result"
    }
   ],
   "source": [
    "df['CD_CONFG_ROUTE'].unique()"
   ]
  },
  {
   "cell_type": "markdown",
   "metadata": {},
   "source": [
    "##### 1.0 means one way; \n",
    "#### 2.0 means two ways, one way by direction; \n",
    "##### 3.0 means two ways, more than one way by direction; \n",
    "##### 4.0 means two ways separated by an accesible lane\n",
    "##### 5.0 means two ways separated by an obstacle\n",
    "##### 9.0 means other configurations, thus it will be replaced by 6.0\n",
    "##### nan wont be considered"
   ]
  },
  {
   "cell_type": "code",
   "execution_count": 59,
   "metadata": {},
   "outputs": [
    {
     "data": {
      "text/plain": [
       "array([ 4.,  1.,  3.,  2., nan,  6.,  5.])"
      ]
     },
     "execution_count": 59,
     "metadata": {},
     "output_type": "execute_result"
    }
   ],
   "source": [
    "df['CD_CONFG_ROUTE'].replace(9.0, 6.0, inplace=True)\n",
    "df['CD_CONFG_ROUTE'].unique()"
   ]
  },
  {
   "cell_type": "code",
   "execution_count": 60,
   "metadata": {},
   "outputs": [],
   "source": [
    "df7=df[['GRAVITE','CD_CONFG_ROUTE']]\n",
    "df75=df7[df7['GRAVITE']==5.0].groupby('CD_CONFG_ROUTE').count()\n",
    "df74=df7[df7['GRAVITE']==4.0].groupby('CD_CONFG_ROUTE').count()\n",
    "df73=df7[df7['GRAVITE']==3.0].groupby('CD_CONFG_ROUTE').count()\n",
    "df72=df7[df7['GRAVITE']==2.0].groupby('CD_CONFG_ROUTE').count()\n",
    "df71=df7[df7['GRAVITE']==1.0].groupby('CD_CONFG_ROUTE').count()"
   ]
  },
  {
   "cell_type": "code",
   "execution_count": 61,
   "metadata": {},
   "outputs": [],
   "source": [
    "df75.reset_index(inplace=True)\n",
    "df74.reset_index(inplace=True)\n",
    "df73.reset_index(inplace=True)\n",
    "df72.reset_index(inplace=True)\n",
    "df71.reset_index(inplace=True)"
   ]
  },
  {
   "cell_type": "code",
   "execution_count": 62,
   "metadata": {},
   "outputs": [
    {
     "name": "stdout",
     "output_type": "stream",
     "text": [
      "the correlation indexes of severity to configuration of the route are: \n"
     ]
    },
    {
     "data": {
      "text/plain": [
       "0   -0.847268\n",
       "1   -0.852672\n",
       "2   -0.655075\n",
       "3   -0.605511\n",
       "4   -0.489493\n",
       "dtype: float64"
      ]
     },
     "execution_count": 62,
     "metadata": {},
     "output_type": "execute_result"
    }
   ],
   "source": [
    "Corr_Conf_route=np.empty(5)\n",
    "Corr_Conf_route[0]=df71.corr()['GRAVITE'][0]\n",
    "Corr_Conf_route[1]=df72.corr()['GRAVITE'][0]\n",
    "Corr_Conf_route[2]=df73.corr()['GRAVITE'][0]\n",
    "Corr_Conf_route[3]=df74.corr()['GRAVITE'][0]\n",
    "Corr_Conf_route[4]=df75.corr()['GRAVITE'][0]\n",
    "Corr_Conf_route=pd.Series(Corr_Conf_route)\n",
    "print('the correlation indexes of severity to configuration of the route are: ')\n",
    "Corr_Conf_route"
   ]
  },
  {
   "cell_type": "code",
   "execution_count": 63,
   "metadata": {},
   "outputs": [
    {
     "data": {
      "text/html": [
       "<div>\n",
       "<style scoped>\n",
       "    .dataframe tbody tr th:only-of-type {\n",
       "        vertical-align: middle;\n",
       "    }\n",
       "\n",
       "    .dataframe tbody tr th {\n",
       "        vertical-align: top;\n",
       "    }\n",
       "\n",
       "    .dataframe thead th {\n",
       "        text-align: right;\n",
       "    }\n",
       "</style>\n",
       "<table border=\"1\" class=\"dataframe\">\n",
       "  <thead>\n",
       "    <tr style=\"text-align: right;\">\n",
       "      <th></th>\n",
       "      <th>Severity</th>\n",
       "      <th>Route Config</th>\n",
       "    </tr>\n",
       "  </thead>\n",
       "  <tbody>\n",
       "    <tr>\n",
       "      <th>0</th>\n",
       "      <td>1.0</td>\n",
       "      <td>-0.847268</td>\n",
       "    </tr>\n",
       "    <tr>\n",
       "      <th>1</th>\n",
       "      <td>2.0</td>\n",
       "      <td>-0.852672</td>\n",
       "    </tr>\n",
       "    <tr>\n",
       "      <th>2</th>\n",
       "      <td>3.0</td>\n",
       "      <td>-0.655075</td>\n",
       "    </tr>\n",
       "    <tr>\n",
       "      <th>3</th>\n",
       "      <td>4.0</td>\n",
       "      <td>-0.605511</td>\n",
       "    </tr>\n",
       "    <tr>\n",
       "      <th>4</th>\n",
       "      <td>5.0</td>\n",
       "      <td>-0.489493</td>\n",
       "    </tr>\n",
       "  </tbody>\n",
       "</table>\n",
       "</div>"
      ],
      "text/plain": [
       "   Severity  Route Config\n",
       "0       1.0     -0.847268\n",
       "1       2.0     -0.852672\n",
       "2       3.0     -0.655075\n",
       "3       4.0     -0.605511\n",
       "4       5.0     -0.489493"
      ]
     },
     "execution_count": 63,
     "metadata": {},
     "output_type": "execute_result"
    }
   ],
   "source": [
    "Corr_df7=pd.concat([Sev, Corr_Conf_route], axis=1)\n",
    "Corr_df7.rename(columns={0:'Severity', 1:'Route Config'}, inplace=True)\n",
    "Corr_df7.head()"
   ]
  },
  {
   "cell_type": "markdown",
   "metadata": {},
   "source": [
    "# adding the direction of the route CD_PNT_CDRNL_ROUTE"
   ]
  },
  {
   "cell_type": "code",
   "execution_count": 64,
   "metadata": {},
   "outputs": [
    {
     "data": {
      "text/plain": [
       "array([nan, 'N', 'O', 'S', 'E'], dtype=object)"
      ]
     },
     "execution_count": 64,
     "metadata": {},
     "output_type": "execute_result"
    }
   ],
   "source": [
    "df['CD_PNT_CDRNL_ROUTE'].unique()"
   ]
  },
  {
   "cell_type": "markdown",
   "metadata": {},
   "source": [
    "##### N means north, it will be replaced by 1.0\n",
    "##### S means west, it will be replaced by 2.0\n",
    "##### E means east, it will be replaced by 3.0\n",
    "##### O means west, it will be replaced by 4.0\n",
    "##### nan means not registered, thus it won't be taken into account"
   ]
  },
  {
   "cell_type": "code",
   "execution_count": 65,
   "metadata": {},
   "outputs": [
    {
     "data": {
      "text/plain": [
       "array([nan,  1.,  4.,  2.,  3.])"
      ]
     },
     "execution_count": 65,
     "metadata": {},
     "output_type": "execute_result"
    }
   ],
   "source": [
    "df['CD_PNT_CDRNL_ROUTE'].replace(['N', 'S', 'E', 'O'], [1.0, 2.0,3.0,4.0], inplace=True)\n",
    "df['CD_PNT_CDRNL_ROUTE'].unique()"
   ]
  },
  {
   "cell_type": "code",
   "execution_count": 66,
   "metadata": {},
   "outputs": [],
   "source": [
    "df8=df[['GRAVITE','CD_PNT_CDRNL_ROUTE']]\n",
    "df85=df8[df8['GRAVITE']==5.0].groupby('CD_PNT_CDRNL_ROUTE').count()\n",
    "df84=df8[df8['GRAVITE']==4.0].groupby('CD_PNT_CDRNL_ROUTE').count()\n",
    "df83=df8[df8['GRAVITE']==3.0].groupby('CD_PNT_CDRNL_ROUTE').count()\n",
    "df82=df8[df8['GRAVITE']==2.0].groupby('CD_PNT_CDRNL_ROUTE').count()\n",
    "df81=df8[df8['GRAVITE']==1.0].groupby('CD_PNT_CDRNL_ROUTE').count()"
   ]
  },
  {
   "cell_type": "code",
   "execution_count": 67,
   "metadata": {},
   "outputs": [],
   "source": [
    "df85.reset_index(inplace=True)\n",
    "df84.reset_index(inplace=True)\n",
    "df83.reset_index(inplace=True)\n",
    "df82.reset_index(inplace=True)\n",
    "df81.reset_index(inplace=True)"
   ]
  },
  {
   "cell_type": "code",
   "execution_count": 68,
   "metadata": {},
   "outputs": [
    {
     "name": "stdout",
     "output_type": "stream",
     "text": [
      "the correlation indexes of severity to route direction are: \n"
     ]
    },
    {
     "data": {
      "text/plain": [
       "0    0.972598\n",
       "1    0.536875\n",
       "2    0.568855\n",
       "3    0.944911\n",
       "4         NaN\n",
       "dtype: float64"
      ]
     },
     "execution_count": 68,
     "metadata": {},
     "output_type": "execute_result"
    }
   ],
   "source": [
    "Corr_Dir_route=np.empty(5)\n",
    "Corr_Dir_route[0]=df81.corr()['GRAVITE'][0]\n",
    "Corr_Dir_route[1]=df82.corr()['GRAVITE'][0]\n",
    "Corr_Dir_route[2]=df83.corr()['GRAVITE'][0]\n",
    "Corr_Dir_route[3]=df84.corr()['GRAVITE'][0]\n",
    "Corr_Dir_route[4]=df85.corr()['GRAVITE'][0]\n",
    "Corr_Dir_route=pd.Series(Corr_Dir_route)\n",
    "print('the correlation indexes of severity to route direction are: ')\n",
    "Corr_Dir_route"
   ]
  },
  {
   "cell_type": "code",
   "execution_count": 69,
   "metadata": {},
   "outputs": [
    {
     "data": {
      "text/html": [
       "<div>\n",
       "<style scoped>\n",
       "    .dataframe tbody tr th:only-of-type {\n",
       "        vertical-align: middle;\n",
       "    }\n",
       "\n",
       "    .dataframe tbody tr th {\n",
       "        vertical-align: top;\n",
       "    }\n",
       "\n",
       "    .dataframe thead th {\n",
       "        text-align: right;\n",
       "    }\n",
       "</style>\n",
       "<table border=\"1\" class=\"dataframe\">\n",
       "  <thead>\n",
       "    <tr style=\"text-align: right;\">\n",
       "      <th></th>\n",
       "      <th>Severity</th>\n",
       "      <th>Route Direction</th>\n",
       "    </tr>\n",
       "  </thead>\n",
       "  <tbody>\n",
       "    <tr>\n",
       "      <th>0</th>\n",
       "      <td>1.0</td>\n",
       "      <td>0.972598</td>\n",
       "    </tr>\n",
       "    <tr>\n",
       "      <th>1</th>\n",
       "      <td>2.0</td>\n",
       "      <td>0.536875</td>\n",
       "    </tr>\n",
       "    <tr>\n",
       "      <th>2</th>\n",
       "      <td>3.0</td>\n",
       "      <td>0.568855</td>\n",
       "    </tr>\n",
       "    <tr>\n",
       "      <th>3</th>\n",
       "      <td>4.0</td>\n",
       "      <td>0.944911</td>\n",
       "    </tr>\n",
       "    <tr>\n",
       "      <th>4</th>\n",
       "      <td>5.0</td>\n",
       "      <td>NaN</td>\n",
       "    </tr>\n",
       "  </tbody>\n",
       "</table>\n",
       "</div>"
      ],
      "text/plain": [
       "   Severity  Route Direction\n",
       "0       1.0         0.972598\n",
       "1       2.0         0.536875\n",
       "2       3.0         0.568855\n",
       "3       4.0         0.944911\n",
       "4       5.0              NaN"
      ]
     },
     "execution_count": 69,
     "metadata": {},
     "output_type": "execute_result"
    }
   ],
   "source": [
    "Corr_df8=pd.concat([Sev, Corr_Dir_route], axis=1)\n",
    "Corr_df8.rename(columns={0:'Severity', 1:'Route Direction'}, inplace=True)\n",
    "Corr_df8.head()"
   ]
  },
  {
   "cell_type": "code",
   "execution_count": 70,
   "metadata": {},
   "outputs": [
    {
     "data": {
      "text/html": [
       "<div>\n",
       "<style scoped>\n",
       "    .dataframe tbody tr th:only-of-type {\n",
       "        vertical-align: middle;\n",
       "    }\n",
       "\n",
       "    .dataframe tbody tr th {\n",
       "        vertical-align: top;\n",
       "    }\n",
       "\n",
       "    .dataframe thead th {\n",
       "        text-align: right;\n",
       "    }\n",
       "</style>\n",
       "<table border=\"1\" class=\"dataframe\">\n",
       "  <thead>\n",
       "    <tr style=\"text-align: right;\">\n",
       "      <th></th>\n",
       "      <th>CD_PNT_CDRNL_ROUTE</th>\n",
       "      <th>GRAVITE</th>\n",
       "    </tr>\n",
       "  </thead>\n",
       "  <tbody>\n",
       "  </tbody>\n",
       "</table>\n",
       "</div>"
      ],
      "text/plain": [
       "Empty DataFrame\n",
       "Columns: [CD_PNT_CDRNL_ROUTE, GRAVITE]\n",
       "Index: []"
      ]
     },
     "execution_count": 70,
     "metadata": {},
     "output_type": "execute_result"
    }
   ],
   "source": [
    "df85.head()"
   ]
  },
  {
   "cell_type": "markdown",
   "metadata": {},
   "source": [
    "##### The route direction is not registered for any of the severe accidents.  It is recommended to check for data consistency. Thus, the nan value will be replaced by 0 correlation"
   ]
  },
  {
   "cell_type": "code",
   "execution_count": 71,
   "metadata": {},
   "outputs": [
    {
     "data": {
      "text/html": [
       "<div>\n",
       "<style scoped>\n",
       "    .dataframe tbody tr th:only-of-type {\n",
       "        vertical-align: middle;\n",
       "    }\n",
       "\n",
       "    .dataframe tbody tr th {\n",
       "        vertical-align: top;\n",
       "    }\n",
       "\n",
       "    .dataframe thead th {\n",
       "        text-align: right;\n",
       "    }\n",
       "</style>\n",
       "<table border=\"1\" class=\"dataframe\">\n",
       "  <thead>\n",
       "    <tr style=\"text-align: right;\">\n",
       "      <th></th>\n",
       "      <th>Severity</th>\n",
       "      <th>Route Direction</th>\n",
       "    </tr>\n",
       "  </thead>\n",
       "  <tbody>\n",
       "    <tr>\n",
       "      <th>0</th>\n",
       "      <td>1.0</td>\n",
       "      <td>0.972598</td>\n",
       "    </tr>\n",
       "    <tr>\n",
       "      <th>1</th>\n",
       "      <td>2.0</td>\n",
       "      <td>0.536875</td>\n",
       "    </tr>\n",
       "    <tr>\n",
       "      <th>2</th>\n",
       "      <td>3.0</td>\n",
       "      <td>0.568855</td>\n",
       "    </tr>\n",
       "    <tr>\n",
       "      <th>3</th>\n",
       "      <td>4.0</td>\n",
       "      <td>0.944911</td>\n",
       "    </tr>\n",
       "    <tr>\n",
       "      <th>4</th>\n",
       "      <td>5.0</td>\n",
       "      <td>0.000000</td>\n",
       "    </tr>\n",
       "  </tbody>\n",
       "</table>\n",
       "</div>"
      ],
      "text/plain": [
       "   Severity  Route Direction\n",
       "0       1.0         0.972598\n",
       "1       2.0         0.536875\n",
       "2       3.0         0.568855\n",
       "3       4.0         0.944911\n",
       "4       5.0         0.000000"
      ]
     },
     "execution_count": 71,
     "metadata": {},
     "output_type": "execute_result"
    }
   ],
   "source": [
    "Corr_df8['Route Direction'][4]=0.0\n",
    "Corr_df8.head()"
   ]
  },
  {
   "cell_type": "markdown",
   "metadata": {},
   "source": [
    "# adding the speed limit VITESSE_AUTOR as a variable"
   ]
  },
  {
   "cell_type": "code",
   "execution_count": 72,
   "metadata": {},
   "outputs": [
    {
     "data": {
      "text/plain": [
       "array([ nan,  50.,  40.,  30.,  10., 100.,  20.,  70.,  60.,  90.,  80.])"
      ]
     },
     "execution_count": 72,
     "metadata": {},
     "output_type": "execute_result"
    }
   ],
   "source": [
    "df['VITESSE_AUTOR'].unique()"
   ]
  },
  {
   "cell_type": "code",
   "execution_count": 73,
   "metadata": {},
   "outputs": [],
   "source": [
    "df9=df[['GRAVITE','VITESSE_AUTOR']]\n",
    "df95=df9[df9['GRAVITE']==5.0].groupby('VITESSE_AUTOR').count()\n",
    "df94=df9[df9['GRAVITE']==4.0].groupby('VITESSE_AUTOR').count()\n",
    "df93=df9[df9['GRAVITE']==3.0].groupby('VITESSE_AUTOR').count()\n",
    "df92=df9[df9['GRAVITE']==2.0].groupby('VITESSE_AUTOR').count()\n",
    "df91=df9[df9['GRAVITE']==1.0].groupby('VITESSE_AUTOR').count()"
   ]
  },
  {
   "cell_type": "code",
   "execution_count": 74,
   "metadata": {},
   "outputs": [],
   "source": [
    "df95.reset_index(inplace=True)\n",
    "df94.reset_index(inplace=True)\n",
    "df93.reset_index(inplace=True)\n",
    "df92.reset_index(inplace=True)\n",
    "df91.reset_index(inplace=True)"
   ]
  },
  {
   "cell_type": "code",
   "execution_count": 75,
   "metadata": {},
   "outputs": [
    {
     "name": "stdout",
     "output_type": "stream",
     "text": [
      "the correlation indexes of severity to speed limit are: \n"
     ]
    },
    {
     "data": {
      "text/plain": [
       "0   -0.175092\n",
       "1   -0.149673\n",
       "2   -0.124444\n",
       "3    0.024603\n",
       "4    0.367749\n",
       "dtype: float64"
      ]
     },
     "execution_count": 75,
     "metadata": {},
     "output_type": "execute_result"
    }
   ],
   "source": [
    "Corr_Speed_limit=np.empty(5)\n",
    "Corr_Speed_limit[0]=df91.corr()['GRAVITE'][0]\n",
    "Corr_Speed_limit[1]=df92.corr()['GRAVITE'][0]\n",
    "Corr_Speed_limit[2]=df93.corr()['GRAVITE'][0]\n",
    "Corr_Speed_limit[3]=df94.corr()['GRAVITE'][0]\n",
    "Corr_Speed_limit[4]=df95.corr()['GRAVITE'][0]\n",
    "Corr_Speed_limit=pd.Series(Corr_Speed_limit)\n",
    "print('the correlation indexes of severity to speed limit are: ')\n",
    "Corr_Speed_limit"
   ]
  },
  {
   "cell_type": "code",
   "execution_count": 76,
   "metadata": {},
   "outputs": [
    {
     "data": {
      "text/html": [
       "<div>\n",
       "<style scoped>\n",
       "    .dataframe tbody tr th:only-of-type {\n",
       "        vertical-align: middle;\n",
       "    }\n",
       "\n",
       "    .dataframe tbody tr th {\n",
       "        vertical-align: top;\n",
       "    }\n",
       "\n",
       "    .dataframe thead th {\n",
       "        text-align: right;\n",
       "    }\n",
       "</style>\n",
       "<table border=\"1\" class=\"dataframe\">\n",
       "  <thead>\n",
       "    <tr style=\"text-align: right;\">\n",
       "      <th></th>\n",
       "      <th>Severity</th>\n",
       "      <th>Sped Limit</th>\n",
       "    </tr>\n",
       "  </thead>\n",
       "  <tbody>\n",
       "    <tr>\n",
       "      <th>0</th>\n",
       "      <td>1.0</td>\n",
       "      <td>-0.175092</td>\n",
       "    </tr>\n",
       "    <tr>\n",
       "      <th>1</th>\n",
       "      <td>2.0</td>\n",
       "      <td>-0.149673</td>\n",
       "    </tr>\n",
       "    <tr>\n",
       "      <th>2</th>\n",
       "      <td>3.0</td>\n",
       "      <td>-0.124444</td>\n",
       "    </tr>\n",
       "    <tr>\n",
       "      <th>3</th>\n",
       "      <td>4.0</td>\n",
       "      <td>0.024603</td>\n",
       "    </tr>\n",
       "    <tr>\n",
       "      <th>4</th>\n",
       "      <td>5.0</td>\n",
       "      <td>0.367749</td>\n",
       "    </tr>\n",
       "  </tbody>\n",
       "</table>\n",
       "</div>"
      ],
      "text/plain": [
       "   Severity  Sped Limit\n",
       "0       1.0   -0.175092\n",
       "1       2.0   -0.149673\n",
       "2       3.0   -0.124444\n",
       "3       4.0    0.024603\n",
       "4       5.0    0.367749"
      ]
     },
     "execution_count": 76,
     "metadata": {},
     "output_type": "execute_result"
    }
   ],
   "source": [
    "Corr_df9=pd.concat([Sev, Corr_Speed_limit], axis=1)\n",
    "Corr_df9.rename(columns={0:'Severity', 1:'Sped Limit'}, inplace=True)\n",
    "Corr_df9.head()"
   ]
  },
  {
   "cell_type": "markdown",
   "metadata": {},
   "source": [
    "# adding visibility CD_ECLRM as a variable"
   ]
  },
  {
   "cell_type": "code",
   "execution_count": 77,
   "metadata": {},
   "outputs": [
    {
     "data": {
      "text/plain": [
       "array([ 1.,  3., nan,  2.,  4.])"
      ]
     },
     "execution_count": 77,
     "metadata": {},
     "output_type": "execute_result"
    }
   ],
   "source": [
    "df['CD_ECLRM'].unique()"
   ]
  },
  {
   "cell_type": "markdown",
   "metadata": {},
   "source": [
    "##### 1.0 means clear day\n",
    "##### 2.0 means semi dark\n",
    "##### 3.0 means night and clear road\n",
    "##### 4.0 means night and poor visivility\n",
    "##### nan means not registered, thus it won't be taken into account"
   ]
  },
  {
   "cell_type": "code",
   "execution_count": 78,
   "metadata": {},
   "outputs": [],
   "source": [
    "df10=df[['GRAVITE','CD_ECLRM']]\n",
    "df105=df10[df10['GRAVITE']==5.0].groupby('CD_ECLRM').count()\n",
    "df104=df10[df10['GRAVITE']==4.0].groupby('CD_ECLRM').count()\n",
    "df103=df10[df10['GRAVITE']==3.0].groupby('CD_ECLRM').count()\n",
    "df102=df10[df10['GRAVITE']==2.0].groupby('CD_ECLRM').count()\n",
    "df101=df10[df10['GRAVITE']==1.0].groupby('CD_ECLRM').count()"
   ]
  },
  {
   "cell_type": "code",
   "execution_count": 79,
   "metadata": {},
   "outputs": [],
   "source": [
    "df105.reset_index(inplace=True)\n",
    "df104.reset_index(inplace=True)\n",
    "df103.reset_index(inplace=True)\n",
    "df102.reset_index(inplace=True)\n",
    "df101.reset_index(inplace=True)"
   ]
  },
  {
   "cell_type": "code",
   "execution_count": 80,
   "metadata": {},
   "outputs": [
    {
     "name": "stdout",
     "output_type": "stream",
     "text": [
      "the correlation indexes of severity to visibility are: \n"
     ]
    },
    {
     "data": {
      "text/plain": [
       "0   -0.775695\n",
       "1   -0.723240\n",
       "2   -0.764609\n",
       "3   -0.660028\n",
       "4   -0.643889\n",
       "dtype: float64"
      ]
     },
     "execution_count": 80,
     "metadata": {},
     "output_type": "execute_result"
    }
   ],
   "source": [
    "Corr_Visibility=np.empty(5)\n",
    "Corr_Visibility[0]=df101.corr()['GRAVITE'][0]\n",
    "Corr_Visibility[1]=df102.corr()['GRAVITE'][0]\n",
    "Corr_Visibility[2]=df103.corr()['GRAVITE'][0]\n",
    "Corr_Visibility[3]=df104.corr()['GRAVITE'][0]\n",
    "Corr_Visibility[4]=df105.corr()['GRAVITE'][0]\n",
    "Corr_Visibility=pd.Series(Corr_Visibility)\n",
    "print('the correlation indexes of severity to visibility are: ')\n",
    "Corr_Visibility"
   ]
  },
  {
   "cell_type": "code",
   "execution_count": 81,
   "metadata": {},
   "outputs": [
    {
     "data": {
      "text/html": [
       "<div>\n",
       "<style scoped>\n",
       "    .dataframe tbody tr th:only-of-type {\n",
       "        vertical-align: middle;\n",
       "    }\n",
       "\n",
       "    .dataframe tbody tr th {\n",
       "        vertical-align: top;\n",
       "    }\n",
       "\n",
       "    .dataframe thead th {\n",
       "        text-align: right;\n",
       "    }\n",
       "</style>\n",
       "<table border=\"1\" class=\"dataframe\">\n",
       "  <thead>\n",
       "    <tr style=\"text-align: right;\">\n",
       "      <th></th>\n",
       "      <th>Severity</th>\n",
       "      <th>Visibility</th>\n",
       "    </tr>\n",
       "  </thead>\n",
       "  <tbody>\n",
       "    <tr>\n",
       "      <th>0</th>\n",
       "      <td>1.0</td>\n",
       "      <td>-0.775695</td>\n",
       "    </tr>\n",
       "    <tr>\n",
       "      <th>1</th>\n",
       "      <td>2.0</td>\n",
       "      <td>-0.723240</td>\n",
       "    </tr>\n",
       "    <tr>\n",
       "      <th>2</th>\n",
       "      <td>3.0</td>\n",
       "      <td>-0.764609</td>\n",
       "    </tr>\n",
       "    <tr>\n",
       "      <th>3</th>\n",
       "      <td>4.0</td>\n",
       "      <td>-0.660028</td>\n",
       "    </tr>\n",
       "    <tr>\n",
       "      <th>4</th>\n",
       "      <td>5.0</td>\n",
       "      <td>-0.643889</td>\n",
       "    </tr>\n",
       "  </tbody>\n",
       "</table>\n",
       "</div>"
      ],
      "text/plain": [
       "   Severity  Visibility\n",
       "0       1.0   -0.775695\n",
       "1       2.0   -0.723240\n",
       "2       3.0   -0.764609\n",
       "3       4.0   -0.660028\n",
       "4       5.0   -0.643889"
      ]
     },
     "execution_count": 81,
     "metadata": {},
     "output_type": "execute_result"
    }
   ],
   "source": [
    "Corr_df10=pd.concat([Sev, Corr_Visibility], axis=1)\n",
    "Corr_df10.rename(columns={0:'Severity', 1:'Visibility'}, inplace=True)\n",
    "Corr_df10.head()"
   ]
  },
  {
   "cell_type": "markdown",
   "metadata": {},
   "source": [
    "# adding activity of the route environment CD_ENVRN_ACCDN as a variable"
   ]
  },
  {
   "cell_type": "code",
   "execution_count": 82,
   "metadata": {},
   "outputs": [
    {
     "data": {
      "text/plain": [
       "array([ 1.,  3.,  2., nan,  7.,  9.,  4.,  5.,  6.])"
      ]
     },
     "execution_count": 82,
     "metadata": {},
     "output_type": "execute_result"
    }
   ],
   "source": [
    "df['CD_ENVRN_ACCDN'].unique()"
   ]
  },
  {
   "cell_type": "markdown",
   "metadata": {},
   "source": [
    "##### 1.0 means school zone\n",
    "##### 2.0 means residential zone\n",
    "##### 3.0 means business or commercial zone\n",
    "##### 4.0 means Industrial or manufacturing zone\n",
    "##### 5.0 means rural area\n",
    "##### 6.0 means forest environment\n",
    "##### 7.0 means recreational area: park, camping, sports\n",
    "##### 9.0 means other areas, but 8.0 is missing, so 9.0 shall be converted to 8.0 to avoid bias\n",
    "##### 0.0 and nan means non registered so they won't be taken into account. 0.0 shall be converted to nan to avoid bias"
   ]
  },
  {
   "cell_type": "code",
   "execution_count": 83,
   "metadata": {},
   "outputs": [
    {
     "data": {
      "text/plain": [
       "array([ 1.,  3.,  2., nan,  7.,  8.,  4.,  5.,  6.])"
      ]
     },
     "execution_count": 83,
     "metadata": {},
     "output_type": "execute_result"
    }
   ],
   "source": [
    "df['CD_ENVRN_ACCDN'].replace(9.0,8.0, inplace=True)\n",
    "df['CD_ENVRN_ACCDN'].unique()"
   ]
  },
  {
   "cell_type": "code",
   "execution_count": 84,
   "metadata": {},
   "outputs": [],
   "source": [
    "df11=df[['GRAVITE','CD_ENVRN_ACCDN']]\n",
    "df115=df11[df11['GRAVITE']==5.0].groupby('CD_ENVRN_ACCDN').count()\n",
    "df114=df11[df11['GRAVITE']==4.0].groupby('CD_ENVRN_ACCDN').count()\n",
    "df113=df11[df11['GRAVITE']==3.0].groupby('CD_ENVRN_ACCDN').count()\n",
    "df112=df11[df11['GRAVITE']==2.0].groupby('CD_ENVRN_ACCDN').count()\n",
    "df111=df11[df11['GRAVITE']==1.0].groupby('CD_ENVRN_ACCDN').count()"
   ]
  },
  {
   "cell_type": "code",
   "execution_count": 85,
   "metadata": {},
   "outputs": [],
   "source": [
    "df115.reset_index(inplace=True)\n",
    "df114.reset_index(inplace=True)\n",
    "df113.reset_index(inplace=True)\n",
    "df112.reset_index(inplace=True)\n",
    "df111.reset_index(inplace=True)"
   ]
  },
  {
   "cell_type": "code",
   "execution_count": 86,
   "metadata": {},
   "outputs": [
    {
     "name": "stdout",
     "output_type": "stream",
     "text": [
      "the correlation indexes of severity to activity are: \n"
     ]
    },
    {
     "data": {
      "text/plain": [
       "0   -0.513651\n",
       "1   -0.534396\n",
       "2   -0.521160\n",
       "3   -0.509946\n",
       "4   -0.512833\n",
       "dtype: float64"
      ]
     },
     "execution_count": 86,
     "metadata": {},
     "output_type": "execute_result"
    }
   ],
   "source": [
    "Corr_activity=np.empty(5)\n",
    "Corr_activity[0]=df111.corr()['GRAVITE'][0]\n",
    "Corr_activity[1]=df112.corr()['GRAVITE'][0]\n",
    "Corr_activity[2]=df113.corr()['GRAVITE'][0]\n",
    "Corr_activity[3]=df114.corr()['GRAVITE'][0]\n",
    "Corr_activity[4]=df115.corr()['GRAVITE'][0]\n",
    "Corr_activity=pd.Series(Corr_activity)\n",
    "print('the correlation indexes of severity to activity are: ')\n",
    "Corr_activity"
   ]
  },
  {
   "cell_type": "code",
   "execution_count": 87,
   "metadata": {},
   "outputs": [
    {
     "data": {
      "text/html": [
       "<div>\n",
       "<style scoped>\n",
       "    .dataframe tbody tr th:only-of-type {\n",
       "        vertical-align: middle;\n",
       "    }\n",
       "\n",
       "    .dataframe tbody tr th {\n",
       "        vertical-align: top;\n",
       "    }\n",
       "\n",
       "    .dataframe thead th {\n",
       "        text-align: right;\n",
       "    }\n",
       "</style>\n",
       "<table border=\"1\" class=\"dataframe\">\n",
       "  <thead>\n",
       "    <tr style=\"text-align: right;\">\n",
       "      <th></th>\n",
       "      <th>Severity</th>\n",
       "      <th>Activity</th>\n",
       "    </tr>\n",
       "  </thead>\n",
       "  <tbody>\n",
       "    <tr>\n",
       "      <th>0</th>\n",
       "      <td>1.0</td>\n",
       "      <td>-0.513651</td>\n",
       "    </tr>\n",
       "    <tr>\n",
       "      <th>1</th>\n",
       "      <td>2.0</td>\n",
       "      <td>-0.534396</td>\n",
       "    </tr>\n",
       "    <tr>\n",
       "      <th>2</th>\n",
       "      <td>3.0</td>\n",
       "      <td>-0.521160</td>\n",
       "    </tr>\n",
       "    <tr>\n",
       "      <th>3</th>\n",
       "      <td>4.0</td>\n",
       "      <td>-0.509946</td>\n",
       "    </tr>\n",
       "    <tr>\n",
       "      <th>4</th>\n",
       "      <td>5.0</td>\n",
       "      <td>-0.512833</td>\n",
       "    </tr>\n",
       "  </tbody>\n",
       "</table>\n",
       "</div>"
      ],
      "text/plain": [
       "   Severity  Activity\n",
       "0       1.0 -0.513651\n",
       "1       2.0 -0.534396\n",
       "2       3.0 -0.521160\n",
       "3       4.0 -0.509946\n",
       "4       5.0 -0.512833"
      ]
     },
     "execution_count": 87,
     "metadata": {},
     "output_type": "execute_result"
    }
   ],
   "source": [
    "Corr_df11=pd.concat([Sev, Corr_activity], axis=1)\n",
    "Corr_df11.rename(columns={0:'Severity', 1:'Activity'}, inplace=True)\n",
    "Corr_df11.head()"
   ]
  },
  {
   "cell_type": "markdown",
   "metadata": {},
   "source": [
    "# adding the category of the route CD_CATEG_ROUTE as a variable"
   ]
  },
  {
   "cell_type": "code",
   "execution_count": 88,
   "metadata": {},
   "outputs": [
    {
     "data": {
      "text/plain": [
       "array([21., 11., 13., 14., nan, 22., 29., 15., 24., 19., 12., 23., 16.,\n",
       "       25.])"
      ]
     },
     "execution_count": 88,
     "metadata": {},
     "output_type": "execute_result"
    }
   ],
   "source": [
    "df['CD_CATEG_ROUTE'].unique()"
   ]
  },
  {
   "cell_type": "markdown",
   "metadata": {},
   "source": [
    "##### 11 means public: road, not numbered. \n",
    "##### 12 means public: road numbered. \n",
    "##### 13 means public: main road.\n",
    "##### 14 means public: residential road. \n",
    "##### 15  means public: secondary road in rural area. \n",
    "##### 16 means public: small road usually serving the back of houses. \n",
    "##### 19 means public: another type of road. 17 is missing, thus 19 shall be replaced by 17 to avoid bias\n",
    "##### 21 means private: parking area. 17 is missing, thus 21 shall be replaced by 18 to avoid bias\n",
    "##### 22 means private: private terrain. 17 is missing, thus 22 shall be replaced by 19 to avoid bias\n",
    "##### 23 means private: private road.  17 is missing, thus 23 shall be replaced by 20 to avoid bias\n",
    "##### 24 means private: private access road. 17 is missing, thus 24 shall be replaced by 21\n",
    "##### 25 means private: private road with traffic signals. 17 is missing, thus 25 shall be replaced by 22 to avoid bias\n",
    "##### 29 means another kind of road different to the specified above. 17 is missing, thus 29 shall be replaced by 23 to avoid bias\n",
    "##### nan means not registered, thus it won't be taken into account"
   ]
  },
  {
   "cell_type": "code",
   "execution_count": 89,
   "metadata": {},
   "outputs": [
    {
     "data": {
      "text/plain": [
       "array([18., 11., 13., 14., nan, 19., 23., 15., 21., 17., 12., 20., 16.,\n",
       "       22.])"
      ]
     },
     "execution_count": 89,
     "metadata": {},
     "output_type": "execute_result"
    }
   ],
   "source": [
    "df['CD_CATEG_ROUTE'].replace(19., 17., inplace=True)\n",
    "df['CD_CATEG_ROUTE'].replace(21., 18., inplace=True)\n",
    "df['CD_CATEG_ROUTE'].replace(22., 19., inplace=True)\n",
    "df['CD_CATEG_ROUTE'].replace(23., 20., inplace=True)\n",
    "df['CD_CATEG_ROUTE'].replace(24., 21., inplace=True)\n",
    "df['CD_CATEG_ROUTE'].replace(25., 22., inplace=True)\n",
    "df['CD_CATEG_ROUTE'].replace(29., 23., inplace=True)\n",
    "df['CD_CATEG_ROUTE'].unique()"
   ]
  },
  {
   "cell_type": "code",
   "execution_count": 90,
   "metadata": {},
   "outputs": [],
   "source": [
    "df12=df[['GRAVITE','CD_CATEG_ROUTE']]\n",
    "df125=df12[df12['GRAVITE']==5.0].groupby('CD_CATEG_ROUTE').count()\n",
    "df124=df12[df12['GRAVITE']==4.0].groupby('CD_CATEG_ROUTE').count()\n",
    "df123=df12[df12['GRAVITE']==3.0].groupby('CD_CATEG_ROUTE').count()\n",
    "df122=df12[df12['GRAVITE']==2.0].groupby('CD_CATEG_ROUTE').count()\n",
    "df121=df12[df12['GRAVITE']==1.0].groupby('CD_CATEG_ROUTE').count()"
   ]
  },
  {
   "cell_type": "code",
   "execution_count": 91,
   "metadata": {},
   "outputs": [],
   "source": [
    "df125.reset_index(inplace=True)\n",
    "df124.reset_index(inplace=True)\n",
    "df123.reset_index(inplace=True)\n",
    "df122.reset_index(inplace=True)\n",
    "df121.reset_index(inplace=True)"
   ]
  },
  {
   "cell_type": "code",
   "execution_count": 92,
   "metadata": {},
   "outputs": [
    {
     "name": "stdout",
     "output_type": "stream",
     "text": [
      "the correlation indexes of severity to route category are: \n"
     ]
    },
    {
     "data": {
      "text/plain": [
       "0   -0.396483\n",
       "1   -0.447858\n",
       "2   -0.405208\n",
       "3   -0.381200\n",
       "4   -0.330821\n",
       "dtype: float64"
      ]
     },
     "execution_count": 92,
     "metadata": {},
     "output_type": "execute_result"
    }
   ],
   "source": [
    "Corr_Cat_route=np.empty(5)\n",
    "Corr_Cat_route[0]=df121.corr()['GRAVITE'][0]\n",
    "Corr_Cat_route[1]=df122.corr()['GRAVITE'][0]\n",
    "Corr_Cat_route[2]=df123.corr()['GRAVITE'][0]\n",
    "Corr_Cat_route[3]=df124.corr()['GRAVITE'][0]\n",
    "Corr_Cat_route[4]=df125.corr()['GRAVITE'][0]\n",
    "Corr_Cat_route=pd.Series(Corr_Cat_route)\n",
    "print('the correlation indexes of severity to route category are: ')\n",
    "Corr_Cat_route"
   ]
  },
  {
   "cell_type": "code",
   "execution_count": 93,
   "metadata": {},
   "outputs": [
    {
     "data": {
      "text/html": [
       "<div>\n",
       "<style scoped>\n",
       "    .dataframe tbody tr th:only-of-type {\n",
       "        vertical-align: middle;\n",
       "    }\n",
       "\n",
       "    .dataframe tbody tr th {\n",
       "        vertical-align: top;\n",
       "    }\n",
       "\n",
       "    .dataframe thead th {\n",
       "        text-align: right;\n",
       "    }\n",
       "</style>\n",
       "<table border=\"1\" class=\"dataframe\">\n",
       "  <thead>\n",
       "    <tr style=\"text-align: right;\">\n",
       "      <th></th>\n",
       "      <th>Severity</th>\n",
       "      <th>Category</th>\n",
       "    </tr>\n",
       "  </thead>\n",
       "  <tbody>\n",
       "    <tr>\n",
       "      <th>0</th>\n",
       "      <td>1.0</td>\n",
       "      <td>-0.396483</td>\n",
       "    </tr>\n",
       "    <tr>\n",
       "      <th>1</th>\n",
       "      <td>2.0</td>\n",
       "      <td>-0.447858</td>\n",
       "    </tr>\n",
       "    <tr>\n",
       "      <th>2</th>\n",
       "      <td>3.0</td>\n",
       "      <td>-0.405208</td>\n",
       "    </tr>\n",
       "    <tr>\n",
       "      <th>3</th>\n",
       "      <td>4.0</td>\n",
       "      <td>-0.381200</td>\n",
       "    </tr>\n",
       "    <tr>\n",
       "      <th>4</th>\n",
       "      <td>5.0</td>\n",
       "      <td>-0.330821</td>\n",
       "    </tr>\n",
       "  </tbody>\n",
       "</table>\n",
       "</div>"
      ],
      "text/plain": [
       "   Severity  Category\n",
       "0       1.0 -0.396483\n",
       "1       2.0 -0.447858\n",
       "2       3.0 -0.405208\n",
       "3       4.0 -0.381200\n",
       "4       5.0 -0.330821"
      ]
     },
     "execution_count": 93,
     "metadata": {},
     "output_type": "execute_result"
    }
   ],
   "source": [
    "Corr_df12=pd.concat([Sev, Corr_Cat_route], axis=1)\n",
    "Corr_df12.rename(columns={0:'Severity', 1:'Category'}, inplace=True)\n",
    "Corr_df12.head()"
   ]
  },
  {
   "cell_type": "markdown",
   "metadata": {},
   "source": [
    "# adding the road condition CD_ETAT_CHASS as a variable"
   ]
  },
  {
   "cell_type": "code",
   "execution_count": 94,
   "metadata": {},
   "outputs": [
    {
     "data": {
      "text/plain": [
       "array([nan,  1.,  9.,  2.,  5.,  6.,  3.,  4.])"
      ]
     },
     "execution_count": 94,
     "metadata": {},
     "output_type": "execute_result"
    }
   ],
   "source": [
    "df['CD_ETAT_CHASS'].unique()"
   ]
  },
  {
   "cell_type": "markdown",
   "metadata": {},
   "source": [
    "##### 1 means road in good condition\n",
    "##### 2 means road under construction or reparation\n",
    "##### 3 means ruts or sags on the road\n",
    "##### 4 means important cracks on the road\n",
    "##### 5 means holes in the road\n",
    "##### 6 means un leveled road\n",
    "##### 9 means another condition, thus 9 shall be converted to 0 to avoid bias\n",
    "##### 0 and nan are non registered values so they won't be taken into account"
   ]
  },
  {
   "cell_type": "code",
   "execution_count": 95,
   "metadata": {},
   "outputs": [
    {
     "data": {
      "text/plain": [
       "array([nan,  1.,  0.,  2.,  5.,  6.,  3.,  4.])"
      ]
     },
     "execution_count": 95,
     "metadata": {},
     "output_type": "execute_result"
    }
   ],
   "source": [
    "df['CD_ETAT_CHASS'].replace(9.,0., inplace=True)\n",
    "df['CD_ETAT_CHASS'].unique()"
   ]
  },
  {
   "cell_type": "code",
   "execution_count": 96,
   "metadata": {},
   "outputs": [],
   "source": [
    "df13=df[['GRAVITE','CD_ETAT_CHASS']]\n",
    "df135=df13[df13['GRAVITE']==5.0].groupby('CD_ETAT_CHASS').count()\n",
    "df134=df13[df13['GRAVITE']==4.0].groupby('CD_ETAT_CHASS').count()\n",
    "df133=df13[df13['GRAVITE']==3.0].groupby('CD_ETAT_CHASS').count()\n",
    "df132=df13[df13['GRAVITE']==2.0].groupby('CD_ETAT_CHASS').count()\n",
    "df131=df13[df13['GRAVITE']==1.0].groupby('CD_ETAT_CHASS').count()"
   ]
  },
  {
   "cell_type": "code",
   "execution_count": 97,
   "metadata": {},
   "outputs": [],
   "source": [
    "df135.reset_index(inplace=True)\n",
    "df134.reset_index(inplace=True)\n",
    "df133.reset_index(inplace=True)\n",
    "df132.reset_index(inplace=True)\n",
    "df131.reset_index(inplace=True)"
   ]
  },
  {
   "cell_type": "code",
   "execution_count": 98,
   "metadata": {},
   "outputs": [
    {
     "name": "stdout",
     "output_type": "stream",
     "text": [
      "the correlation indexes of severity to road condition are: \n"
     ]
    },
    {
     "data": {
      "text/plain": [
       "0   -0.411364\n",
       "1   -0.411202\n",
       "2   -0.410783\n",
       "3   -0.415498\n",
       "4   -0.304122\n",
       "dtype: float64"
      ]
     },
     "execution_count": 98,
     "metadata": {},
     "output_type": "execute_result"
    }
   ],
   "source": [
    "Corr_Road_cond=np.empty(5)\n",
    "Corr_Road_cond[0]=df131.corr()['GRAVITE'][0]\n",
    "Corr_Road_cond[1]=df132.corr()['GRAVITE'][0]\n",
    "Corr_Road_cond[2]=df133.corr()['GRAVITE'][0]\n",
    "Corr_Road_cond[3]=df134.corr()['GRAVITE'][0]\n",
    "Corr_Road_cond[4]=df135.corr()['GRAVITE'][0]\n",
    "Corr_Road_cond=pd.Series(Corr_Road_cond)\n",
    "print('the correlation indexes of severity to road condition are: ')\n",
    "Corr_Road_cond"
   ]
  },
  {
   "cell_type": "code",
   "execution_count": 99,
   "metadata": {},
   "outputs": [
    {
     "data": {
      "text/html": [
       "<div>\n",
       "<style scoped>\n",
       "    .dataframe tbody tr th:only-of-type {\n",
       "        vertical-align: middle;\n",
       "    }\n",
       "\n",
       "    .dataframe tbody tr th {\n",
       "        vertical-align: top;\n",
       "    }\n",
       "\n",
       "    .dataframe thead th {\n",
       "        text-align: right;\n",
       "    }\n",
       "</style>\n",
       "<table border=\"1\" class=\"dataframe\">\n",
       "  <thead>\n",
       "    <tr style=\"text-align: right;\">\n",
       "      <th></th>\n",
       "      <th>Severity</th>\n",
       "      <th>Road condition</th>\n",
       "    </tr>\n",
       "  </thead>\n",
       "  <tbody>\n",
       "    <tr>\n",
       "      <th>0</th>\n",
       "      <td>1.0</td>\n",
       "      <td>-0.411364</td>\n",
       "    </tr>\n",
       "    <tr>\n",
       "      <th>1</th>\n",
       "      <td>2.0</td>\n",
       "      <td>-0.411202</td>\n",
       "    </tr>\n",
       "    <tr>\n",
       "      <th>2</th>\n",
       "      <td>3.0</td>\n",
       "      <td>-0.410783</td>\n",
       "    </tr>\n",
       "    <tr>\n",
       "      <th>3</th>\n",
       "      <td>4.0</td>\n",
       "      <td>-0.415498</td>\n",
       "    </tr>\n",
       "    <tr>\n",
       "      <th>4</th>\n",
       "      <td>5.0</td>\n",
       "      <td>-0.304122</td>\n",
       "    </tr>\n",
       "  </tbody>\n",
       "</table>\n",
       "</div>"
      ],
      "text/plain": [
       "   Severity  Road condition\n",
       "0       1.0       -0.411364\n",
       "1       2.0       -0.411202\n",
       "2       3.0       -0.410783\n",
       "3       4.0       -0.415498\n",
       "4       5.0       -0.304122"
      ]
     },
     "execution_count": 99,
     "metadata": {},
     "output_type": "execute_result"
    }
   ],
   "source": [
    "Corr_df13=pd.concat([Sev, Corr_Road_cond], axis=1)\n",
    "Corr_df13.rename(columns={0:'Severity', 1:'Road condition'}, inplace=True)\n",
    "Corr_df13.head()"
   ]
  },
  {
   "cell_type": "markdown",
   "metadata": {},
   "source": [
    "# Grouping all variables together as a function of the correlation to severity of the accident"
   ]
  },
  {
   "cell_type": "code",
   "execution_count": 100,
   "metadata": {},
   "outputs": [],
   "source": [
    "Corr_to_sev=pd.concat([Sev,Corr_df1['Surf_cond'],Corr_df2['Weather_cond'],Corr_df3['Hour'],Corr_df4['Day'],Corr_df5['Corr_Reg_Adm'],Corr_df6['Intersection'],Corr_df7['Route Config'],Corr_df8['Route Direction'],Corr_df9['Sped Limit'],Corr_df10['Visibility'],Corr_df11['Activity'],Corr_df12['Category'],Corr_df13['Road condition']], axis=1)"
   ]
  },
  {
   "cell_type": "code",
   "execution_count": 101,
   "metadata": {},
   "outputs": [
    {
     "data": {
      "text/html": [
       "<div>\n",
       "<style scoped>\n",
       "    .dataframe tbody tr th:only-of-type {\n",
       "        vertical-align: middle;\n",
       "    }\n",
       "\n",
       "    .dataframe tbody tr th {\n",
       "        vertical-align: top;\n",
       "    }\n",
       "\n",
       "    .dataframe thead th {\n",
       "        text-align: right;\n",
       "    }\n",
       "</style>\n",
       "<table border=\"1\" class=\"dataframe\">\n",
       "  <thead>\n",
       "    <tr style=\"text-align: right;\">\n",
       "      <th></th>\n",
       "      <th>0</th>\n",
       "      <th>Surf_cond</th>\n",
       "      <th>Weather_cond</th>\n",
       "      <th>Hour</th>\n",
       "      <th>Day</th>\n",
       "      <th>Corr_Reg_Adm</th>\n",
       "      <th>Intersection</th>\n",
       "      <th>Route Config</th>\n",
       "      <th>Route Direction</th>\n",
       "      <th>Sped Limit</th>\n",
       "      <th>Visibility</th>\n",
       "      <th>Activity</th>\n",
       "      <th>Category</th>\n",
       "      <th>Road condition</th>\n",
       "    </tr>\n",
       "  </thead>\n",
       "  <tbody>\n",
       "    <tr>\n",
       "      <th>0</th>\n",
       "      <td>1.0</td>\n",
       "      <td>-0.445391</td>\n",
       "      <td>-0.458048</td>\n",
       "      <td>0.457920</td>\n",
       "      <td>-0.573864</td>\n",
       "      <td>-0.233046</td>\n",
       "      <td>-1.0</td>\n",
       "      <td>-0.847268</td>\n",
       "      <td>0.972598</td>\n",
       "      <td>-0.175092</td>\n",
       "      <td>-0.775695</td>\n",
       "      <td>-0.513651</td>\n",
       "      <td>-0.396483</td>\n",
       "      <td>-0.411364</td>\n",
       "    </tr>\n",
       "    <tr>\n",
       "      <th>1</th>\n",
       "      <td>2.0</td>\n",
       "      <td>-0.451113</td>\n",
       "      <td>-0.453828</td>\n",
       "      <td>0.439426</td>\n",
       "      <td>-0.296993</td>\n",
       "      <td>-0.242041</td>\n",
       "      <td>1.0</td>\n",
       "      <td>-0.852672</td>\n",
       "      <td>0.536875</td>\n",
       "      <td>-0.149673</td>\n",
       "      <td>-0.723240</td>\n",
       "      <td>-0.534396</td>\n",
       "      <td>-0.447858</td>\n",
       "      <td>-0.411202</td>\n",
       "    </tr>\n",
       "    <tr>\n",
       "      <th>2</th>\n",
       "      <td>3.0</td>\n",
       "      <td>-0.467770</td>\n",
       "      <td>-0.461712</td>\n",
       "      <td>0.490336</td>\n",
       "      <td>-0.573238</td>\n",
       "      <td>-0.247264</td>\n",
       "      <td>1.0</td>\n",
       "      <td>-0.655075</td>\n",
       "      <td>0.568855</td>\n",
       "      <td>-0.124444</td>\n",
       "      <td>-0.764609</td>\n",
       "      <td>-0.521160</td>\n",
       "      <td>-0.405208</td>\n",
       "      <td>-0.410783</td>\n",
       "    </tr>\n",
       "    <tr>\n",
       "      <th>3</th>\n",
       "      <td>4.0</td>\n",
       "      <td>-0.478971</td>\n",
       "      <td>-0.508197</td>\n",
       "      <td>0.592679</td>\n",
       "      <td>-0.301655</td>\n",
       "      <td>-0.981981</td>\n",
       "      <td>1.0</td>\n",
       "      <td>-0.605511</td>\n",
       "      <td>0.944911</td>\n",
       "      <td>0.024603</td>\n",
       "      <td>-0.660028</td>\n",
       "      <td>-0.509946</td>\n",
       "      <td>-0.381200</td>\n",
       "      <td>-0.415498</td>\n",
       "    </tr>\n",
       "    <tr>\n",
       "      <th>4</th>\n",
       "      <td>5.0</td>\n",
       "      <td>-0.855872</td>\n",
       "      <td>-0.736635</td>\n",
       "      <td>0.282556</td>\n",
       "      <td>-0.460239</td>\n",
       "      <td>1.000000</td>\n",
       "      <td>1.0</td>\n",
       "      <td>-0.489493</td>\n",
       "      <td>0.000000</td>\n",
       "      <td>0.367749</td>\n",
       "      <td>-0.643889</td>\n",
       "      <td>-0.512833</td>\n",
       "      <td>-0.330821</td>\n",
       "      <td>-0.304122</td>\n",
       "    </tr>\n",
       "  </tbody>\n",
       "</table>\n",
       "</div>"
      ],
      "text/plain": [
       "     0  Surf_cond  Weather_cond      Hour       Day  Corr_Reg_Adm  \\\n",
       "0  1.0  -0.445391     -0.458048  0.457920 -0.573864     -0.233046   \n",
       "1  2.0  -0.451113     -0.453828  0.439426 -0.296993     -0.242041   \n",
       "2  3.0  -0.467770     -0.461712  0.490336 -0.573238     -0.247264   \n",
       "3  4.0  -0.478971     -0.508197  0.592679 -0.301655     -0.981981   \n",
       "4  5.0  -0.855872     -0.736635  0.282556 -0.460239      1.000000   \n",
       "\n",
       "   Intersection  Route Config  Route Direction  Sped Limit  Visibility  \\\n",
       "0          -1.0     -0.847268         0.972598   -0.175092   -0.775695   \n",
       "1           1.0     -0.852672         0.536875   -0.149673   -0.723240   \n",
       "2           1.0     -0.655075         0.568855   -0.124444   -0.764609   \n",
       "3           1.0     -0.605511         0.944911    0.024603   -0.660028   \n",
       "4           1.0     -0.489493         0.000000    0.367749   -0.643889   \n",
       "\n",
       "   Activity  Category  Road condition  \n",
       "0 -0.513651 -0.396483       -0.411364  \n",
       "1 -0.534396 -0.447858       -0.411202  \n",
       "2 -0.521160 -0.405208       -0.410783  \n",
       "3 -0.509946 -0.381200       -0.415498  \n",
       "4 -0.512833 -0.330821       -0.304122  "
      ]
     },
     "execution_count": 101,
     "metadata": {},
     "output_type": "execute_result"
    }
   ],
   "source": [
    "Corr_to_sev.head()"
   ]
  },
  {
   "cell_type": "code",
   "execution_count": 102,
   "metadata": {},
   "outputs": [
    {
     "data": {
      "text/html": [
       "<div>\n",
       "<style scoped>\n",
       "    .dataframe tbody tr th:only-of-type {\n",
       "        vertical-align: middle;\n",
       "    }\n",
       "\n",
       "    .dataframe tbody tr th {\n",
       "        vertical-align: top;\n",
       "    }\n",
       "\n",
       "    .dataframe thead th {\n",
       "        text-align: right;\n",
       "    }\n",
       "</style>\n",
       "<table border=\"1\" class=\"dataframe\">\n",
       "  <thead>\n",
       "    <tr style=\"text-align: right;\">\n",
       "      <th></th>\n",
       "      <th>Surf_cond</th>\n",
       "      <th>Weather_cond</th>\n",
       "      <th>Hour</th>\n",
       "      <th>Day</th>\n",
       "      <th>Corr_Reg_Adm</th>\n",
       "      <th>Intersection</th>\n",
       "      <th>Route Config</th>\n",
       "      <th>Route Direction</th>\n",
       "      <th>Sped Limit</th>\n",
       "      <th>Visibility</th>\n",
       "      <th>Activity</th>\n",
       "      <th>Category</th>\n",
       "      <th>Road condition</th>\n",
       "    </tr>\n",
       "    <tr>\n",
       "      <th>Severity</th>\n",
       "      <th></th>\n",
       "      <th></th>\n",
       "      <th></th>\n",
       "      <th></th>\n",
       "      <th></th>\n",
       "      <th></th>\n",
       "      <th></th>\n",
       "      <th></th>\n",
       "      <th></th>\n",
       "      <th></th>\n",
       "      <th></th>\n",
       "      <th></th>\n",
       "      <th></th>\n",
       "    </tr>\n",
       "  </thead>\n",
       "  <tbody>\n",
       "    <tr>\n",
       "      <th>1.0</th>\n",
       "      <td>-0.445391</td>\n",
       "      <td>-0.458048</td>\n",
       "      <td>0.457920</td>\n",
       "      <td>-0.573864</td>\n",
       "      <td>-0.233046</td>\n",
       "      <td>-1.0</td>\n",
       "      <td>-0.847268</td>\n",
       "      <td>0.972598</td>\n",
       "      <td>-0.175092</td>\n",
       "      <td>-0.775695</td>\n",
       "      <td>-0.513651</td>\n",
       "      <td>-0.396483</td>\n",
       "      <td>-0.411364</td>\n",
       "    </tr>\n",
       "    <tr>\n",
       "      <th>2.0</th>\n",
       "      <td>-0.451113</td>\n",
       "      <td>-0.453828</td>\n",
       "      <td>0.439426</td>\n",
       "      <td>-0.296993</td>\n",
       "      <td>-0.242041</td>\n",
       "      <td>1.0</td>\n",
       "      <td>-0.852672</td>\n",
       "      <td>0.536875</td>\n",
       "      <td>-0.149673</td>\n",
       "      <td>-0.723240</td>\n",
       "      <td>-0.534396</td>\n",
       "      <td>-0.447858</td>\n",
       "      <td>-0.411202</td>\n",
       "    </tr>\n",
       "    <tr>\n",
       "      <th>3.0</th>\n",
       "      <td>-0.467770</td>\n",
       "      <td>-0.461712</td>\n",
       "      <td>0.490336</td>\n",
       "      <td>-0.573238</td>\n",
       "      <td>-0.247264</td>\n",
       "      <td>1.0</td>\n",
       "      <td>-0.655075</td>\n",
       "      <td>0.568855</td>\n",
       "      <td>-0.124444</td>\n",
       "      <td>-0.764609</td>\n",
       "      <td>-0.521160</td>\n",
       "      <td>-0.405208</td>\n",
       "      <td>-0.410783</td>\n",
       "    </tr>\n",
       "    <tr>\n",
       "      <th>4.0</th>\n",
       "      <td>-0.478971</td>\n",
       "      <td>-0.508197</td>\n",
       "      <td>0.592679</td>\n",
       "      <td>-0.301655</td>\n",
       "      <td>-0.981981</td>\n",
       "      <td>1.0</td>\n",
       "      <td>-0.605511</td>\n",
       "      <td>0.944911</td>\n",
       "      <td>0.024603</td>\n",
       "      <td>-0.660028</td>\n",
       "      <td>-0.509946</td>\n",
       "      <td>-0.381200</td>\n",
       "      <td>-0.415498</td>\n",
       "    </tr>\n",
       "    <tr>\n",
       "      <th>5.0</th>\n",
       "      <td>-0.855872</td>\n",
       "      <td>-0.736635</td>\n",
       "      <td>0.282556</td>\n",
       "      <td>-0.460239</td>\n",
       "      <td>1.000000</td>\n",
       "      <td>1.0</td>\n",
       "      <td>-0.489493</td>\n",
       "      <td>0.000000</td>\n",
       "      <td>0.367749</td>\n",
       "      <td>-0.643889</td>\n",
       "      <td>-0.512833</td>\n",
       "      <td>-0.330821</td>\n",
       "      <td>-0.304122</td>\n",
       "    </tr>\n",
       "  </tbody>\n",
       "</table>\n",
       "</div>"
      ],
      "text/plain": [
       "          Surf_cond  Weather_cond      Hour       Day  Corr_Reg_Adm  \\\n",
       "Severity                                                              \n",
       "1.0       -0.445391     -0.458048  0.457920 -0.573864     -0.233046   \n",
       "2.0       -0.451113     -0.453828  0.439426 -0.296993     -0.242041   \n",
       "3.0       -0.467770     -0.461712  0.490336 -0.573238     -0.247264   \n",
       "4.0       -0.478971     -0.508197  0.592679 -0.301655     -0.981981   \n",
       "5.0       -0.855872     -0.736635  0.282556 -0.460239      1.000000   \n",
       "\n",
       "          Intersection  Route Config  Route Direction  Sped Limit  Visibility  \\\n",
       "Severity                                                                        \n",
       "1.0               -1.0     -0.847268         0.972598   -0.175092   -0.775695   \n",
       "2.0                1.0     -0.852672         0.536875   -0.149673   -0.723240   \n",
       "3.0                1.0     -0.655075         0.568855   -0.124444   -0.764609   \n",
       "4.0                1.0     -0.605511         0.944911    0.024603   -0.660028   \n",
       "5.0                1.0     -0.489493         0.000000    0.367749   -0.643889   \n",
       "\n",
       "          Activity  Category  Road condition  \n",
       "Severity                                      \n",
       "1.0      -0.513651 -0.396483       -0.411364  \n",
       "2.0      -0.534396 -0.447858       -0.411202  \n",
       "3.0      -0.521160 -0.405208       -0.410783  \n",
       "4.0      -0.509946 -0.381200       -0.415498  \n",
       "5.0      -0.512833 -0.330821       -0.304122  "
      ]
     },
     "execution_count": 102,
     "metadata": {},
     "output_type": "execute_result"
    }
   ],
   "source": [
    "Corr_to_sev.rename(columns={0:'Severity'}, inplace=True)\n",
    "Corr_to_sev.set_index('Severity', inplace=True)\n",
    "Corr_to_sev.head()"
   ]
  },
  {
   "cell_type": "code",
   "execution_count": 103,
   "metadata": {},
   "outputs": [],
   "source": [
    "import matplotlib.pyplot as plt\n",
    "import seaborn as sns"
   ]
  },
  {
   "cell_type": "code",
   "execution_count": 104,
   "metadata": {},
   "outputs": [
    {
     "data": {
      "text/plain": [
       "<matplotlib.axes._subplots.AxesSubplot at 0x254420a3be0>"
      ]
     },
     "execution_count": 104,
     "metadata": {},
     "output_type": "execute_result"
    },
    {
     "data": {
      "image/png": "[encoded data removed]",
      "text/plain": [
       "<Figure size 1080x432 with 2 Axes>"
      ]
     },
     "metadata": {
      "needs_background": "light"
     },
     "output_type": "display_data"
    }
   ],
   "source": [
    "plt.figure(figsize=(15,6))\n",
    "plt.title('Correlation indexes to accident severity', size=20)\n",
    "sns.heatmap(Corr_to_sev, annot=True, cmap='PuOr', square=True, linewidths=.5)"
   ]
  },
  {
   "cell_type": "markdown",
   "metadata": {},
   "source": [
    "# This dataframe will includes all the 13 attributes prepared and displayed in the figure above\n",
    "\n",
    "### We will first create the data set\n",
    "\n",
    "##### GRAVITE = Severity of the accident\n",
    "##### CD_ETAT_SURF = Surface condition\n",
    "##### CD_COND_METEO = Weather condition\n",
    "##### HEURE_ACCDN = Hour of the accident\n",
    "##### JR_SEMN_ACCDN = Day of the week of the accident\n",
    "##### REG_ADM = region code\n",
    "##### TP_REPRR_ACCDN = Proximity to an intersection\n",
    "##### CD_CONFG_ROUTE = Configuration of the route\n",
    "##### CD_PNT_CDRNL_ROUTE = direction of the route\n",
    "##### VITESSE_AUTOR = Speed limit\n",
    "##### CD_ECLRM = visibility\n",
    "##### CD_ENVRN_ACCDN = activity of the route environment\n",
    "##### CD_CATEG_ROUTE = Category of the route\n",
    "##### CD_ETAT_CHASS = road condition"
   ]
  },
  {
   "cell_type": "code",
   "execution_count": 105,
   "metadata": {},
   "outputs": [
    {
     "data": {
      "text/html": [
       "<div>\n",
       "<style scoped>\n",
       "    .dataframe tbody tr th:only-of-type {\n",
       "        vertical-align: middle;\n",
       "    }\n",
       "\n",
       "    .dataframe tbody tr th {\n",
       "        vertical-align: top;\n",
       "    }\n",
       "\n",
       "    .dataframe thead th {\n",
       "        text-align: right;\n",
       "    }\n",
       "</style>\n",
       "<table border=\"1\" class=\"dataframe\">\n",
       "  <thead>\n",
       "    <tr style=\"text-align: right;\">\n",
       "      <th></th>\n",
       "      <th>GRAVITE</th>\n",
       "      <th>CD_ETAT_SURFC</th>\n",
       "      <th>CD_COND_METEO</th>\n",
       "      <th>HEURE_ACCDN</th>\n",
       "      <th>JR_SEMN_ACCDN</th>\n",
       "      <th>REG_ADM</th>\n",
       "      <th>TP_REPRR_ACCDN</th>\n",
       "      <th>CD_CONFG_ROUTE</th>\n",
       "      <th>CD_PNT_CDRNL_ROUTE</th>\n",
       "      <th>VITESSE_AUTOR</th>\n",
       "      <th>CD_ECLRM</th>\n",
       "      <th>CD_ENVRN_ACCDN</th>\n",
       "      <th>CD_CATEG_ROUTE</th>\n",
       "      <th>CD_ETAT_CHASS</th>\n",
       "    </tr>\n",
       "  </thead>\n",
       "  <tbody>\n",
       "    <tr>\n",
       "      <th>0</th>\n",
       "      <td>1.0</td>\n",
       "      <td>16.0</td>\n",
       "      <td>11.0</td>\n",
       "      <td>NaN</td>\n",
       "      <td>3.0</td>\n",
       "      <td>6.0</td>\n",
       "      <td>0.0</td>\n",
       "      <td>4.0</td>\n",
       "      <td>NaN</td>\n",
       "      <td>NaN</td>\n",
       "      <td>1.0</td>\n",
       "      <td>1.0</td>\n",
       "      <td>18.0</td>\n",
       "      <td>NaN</td>\n",
       "    </tr>\n",
       "    <tr>\n",
       "      <th>1</th>\n",
       "      <td>2.0</td>\n",
       "      <td>11.0</td>\n",
       "      <td>11.0</td>\n",
       "      <td>15.0</td>\n",
       "      <td>6.0</td>\n",
       "      <td>6.0</td>\n",
       "      <td>0.0</td>\n",
       "      <td>1.0</td>\n",
       "      <td>NaN</td>\n",
       "      <td>NaN</td>\n",
       "      <td>1.0</td>\n",
       "      <td>3.0</td>\n",
       "      <td>11.0</td>\n",
       "      <td>NaN</td>\n",
       "    </tr>\n",
       "    <tr>\n",
       "      <th>2</th>\n",
       "      <td>1.0</td>\n",
       "      <td>11.0</td>\n",
       "      <td>11.0</td>\n",
       "      <td>8.0</td>\n",
       "      <td>4.0</td>\n",
       "      <td>6.0</td>\n",
       "      <td>1.0</td>\n",
       "      <td>3.0</td>\n",
       "      <td>NaN</td>\n",
       "      <td>50.0</td>\n",
       "      <td>1.0</td>\n",
       "      <td>3.0</td>\n",
       "      <td>13.0</td>\n",
       "      <td>NaN</td>\n",
       "    </tr>\n",
       "    <tr>\n",
       "      <th>3</th>\n",
       "      <td>1.0</td>\n",
       "      <td>11.0</td>\n",
       "      <td>11.0</td>\n",
       "      <td>9.0</td>\n",
       "      <td>3.0</td>\n",
       "      <td>6.0</td>\n",
       "      <td>1.0</td>\n",
       "      <td>2.0</td>\n",
       "      <td>NaN</td>\n",
       "      <td>50.0</td>\n",
       "      <td>3.0</td>\n",
       "      <td>3.0</td>\n",
       "      <td>13.0</td>\n",
       "      <td>NaN</td>\n",
       "    </tr>\n",
       "    <tr>\n",
       "      <th>4</th>\n",
       "      <td>2.0</td>\n",
       "      <td>12.0</td>\n",
       "      <td>11.0</td>\n",
       "      <td>NaN</td>\n",
       "      <td>1.0</td>\n",
       "      <td>6.0</td>\n",
       "      <td>0.0</td>\n",
       "      <td>NaN</td>\n",
       "      <td>NaN</td>\n",
       "      <td>NaN</td>\n",
       "      <td>1.0</td>\n",
       "      <td>3.0</td>\n",
       "      <td>18.0</td>\n",
       "      <td>NaN</td>\n",
       "    </tr>\n",
       "  </tbody>\n",
       "</table>\n",
       "</div>"
      ],
      "text/plain": [
       "   GRAVITE  CD_ETAT_SURFC  CD_COND_METEO  HEURE_ACCDN  JR_SEMN_ACCDN  REG_ADM  \\\n",
       "0      1.0           16.0           11.0          NaN            3.0      6.0   \n",
       "1      2.0           11.0           11.0         15.0            6.0      6.0   \n",
       "2      1.0           11.0           11.0          8.0            4.0      6.0   \n",
       "3      1.0           11.0           11.0          9.0            3.0      6.0   \n",
       "4      2.0           12.0           11.0          NaN            1.0      6.0   \n",
       "\n",
       "   TP_REPRR_ACCDN  CD_CONFG_ROUTE  CD_PNT_CDRNL_ROUTE  VITESSE_AUTOR  \\\n",
       "0             0.0             4.0                 NaN            NaN   \n",
       "1             0.0             1.0                 NaN            NaN   \n",
       "2             1.0             3.0                 NaN           50.0   \n",
       "3             1.0             2.0                 NaN           50.0   \n",
       "4             0.0             NaN                 NaN            NaN   \n",
       "\n",
       "   CD_ECLRM  CD_ENVRN_ACCDN  CD_CATEG_ROUTE  CD_ETAT_CHASS  \n",
       "0       1.0             1.0            18.0            NaN  \n",
       "1       1.0             3.0            11.0            NaN  \n",
       "2       1.0             3.0            13.0            NaN  \n",
       "3       3.0             3.0            13.0            NaN  \n",
       "4       1.0             3.0            18.0            NaN  "
      ]
     },
     "execution_count": 105,
     "metadata": {},
     "output_type": "execute_result"
    }
   ],
   "source": [
    "df_model=df[['GRAVITE','CD_ETAT_SURFC','CD_COND_METEO','HEURE_ACCDN','JR_SEMN_ACCDN','REG_ADM','TP_REPRR_ACCDN','CD_CONFG_ROUTE','CD_PNT_CDRNL_ROUTE','VITESSE_AUTOR','CD_ECLRM','CD_ENVRN_ACCDN','CD_CATEG_ROUTE','CD_ETAT_CHASS']]\n",
    "df_model.head()"
   ]
  },
  {
   "cell_type": "markdown",
   "metadata": {},
   "source": [
    "### Feature set"
   ]
  },
  {
   "cell_type": "code",
   "execution_count": 106,
   "metadata": {},
   "outputs": [],
   "source": [
    "from sklearn import preprocessing\n",
    "from sklearn.utils import shuffle\n",
    "from sklearn.metrics import f1_score\n",
    "from sklearn.metrics import log_loss"
   ]
  },
  {
   "cell_type": "code",
   "execution_count": 107,
   "metadata": {},
   "outputs": [
    {
     "data": {
      "text/plain": [
       "(190552, 3)"
      ]
     },
     "execution_count": 107,
     "metadata": {},
     "output_type": "execute_result"
    }
   ],
   "source": [
    "df_m15=df_model.copy()[['GRAVITE','CD_ETAT_SURFC','CD_COND_METEO']]\n",
    "df_m15.shape"
   ]
  },
  {
   "cell_type": "code",
   "execution_count": 108,
   "metadata": {},
   "outputs": [
    {
     "data": {
      "text/plain": [
       "(176276, 3)"
      ]
     },
     "execution_count": 108,
     "metadata": {},
     "output_type": "execute_result"
    }
   ],
   "source": [
    "# dropping the nan entries\n",
    "df_m15.dropna(inplace=True)\n",
    "df_m15.shape"
   ]
  },
  {
   "cell_type": "code",
   "execution_count": 109,
   "metadata": {},
   "outputs": [
    {
     "data": {
      "text/html": [
       "<div>\n",
       "<style scoped>\n",
       "    .dataframe tbody tr th:only-of-type {\n",
       "        vertical-align: middle;\n",
       "    }\n",
       "\n",
       "    .dataframe tbody tr th {\n",
       "        vertical-align: top;\n",
       "    }\n",
       "\n",
       "    .dataframe thead th {\n",
       "        text-align: right;\n",
       "    }\n",
       "</style>\n",
       "<table border=\"1\" class=\"dataframe\">\n",
       "  <thead>\n",
       "    <tr style=\"text-align: right;\">\n",
       "      <th></th>\n",
       "      <th>GRAVITE</th>\n",
       "      <th>CD_ETAT_SURFC</th>\n",
       "      <th>CD_COND_METEO</th>\n",
       "    </tr>\n",
       "  </thead>\n",
       "  <tbody>\n",
       "    <tr>\n",
       "      <th>0</th>\n",
       "      <td>1.0</td>\n",
       "      <td>16.0</td>\n",
       "      <td>11.0</td>\n",
       "    </tr>\n",
       "    <tr>\n",
       "      <th>1</th>\n",
       "      <td>2.0</td>\n",
       "      <td>11.0</td>\n",
       "      <td>11.0</td>\n",
       "    </tr>\n",
       "    <tr>\n",
       "      <th>2</th>\n",
       "      <td>1.0</td>\n",
       "      <td>11.0</td>\n",
       "      <td>11.0</td>\n",
       "    </tr>\n",
       "    <tr>\n",
       "      <th>3</th>\n",
       "      <td>1.0</td>\n",
       "      <td>11.0</td>\n",
       "      <td>11.0</td>\n",
       "    </tr>\n",
       "    <tr>\n",
       "      <th>4</th>\n",
       "      <td>2.0</td>\n",
       "      <td>12.0</td>\n",
       "      <td>11.0</td>\n",
       "    </tr>\n",
       "  </tbody>\n",
       "</table>\n",
       "</div>"
      ],
      "text/plain": [
       "   GRAVITE  CD_ETAT_SURFC  CD_COND_METEO\n",
       "0      1.0           16.0           11.0\n",
       "1      2.0           11.0           11.0\n",
       "2      1.0           11.0           11.0\n",
       "3      1.0           11.0           11.0\n",
       "4      2.0           12.0           11.0"
      ]
     },
     "execution_count": 109,
     "metadata": {},
     "output_type": "execute_result"
    }
   ],
   "source": [
    "df_m15.head()"
   ]
  },
  {
   "cell_type": "code",
   "execution_count": null,
   "metadata": {},
   "outputs": [],
   "source": [
    "# shuffle data twice\n",
    "df_m15=shuffle(df_m15)\n",
    "df_m15.reset_index(inplace=True)\n",
    "df_m15=shuffle(df_m15)\n",
    "df_m15.reset_index(inplace=True)\n",
    "df_m15.head()"
   ]
  },
  {
   "cell_type": "markdown",
   "metadata": {},
   "source": [
    "### Generating copies of the data frame for each accident category"
   ]
  },
  {
   "cell_type": "code",
   "execution_count": 111,
   "metadata": {},
   "outputs": [],
   "source": [
    "df1_m15=df_m15.copy()\n",
    "df2_m15=df_m15.copy()\n",
    "df3_m15=df_m15.copy()\n",
    "df4_m15=df_m15.copy()\n",
    "df5_m15=df_m15.copy()"
   ]
  },
  {
   "cell_type": "code",
   "execution_count": 112,
   "metadata": {},
   "outputs": [],
   "source": [
    "df1_m15['GRAVITE'].replace([1.,2.,3.,4.,5.],[1.,0.,0.,0.,0.], inplace=True)\n",
    "df2_m15['GRAVITE'].replace([1.,2.,3.,4.,5.],[0.,1.,0.,0.,0.], inplace=True)\n",
    "df3_m15['GRAVITE'].replace([1.,2.,3.,4.,5.],[0.,0.,1.,0.,0.], inplace=True)\n",
    "df4_m15['GRAVITE'].replace([1.,2.,3.,4.,5.],[0.,0.,0.,1.,0.], inplace=True)\n",
    "df5_m15['GRAVITE'].replace([1.,2.,3.,4.,5.],[0.,0.,0.,0.,1.], inplace=True)"
   ]
  },
  {
   "cell_type": "code",
   "execution_count": 113,
   "metadata": {},
   "outputs": [],
   "source": [
    "X1=df1_m15[['GRAVITE','CD_ETAT_SURFC','CD_COND_METEO']].values\n",
    "X2=df2_m15[['GRAVITE','CD_ETAT_SURFC','CD_COND_METEO']].values\n",
    "X3=df3_m15[['GRAVITE','CD_ETAT_SURFC','CD_COND_METEO']].values\n",
    "X4=df4_m15[['GRAVITE','CD_ETAT_SURFC','CD_COND_METEO']].values\n",
    "X5=df5_m15[['GRAVITE','CD_ETAT_SURFC','CD_COND_METEO']].values"
   ]
  },
  {
   "cell_type": "code",
   "execution_count": 114,
   "metadata": {},
   "outputs": [],
   "source": [
    "y1=df1_m15['GRAVITE'].values\n",
    "y2=df2_m15['GRAVITE'].values\n",
    "y3=df3_m15['GRAVITE'].values\n",
    "y4=df4_m15['GRAVITE'].values\n",
    "y5=df5_m15['GRAVITE'].values"
   ]
  },
  {
   "cell_type": "markdown",
   "metadata": {},
   "source": [
    "### Normalize data"
   ]
  },
  {
   "cell_type": "code",
   "execution_count": 115,
   "metadata": {},
   "outputs": [],
   "source": [
    "X1 = preprocessing.StandardScaler().fit(X1).transform(X1.astype(float))\n",
    "X2 = preprocessing.StandardScaler().fit(X2).transform(X2.astype(float))\n",
    "X3 = preprocessing.StandardScaler().fit(X3).transform(X3.astype(float))\n",
    "X4 = preprocessing.StandardScaler().fit(X4).transform(X4.astype(float))\n",
    "X5 = preprocessing.StandardScaler().fit(X5).transform(X5.astype(float))"
   ]
  },
  {
   "cell_type": "markdown",
   "metadata": {},
   "source": [
    "### Train Test Split"
   ]
  },
  {
   "cell_type": "code",
   "execution_count": 116,
   "metadata": {},
   "outputs": [],
   "source": [
    "from sklearn.model_selection import train_test_split\n",
    "\n",
    "X1_train, X1_test, y1_train, y1_test = train_test_split( X1, y1, test_size=0.2, random_state=0)\n",
    "X2_train, X2_test, y2_train, y2_test = train_test_split( X2, y2, test_size=0.2, random_state=0)\n",
    "X3_train, X3_test, y3_train, y3_test = train_test_split( X3, y3, test_size=0.2, random_state=0)\n",
    "X4_train, X4_test, y4_train, y4_test = train_test_split( X4, y4, test_size=0.2, random_state=0)\n",
    "X5_train, X5_test, y5_train, y5_test = train_test_split( X5, y5, test_size=0.2, random_state=0)"
   ]
  },
  {
   "cell_type": "code",
   "execution_count": 117,
   "metadata": {},
   "outputs": [],
   "source": [
    "from sklearn.metrics import classification_report, confusion_matrix\n",
    "import itertools\n",
    "def plot_confusion_matrix(cm, classes,\n",
    "                          normalize=False,\n",
    "                          title='Confusion matrix',\n",
    "                          cmap=plt.cm.Blues):\n",
    "    \"\"\"\n",
    "    This function prints and plots the confusion matrix.\n",
    "    Normalization can be applied by setting `normalize=True`.\n",
    "    \"\"\"\n",
    "    if normalize:\n",
    "        cm = cm.astype('float') / cm.sum(axis=1)[:, np.newaxis]\n",
    "        print(\"Normalized confusion matrix\")\n",
    "    else:\n",
    "        print('Confusion matrix, without normalization')\n",
    "\n",
    "    print(cm)\n",
    "\n",
    "    plt.imshow(cm, interpolation='nearest', cmap=cmap)\n",
    "    plt.title(title)\n",
    "    plt.colorbar()\n",
    "    tick_marks = np.arange(len(classes))\n",
    "    plt.xticks(tick_marks, classes, rotation=45)\n",
    "    plt.yticks(tick_marks, classes)\n",
    "\n",
    "    fmt = '.2f' if normalize else 'd'\n",
    "    thresh = cm.max() / 2.\n",
    "    for i, j in itertools.product(range(cm.shape[0]), range(cm.shape[1])):\n",
    "        plt.text(j, i, format(cm[i, j], fmt),\n",
    "                 horizontalalignment=\"center\",\n",
    "                 color=\"white\" if cm[i, j] > thresh else \"black\")\n",
    "\n",
    "    plt.tight_layout()\n",
    "    plt.ylabel('True label')\n",
    "    plt.xlabel('Predicted label')"
   ]
  },
  {
   "cell_type": "markdown",
   "metadata": {},
   "source": [
    "# Classification\n",
    "\n",
    "#### Import library"
   ]
  },
  {
   "cell_type": "code",
   "execution_count": 118,
   "metadata": {},
   "outputs": [],
   "source": [
    "from sklearn.neighbors import KNeighborsClassifier\n",
    "from sklearn import metrics"
   ]
  },
  {
   "cell_type": "markdown",
   "metadata": {},
   "source": [
    "# Decision Tree (DT)\n",
    "#### import library"
   ]
  },
  {
   "cell_type": "code",
   "execution_count": 119,
   "metadata": {},
   "outputs": [],
   "source": [
    "from sklearn.tree import DecisionTreeClassifier"
   ]
  },
  {
   "cell_type": "markdown",
   "metadata": {},
   "source": [
    "#### model training"
   ]
  },
  {
   "cell_type": "code",
   "execution_count": 120,
   "metadata": {},
   "outputs": [],
   "source": [
    "depth=5\n",
    "Accident_Tree_sev1 = DecisionTreeClassifier(criterion=\"entropy\", max_depth = depth)\n",
    "Accident_Tree_sev2 = DecisionTreeClassifier(criterion=\"entropy\", max_depth = depth)\n",
    "Accident_Tree_sev3 = DecisionTreeClassifier(criterion=\"entropy\", max_depth = depth)\n",
    "Accident_Tree_sev4 = DecisionTreeClassifier(criterion=\"entropy\", max_depth = depth)\n",
    "Accident_Tree_sev5 = DecisionTreeClassifier(criterion=\"entropy\", max_depth = depth)"
   ]
  },
  {
   "cell_type": "code",
   "execution_count": 121,
   "metadata": {},
   "outputs": [
    {
     "name": "stdout",
     "output_type": "stream",
     "text": [
      "Time to train=  0.08586335182189941\n"
     ]
    }
   ],
   "source": [
    "start=time.time()\n",
    "Accident_Tree_sev1.fit(X1_train,y1_train)\n",
    "Accident_Tree_sev2.fit(X2_train,y2_train)\n",
    "Accident_Tree_sev3.fit(X3_train,y3_train)\n",
    "Accident_Tree_sev4.fit(X4_train,y4_train)\n",
    "Accident_Tree_sev5.fit(X5_train,y5_train)\n",
    "time_to_trainDT=time.time()-start\n",
    "print('Time to train= ',time_to_trainDT)"
   ]
  },
  {
   "cell_type": "markdown",
   "metadata": {},
   "source": [
    "#### predicting and model assessment"
   ]
  },
  {
   "cell_type": "code",
   "execution_count": 122,
   "metadata": {},
   "outputs": [
    {
     "name": "stdout",
     "output_type": "stream",
     "text": [
      "Time to predict=  0.005984306335449219\n",
      "DecisionTrees's Accuracy sev1:  1.0\n",
      "F1-score sev1=  1.0\n"
     ]
    }
   ],
   "source": [
    "start=time.time()\n",
    "yhatDT1=Accident_Tree_sev1.predict(X1_test)\n",
    "yhatDT2=Accident_Tree_sev2.predict(X2_test)\n",
    "yhatDT3=Accident_Tree_sev3.predict(X3_test)\n",
    "yhatDT4=Accident_Tree_sev4.predict(X4_test)\n",
    "yhatDT5=Accident_Tree_sev5.predict(X5_test)\n",
    "time_to_predictDT=time.time()-start\n",
    "print('Time to predict= ',time_to_predictDT)\n",
    "print(\"DecisionTrees's Accuracy sev1: \", metrics.accuracy_score(y1_test, yhatDT1))\n",
    "print ('F1-score sev1= ', f1_score(y1_test, yhatDT1, average='weighted'))"
   ]
  },
  {
   "cell_type": "code",
   "execution_count": 123,
   "metadata": {},
   "outputs": [
    {
     "name": "stdout",
     "output_type": "stream",
     "text": [
      "DecisionTrees's Accuracy sev2:  1.0\n",
      "F1-score sev2=  1.0\n"
     ]
    }
   ],
   "source": [
    "print(\"DecisionTrees's Accuracy sev2: \", metrics.accuracy_score(y2_test, yhatDT2))\n",
    "print ('F1-score sev2= ', f1_score(y2_test, yhatDT2, average='weighted'))"
   ]
  },
  {
   "cell_type": "code",
   "execution_count": 124,
   "metadata": {},
   "outputs": [
    {
     "name": "stdout",
     "output_type": "stream",
     "text": [
      "DecisionTrees's Accuracy sev3:  1.0\n",
      "F1-score sev3=  1.0\n"
     ]
    }
   ],
   "source": [
    "print(\"DecisionTrees's Accuracy sev3: \", metrics.accuracy_score(y3_test, yhatDT3))\n",
    "print ('F1-score sev3= ', f1_score(y3_test, yhatDT3, average='weighted'))"
   ]
  },
  {
   "cell_type": "code",
   "execution_count": 125,
   "metadata": {},
   "outputs": [
    {
     "name": "stdout",
     "output_type": "stream",
     "text": [
      "DecisionTrees's Accuracy sev4:  1.0\n",
      "F1-score sev4=  1.0\n"
     ]
    }
   ],
   "source": [
    "print(\"DecisionTrees's Accuracy sev4: \", metrics.accuracy_score(y4_test, yhatDT4))\n",
    "print ('F1-score sev4= ', f1_score(y4_test, yhatDT4, average='weighted'))"
   ]
  },
  {
   "cell_type": "code",
   "execution_count": 126,
   "metadata": {},
   "outputs": [
    {
     "name": "stdout",
     "output_type": "stream",
     "text": [
      "DecisionTrees's Accuracy sev5:  0.9894769684592694\n",
      "F1-score sev5=  1.0\n"
     ]
    }
   ],
   "source": [
    "print(\"DecisionTrees's Accuracy sev5: \", metrics.accuracy_score(y4_test, yhatDT5))\n",
    "print ('F1-score sev5= ', f1_score(y5_test, yhatDT5, average='weighted'))"
   ]
  },
  {
   "cell_type": "code",
   "execution_count": 127,
   "metadata": {},
   "outputs": [
    {
     "name": "stdout",
     "output_type": "stream",
     "text": [
      "Confusion matrix, without normalization\n",
      "[[21372     0]\n",
      " [    0 13884]]\n",
      "Confusion matrix, without normalization\n",
      "[[21872     0]\n",
      " [    0 13384]]\n",
      "Confusion matrix, without normalization\n",
      "[[27639     0]\n",
      " [    0  7617]]\n",
      "Confusion matrix, without normalization\n",
      "[[34934     0]\n",
      " [    0   322]]\n",
      "Confusion matrix, without normalization\n",
      "[[35207     0]\n",
      " [    0    49]]\n"
     ]
    },
    {
     "data": {
      "image/png": "[encoded data removed]",
      "text/plain": [
       "<Figure size 1440x1440 with 10 Axes>"
      ]
     },
     "metadata": {
      "needs_background": "light"
     },
     "output_type": "display_data"
    }
   ],
   "source": [
    "# Compute confusion matrix\n",
    "fig=plt.figure(figsize=(20,20))\n",
    "\n",
    "conf1=fig.add_subplot(511)\n",
    "cnf_matrix_SVM = confusion_matrix(y1_test, yhatDT1, labels=[0,1])\n",
    "np.set_printoptions(precision=2)\n",
    "plot_confusion_matrix(cnf_matrix_SVM, classes=['Other','Severity 1'],normalize= False,  title='Model= DT severity 1')\n",
    "\n",
    "conf2=fig.add_subplot(512)\n",
    "cnf_matrix_SVM = confusion_matrix(y2_test, yhatDT2, labels=[0,1])\n",
    "np.set_printoptions(precision=2)\n",
    "plot_confusion_matrix(cnf_matrix_SVM, classes=['Other','Severity 2'],normalize= False,  title='Model= DT severity 2')\n",
    "\n",
    "conf3=fig.add_subplot(513)\n",
    "cnf_matrix_SVM = confusion_matrix(y3_test, yhatDT3, labels=[0,1])\n",
    "np.set_printoptions(precision=2)\n",
    "plot_confusion_matrix(cnf_matrix_SVM, classes=['Other','Severity 3'],normalize= False,  title='Model= DT severity 3')\n",
    "\n",
    "conf4=fig.add_subplot(514)\n",
    "cnf_matrix_SVM = confusion_matrix(y4_test, yhatDT4, labels=[0,1])\n",
    "np.set_printoptions(precision=2)\n",
    "plot_confusion_matrix(cnf_matrix_SVM, classes=['Other','Severity 4'],normalize= False,  title='Model= DT severity 4')\n",
    "\n",
    "conf5=fig.add_subplot(515)\n",
    "cnf_matrix_SVM = confusion_matrix(y5_test, yhatDT5, labels=[0,1])\n",
    "np.set_printoptions(precision=2)\n",
    "plot_confusion_matrix(cnf_matrix_SVM, classes=['Other','Severity 5'],normalize= False,  title='Model= DT severity 5')"
   ]
  },
  {
   "cell_type": "markdown",
   "metadata": {},
   "source": [
    "# Support Vector Machine (SVM)\n",
    "#### import library"
   ]
  },
  {
   "cell_type": "code",
   "execution_count": 128,
   "metadata": {},
   "outputs": [],
   "source": [
    "from sklearn import svm"
   ]
  },
  {
   "cell_type": "markdown",
   "metadata": {},
   "source": [
    "#### model training"
   ]
  },
  {
   "cell_type": "code",
   "execution_count": 129,
   "metadata": {},
   "outputs": [],
   "source": [
    "import SVM_func\n",
    "\n",
    "mapargSVM=[[X1_train, y1_train],\n",
    "           [X2_train, y2_train],\n",
    "           [X3_train, y3_train],\n",
    "           [X4_train, y4_train],\n",
    "           [X5_train, y5_train]]"
   ]
  },
  {
   "cell_type": "code",
   "execution_count": 130,
   "metadata": {},
   "outputs": [
    {
     "name": "stdout",
     "output_type": "stream",
     "text": [
      "time to train SVM= 1.1959129999999991\n"
     ]
    }
   ],
   "source": [
    "\n",
    "Start=time.perf_counter()\n",
    "pool=mp.Pool()\n",
    "SVMfit=pool.map(SVM_func.SVMfit, mapargSVM)\n",
    "pool.close()\n",
    "time_to_train_SVM=time.perf_counter()-Start\n",
    "print('time to train SVM=', time_to_train_SVM)"
   ]
  },
  {
   "cell_type": "markdown",
   "metadata": {},
   "source": [
    "#### prediction and model assessment"
   ]
  },
  {
   "cell_type": "code",
   "execution_count": 131,
   "metadata": {},
   "outputs": [],
   "source": [
    "mapargSVMpre=[[SVMfit[0], X1_test],\n",
    "              [SVMfit[1], X2_test],\n",
    "              [SVMfit[2], X3_test],\n",
    "              [SVMfit[3], X4_test],\n",
    "              [SVMfit[4], X5_test]]"
   ]
  },
  {
   "cell_type": "code",
   "execution_count": 132,
   "metadata": {},
   "outputs": [
    {
     "name": "stdout",
     "output_type": "stream",
     "text": [
      "time to predict SVM= 0.8590273999999987\n"
     ]
    }
   ],
   "source": [
    "Start=time.perf_counter()\n",
    "pool=mp.Pool()\n",
    "yhatSVM=pool.map(SVM_func.SVMpre, mapargSVMpre)\n",
    "pool.close()\n",
    "time_to_predict_SVM=time.perf_counter()-Start\n",
    "print('time to predict SVM=', time_to_predict_SVM)"
   ]
  },
  {
   "cell_type": "code",
   "execution_count": 133,
   "metadata": {},
   "outputs": [
    {
     "name": "stdout",
     "output_type": "stream",
     "text": [
      "SVM Accuracy sev 1:  1.0\n",
      "F1-score sev1=  1.0\n"
     ]
    }
   ],
   "source": [
    "print(\"SVM Accuracy sev 1: \", metrics.accuracy_score(y1_test, yhatSVM[0]))\n",
    "print ('F1-score sev1= ', f1_score(y1_test, yhatSVM[0], average='weighted'))"
   ]
  },
  {
   "cell_type": "code",
   "execution_count": 134,
   "metadata": {},
   "outputs": [
    {
     "name": "stdout",
     "output_type": "stream",
     "text": [
      "SVM Accuracy sev 2:  1.0\n",
      "F1-score sev1=  1.0\n"
     ]
    }
   ],
   "source": [
    "print(\"SVM Accuracy sev 2: \", metrics.accuracy_score(y2_test, yhatSVM[1]))\n",
    "print ('F1-score sev1= ', f1_score(y2_test, yhatSVM[1], average='weighted'))"
   ]
  },
  {
   "cell_type": "code",
   "execution_count": 135,
   "metadata": {},
   "outputs": [
    {
     "name": "stdout",
     "output_type": "stream",
     "text": [
      "SVM Accuracy sev 3:  1.0\n",
      "F1-score sev1=  1.0\n"
     ]
    }
   ],
   "source": [
    "print(\"SVM Accuracy sev 3: \", metrics.accuracy_score(y3_test, yhatSVM[2]))\n",
    "print ('F1-score sev1= ', f1_score(y3_test, yhatSVM[2], average='weighted'))"
   ]
  },
  {
   "cell_type": "code",
   "execution_count": 136,
   "metadata": {},
   "outputs": [
    {
     "name": "stdout",
     "output_type": "stream",
     "text": [
      "SVM Accuracy sev 4:  1.0\n",
      "F1-score sev1=  1.0\n"
     ]
    }
   ],
   "source": [
    "print(\"SVM Accuracy sev 4: \", metrics.accuracy_score(y4_test, yhatSVM[3]))\n",
    "print ('F1-score sev1= ', f1_score(y4_test, yhatSVM[3], average='weighted'))"
   ]
  },
  {
   "cell_type": "code",
   "execution_count": 137,
   "metadata": {},
   "outputs": [
    {
     "name": "stdout",
     "output_type": "stream",
     "text": [
      "SVM Accuracy sev 5:  1.0\n",
      "F1-score sev1=  1.0\n"
     ]
    }
   ],
   "source": [
    "print(\"SVM Accuracy sev 5: \", metrics.accuracy_score(y5_test, yhatSVM[4]))\n",
    "print ('F1-score sev1= ', f1_score(y5_test, yhatSVM[4], average='weighted'))"
   ]
  },
  {
   "cell_type": "code",
   "execution_count": 138,
   "metadata": {},
   "outputs": [
    {
     "name": "stdout",
     "output_type": "stream",
     "text": [
      "Confusion matrix, without normalization\n",
      "[[21372     0]\n",
      " [    0 13884]]\n",
      "Confusion matrix, without normalization\n",
      "[[21872     0]\n",
      " [    0 13384]]\n",
      "Confusion matrix, without normalization\n",
      "[[27639     0]\n",
      " [    0  7617]]\n",
      "Confusion matrix, without normalization\n",
      "[[34934     0]\n",
      " [    0   322]]\n",
      "Confusion matrix, without normalization\n",
      "[[35207     0]\n",
      " [    0    49]]\n"
     ]
    },
    {
     "data": {
      "image/png": "[encoded data removed]",
      "text/plain": [
       "<Figure size 1440x1440 with 10 Axes>"
      ]
     },
     "metadata": {
      "needs_background": "light"
     },
     "output_type": "display_data"
    }
   ],
   "source": [
    "# Compute confusion matrix\n",
    "fig=plt.figure(figsize=(20,20))\n",
    "\n",
    "conf1=fig.add_subplot(511)\n",
    "cnf_matrix_SVM = confusion_matrix(y1_test, yhatSVM[0], labels=[0,1])\n",
    "np.set_printoptions(precision=2)\n",
    "plot_confusion_matrix(cnf_matrix_SVM, classes=['Other','Severity 1'],normalize= False,  title='Model = SVM severity 1')\n",
    "\n",
    "conf2=fig.add_subplot(512)\n",
    "cnf_matrix_SVM = confusion_matrix(y2_test, yhatSVM[1], labels=[0,1])\n",
    "np.set_printoptions(precision=2)\n",
    "plot_confusion_matrix(cnf_matrix_SVM, classes=['Other','Severity 2'],normalize= False,  title='Model = SVM severity 2')\n",
    "\n",
    "conf3=fig.add_subplot(513)\n",
    "cnf_matrix_SVM = confusion_matrix(y3_test, yhatSVM[2], labels=[0,1])\n",
    "np.set_printoptions(precision=2)\n",
    "plot_confusion_matrix(cnf_matrix_SVM, classes=['Other','Severity 3'],normalize= False,  title='Model =  SVM severity 3')\n",
    "\n",
    "conf4=fig.add_subplot(514)\n",
    "cnf_matrix_SVM = confusion_matrix(y4_test, yhatSVM[3], labels=[0,1])\n",
    "np.set_printoptions(precision=2)\n",
    "plot_confusion_matrix(cnf_matrix_SVM, classes=['Other','Severity 4'],normalize= False,  title='Model = SVM severity 4')\n",
    "\n",
    "conf5=fig.add_subplot(515)\n",
    "cnf_matrix_SVM = confusion_matrix(y5_test, yhatSVM[4], labels=[0,1])\n",
    "np.set_printoptions(precision=2)\n",
    "plot_confusion_matrix(cnf_matrix_SVM, classes=['Other','Severity 5'],normalize= False,  title='Model = SVM severity 5')"
   ]
  },
  {
   "cell_type": "markdown",
   "metadata": {},
   "source": [
    "# Logistic regression (LR)\n",
    "#### import libraries"
   ]
  },
  {
   "cell_type": "code",
   "execution_count": 139,
   "metadata": {},
   "outputs": [],
   "source": [
    "from sklearn.linear_model import LogisticRegression"
   ]
  },
  {
   "cell_type": "markdown",
   "metadata": {},
   "source": [
    "#### model training"
   ]
  },
  {
   "cell_type": "code",
   "execution_count": 140,
   "metadata": {},
   "outputs": [],
   "source": [
    "import LR_func\n",
    "\n",
    "mapargLR=[[X1_train, y1_train],\n",
    "          [X2_train, y2_train],\n",
    "          [X3_train, y3_train],\n",
    "          [X4_train, y4_train],\n",
    "          [X5_train, y5_train]]"
   ]
  },
  {
   "cell_type": "code",
   "execution_count": 141,
   "metadata": {},
   "outputs": [
    {
     "name": "stdout",
     "output_type": "stream",
     "text": [
      "time to train LR= 0.9939374000000001\n"
     ]
    }
   ],
   "source": [
    "Start=time.perf_counter()\n",
    "pool=mp.Pool()\n",
    "LRfit=pool.map(LR_func.LRfit, mapargLR)\n",
    "pool.close()\n",
    "time_to_train_LR=time.perf_counter()-Start\n",
    "print('time to train LR=', time_to_train_LR)"
   ]
  },
  {
   "cell_type": "markdown",
   "metadata": {},
   "source": [
    "#### Prediction and assessment"
   ]
  },
  {
   "cell_type": "code",
   "execution_count": 142,
   "metadata": {},
   "outputs": [],
   "source": [
    "mapargLRpre=[[LRfit[0], X1_test],\n",
    "             [LRfit[1], X2_test],\n",
    "             [LRfit[2], X3_test],\n",
    "             [LRfit[3], X4_test],\n",
    "             [LRfit[4], X5_test]]"
   ]
  },
  {
   "cell_type": "code",
   "execution_count": 143,
   "metadata": {},
   "outputs": [
    {
     "name": "stdout",
     "output_type": "stream",
     "text": [
      "time to predict LR= 0.8677755999999999\n"
     ]
    }
   ],
   "source": [
    "Start=time.perf_counter()\n",
    "pool=mp.Pool()\n",
    "yhatLR=pool.map(LR_func.LRpre, mapargLRpre)\n",
    "pool.close()\n",
    "time_to_predict_LR=time.perf_counter()-Start\n",
    "print('time to predict LR=', time_to_predict_LR)"
   ]
  },
  {
   "cell_type": "code",
   "execution_count": 144,
   "metadata": {},
   "outputs": [
    {
     "name": "stdout",
     "output_type": "stream",
     "text": [
      "Confusion matrix, without normalization\n",
      "[[21372     0]\n",
      " [    0 13884]]\n",
      "Confusion matrix, without normalization\n",
      "[[21872     0]\n",
      " [    0 13384]]\n",
      "Confusion matrix, without normalization\n",
      "[[27639     0]\n",
      " [    0  7617]]\n",
      "Confusion matrix, without normalization\n",
      "[[34934     0]\n",
      " [    0   322]]\n",
      "Confusion matrix, without normalization\n",
      "[[35207     0]\n",
      " [    0    49]]\n"
     ]
    },
    {
     "data": {
      "image/png": "[encoded data removed]",
      "text/plain": [
       "<Figure size 1800x1440 with 10 Axes>"
      ]
     },
     "metadata": {
      "needs_background": "light"
     },
     "output_type": "display_data"
    }
   ],
   "source": [
    "fig=plt.figure(figsize=(25,20))\n",
    "\n",
    "conf1=fig.add_subplot(511)\n",
    "cnf_matrix_LR = confusion_matrix(y1_test, yhatLR[0], labels=[0,1])\n",
    "np.set_printoptions(precision=2)\n",
    "plot_confusion_matrix(cnf_matrix_LR, classes=[0,1],normalize= False,  title='Model= LR severity 1')\n",
    "\n",
    "conf2=fig.add_subplot(512)\n",
    "cnf_matrix_LR = confusion_matrix(y2_test, yhatLR[1], labels=[0,1])\n",
    "np.set_printoptions(precision=2)\n",
    "plot_confusion_matrix(cnf_matrix_LR, classes=[0,1],normalize= False,  title='Model= LR severity 2')\n",
    "\n",
    "conf3=fig.add_subplot(513)\n",
    "cnf_matrix_LR = confusion_matrix(y3_test, yhatLR[2], labels=[0,1])\n",
    "np.set_printoptions(precision=2)\n",
    "plot_confusion_matrix(cnf_matrix_LR, classes=[0,1],normalize= False,  title='Model= LR severity 3')\n",
    "\n",
    "conf4=fig.add_subplot(514)\n",
    "cnf_matrix_LR = confusion_matrix(y4_test, yhatLR[3], labels=[0,1])\n",
    "np.set_printoptions(precision=2)\n",
    "plot_confusion_matrix(cnf_matrix_LR, classes=[0,1],normalize= False,  title='Model= LR severity 4')\n",
    "\n",
    "conf5=fig.add_subplot(515)\n",
    "cnf_matrix_LR = confusion_matrix(y5_test, yhatLR[4], labels=[0,1])\n",
    "np.set_printoptions(precision=2)\n",
    "plot_confusion_matrix(cnf_matrix_LR, classes=[0,1],normalize= False,  title='Model= LR severity 5')"
   ]
  },
  {
   "cell_type": "code",
   "execution_count": null,
   "metadata": {},
   "outputs": [],
   "source": []
  },
  {
   "cell_type": "code",
   "execution_count": null,
   "metadata": {},
   "outputs": [],
   "source": []
  },
  {
   "cell_type": "code",
   "execution_count": null,
   "metadata": {},
   "outputs": [],
   "source": []
  },
  {
   "cell_type": "code",
   "execution_count": null,
   "metadata": {},
   "outputs": [],
   "source": []
  },
  {
   "cell_type": "code",
   "execution_count": null,
   "metadata": {},
   "outputs": [],
   "source": []
  },
  {
   "cell_type": "code",
   "execution_count": null,
   "metadata": {},
   "outputs": [],
   "source": []
  },
  {
   "cell_type": "code",
   "execution_count": null,
   "metadata": {},
   "outputs": [],
   "source": []
  },
  {
   "cell_type": "code",
   "execution_count": null,
   "metadata": {},
   "outputs": [],
   "source": []
  },
  {
   "cell_type": "code",
   "execution_count": null,
   "metadata": {},
   "outputs": [],
   "source": []
  },
  {
   "cell_type": "code",
   "execution_count": null,
   "metadata": {},
   "outputs": [],
   "source": []
  },
  {
   "cell_type": "code",
   "execution_count": null,
   "metadata": {},
   "outputs": [],
   "source": []
  },
  {
   "cell_type": "code",
   "execution_count": null,
   "metadata": {},
   "outputs": [],
   "source": []
  },
  {
   "cell_type": "code",
   "execution_count": null,
   "metadata": {},
   "outputs": [],
   "source": []
  },
  {
   "cell_type": "code",
   "execution_count": null,
   "metadata": {},
   "outputs": [],
   "source": []
  },
  {
   "cell_type": "code",
   "execution_count": null,
   "metadata": {},
   "outputs": [],
   "source": []
  }
 ],
 "metadata": {
  "kernelspec": {
   "display_name": "Python 3",
   "language": "python",
   "name": "python3"
  },
  "language_info": {
   "codemirror_mode": {
    "name": "ipython",
    "version": 3
   },
   "file_extension": ".py",
   "mimetype": "text/x-python",
   "name": "python",
   "nbconvert_exporter": "python",
   "pygments_lexer": "ipython3",
   "version": "3.8.3"
  }
 },
 "nbformat": 4,
 "nbformat_minor": 1
}
